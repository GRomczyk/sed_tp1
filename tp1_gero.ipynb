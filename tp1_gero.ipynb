{
 "cells": [
  {
   "cell_type": "markdown",
   "id": "8f31d273",
   "metadata": {
    "executionInfo": {
     "elapsed": 345,
     "status": "ok",
     "timestamp": 1628285293955,
     "user": {
      "displayName": "Rodrigo Castro",
      "photoUrl": "https://lh3.googleusercontent.com/a-/AOh14Ghb6vU3XlZbOt8v2XNxvKylJamDqmV_BWQc5MubWKE=s64",
      "userId": "00513184483602039361"
     },
     "user_tz": 180
    },
    "id": "W4IH1fA7bMwX",
    "tags": []
   },
   "source": [
    "# Inicialización\n",
    "\n",
    "Definamos algunas variables de entorno que utilizaremos a lo largo de este notebook:"
   ]
  },
  {
   "cell_type": "code",
   "execution_count": 2,
   "id": "c566404d",
   "metadata": {},
   "outputs": [],
   "source": [
    "from pathlib import Path\n",
    "\n",
    "CDPP_TP1 = Path.cwd()"
   ]
  },
  {
   "cell_type": "markdown",
   "id": "c34da42f",
   "metadata": {},
   "source": [
    "### Simulador CD++"
   ]
  },
  {
   "cell_type": "code",
   "execution_count": 22,
   "id": "13a0cb43",
   "metadata": {
    "scrolled": true,
    "tags": []
   },
   "outputs": [
    {
     "name": "stdout",
     "output_type": "stream",
     "text": [
      "g++ -c -I../../../src/cd++/.ipynb_checkpoints -I../../../src/cd++/atomics -I../../../src/cd++/atomics/cpu -I../../../src/cd++/atomics/cpu/obj -I../../../src/cd++/atomics/generator -I../../../src/cd++/atomics/generator/.ipynb_checkpoints -I../../../src/cd++/atomics/generator/obj -I../../../src/cd++/atomics/qss -I../../../src/cd++/atomics/qss/obj -I../../../src/cd++/atomics/queue -I../../../src/cd++/atomics/queue/obj -I../../../src/cd++/atomics/transducer -I../../../src/cd++/atomics/transducer/obj -I../../../src/cd++/cell -I../../../src/cd++/cell/obj -I../../../src/cd++/evt -I../../../src/cd++/evt/obj -I../../../src/cd++/main -I../../../src/cd++/main/obj -I../../../src/cd++/misc -I../../../src/cd++/misc/math -I../../../src/cd++/misc/math/obj -I../../../src/cd++/misc/obj -I../../../src/cd++/model -I../../../src/cd++/model/obj -I../../../src/cd++/model/state -I../../../src/cd++/model/state/obj -I../../../src/cd++/msg -I../../../src/cd++/msg/obj -I../../../src/cd++/parser -I../../../src/cd++/parser/cdlang -I../../../src/cd++/parser/cdlang/obj -I../../../src/cd++/parser/obj -I../../../src/cd++/proc -I../../../src/cd++/proc/obj -I../../../src/cd++/proc/state -I../../../src/cd++/proc/state/obj -I../../../src/cd++/sim -I../../../src/cd++/sim/loader -I../../../src/cd++/sim/loader/obj -I../../../src/cd++/utils -I../../../src/cd++/utils/log -I../../../src/cd++/utils/log/obj -I../../../src/cd++/utils/obj -I../../../src/cd++/val -I../../../src/cd++/val/obj -I../../../src/cd++/warped -I../../../src/cd++/warped/common -I../../../src/cd++/warped/common/obj -I../../../src/cd++/warped/notime -I../../../src/cd++/warped/notime/obj  -DREGISTER_ATOMICS -DKERNEL_NOTIME -DUSE_USER_VTIME -DHAS_BOOLEAN -g -O0 -Wall -Wno-deprecated -std=c++11  Medio.cpp -o /data/0-Facu/2022-2C-SEDs/SED/CDPP_ExtendedStates-codename-Santi/examples/sed_tp1/src/bin/Medio.o\n",
      "g++ -c -I../../../src/cd++/.ipynb_checkpoints -I../../../src/cd++/atomics -I../../../src/cd++/atomics/cpu -I../../../src/cd++/atomics/cpu/obj -I../../../src/cd++/atomics/generator -I../../../src/cd++/atomics/generator/.ipynb_checkpoints -I../../../src/cd++/atomics/generator/obj -I../../../src/cd++/atomics/qss -I../../../src/cd++/atomics/qss/obj -I../../../src/cd++/atomics/queue -I../../../src/cd++/atomics/queue/obj -I../../../src/cd++/atomics/transducer -I../../../src/cd++/atomics/transducer/obj -I../../../src/cd++/cell -I../../../src/cd++/cell/obj -I../../../src/cd++/evt -I../../../src/cd++/evt/obj -I../../../src/cd++/main -I../../../src/cd++/main/obj -I../../../src/cd++/misc -I../../../src/cd++/misc/math -I../../../src/cd++/misc/math/obj -I../../../src/cd++/misc/obj -I../../../src/cd++/model -I../../../src/cd++/model/obj -I../../../src/cd++/model/state -I../../../src/cd++/model/state/obj -I../../../src/cd++/msg -I../../../src/cd++/msg/obj -I../../../src/cd++/parser -I../../../src/cd++/parser/cdlang -I../../../src/cd++/parser/cdlang/obj -I../../../src/cd++/parser/obj -I../../../src/cd++/proc -I../../../src/cd++/proc/obj -I../../../src/cd++/proc/state -I../../../src/cd++/proc/state/obj -I../../../src/cd++/sim -I../../../src/cd++/sim/loader -I../../../src/cd++/sim/loader/obj -I../../../src/cd++/utils -I../../../src/cd++/utils/log -I../../../src/cd++/utils/log/obj -I../../../src/cd++/utils/obj -I../../../src/cd++/val -I../../../src/cd++/val/obj -I../../../src/cd++/warped -I../../../src/cd++/warped/common -I../../../src/cd++/warped/common/obj -I../../../src/cd++/warped/notime -I../../../src/cd++/warped/notime/obj  -DREGISTER_ATOMICS -DKERNEL_NOTIME -DUSE_USER_VTIME -DHAS_BOOLEAN -g -O0 -Wall -Wno-deprecated -std=c++11  Persona.cpp -o /data/0-Facu/2022-2C-SEDs/SED/CDPP_ExtendedStates-codename-Santi/examples/sed_tp1/src/bin/Persona.o\n",
      "make -C ../../../src/cd++ cd++ OUT_DIR=/data/0-Facu/2022-2C-SEDs/SED/CDPP_ExtendedStates-codename-Santi/examples/sed_tp1/src/bin MODEL_FLAGS=-DREGISTER_ATOMICS\n",
      "g++ -c -I../../../src/cd++/.ipynb_checkpoints -I../../../src/cd++/atomics -I../../../src/cd++/atomics/cpu -I../../../src/cd++/atomics/cpu/obj -I../../../src/cd++/atomics/generator -I../../../src/cd++/atomics/generator/.ipynb_checkpoints -I../../../src/cd++/atomics/generator/obj -I../../../src/cd++/atomics/qss -I../../../src/cd++/atomics/qss/obj -I../../../src/cd++/atomics/queue -I../../../src/cd++/atomics/queue/obj -I../../../src/cd++/atomics/transducer -I../../../src/cd++/atomics/transducer/obj -I../../../src/cd++/cell -I../../../src/cd++/cell/obj -I../../../src/cd++/evt -I../../../src/cd++/evt/obj -I../../../src/cd++/main -I../../../src/cd++/main/obj -I../../../src/cd++/misc -I../../../src/cd++/misc/math -I../../../src/cd++/misc/math/obj -I../../../src/cd++/misc/obj -I../../../src/cd++/model -I../../../src/cd++/model/obj -I../../../src/cd++/model/state -I../../../src/cd++/model/state/obj -I../../../src/cd++/msg -I../../../src/cd++/msg/obj -I../../../src/cd++/parser -I../../../src/cd++/parser/cdlang -I../../../src/cd++/parser/cdlang/obj -I../../../src/cd++/parser/obj -I../../../src/cd++/proc -I../../../src/cd++/proc/obj -I../../../src/cd++/proc/state -I../../../src/cd++/proc/state/obj -I../../../src/cd++/sim -I../../../src/cd++/sim/loader -I../../../src/cd++/sim/loader/obj -I../../../src/cd++/utils -I../../../src/cd++/utils/log -I../../../src/cd++/utils/log/obj -I../../../src/cd++/utils/obj -I../../../src/cd++/val -I../../../src/cd++/val/obj -I../../../src/cd++/warped -I../../../src/cd++/warped/common -I../../../src/cd++/warped/common/obj -I../../../src/cd++/warped/notime -I../../../src/cd++/warped/notime/obj  -DREGISTER_ATOMICS -DKERNEL_NOTIME -DUSE_USER_VTIME -DHAS_BOOLEAN -g -O0 -Wall -Wno-deprecated -std=c++11  register.cpp -o /data/0-Facu/2022-2C-SEDs/SED/CDPP_ExtendedStates-codename-Santi/examples/sed_tp1/src/bin/register.o\n",
      "make[1]: Entering directory '/data/0-Facu/2022-2C-SEDs/SED/CDPP_ExtendedStates-codename-Santi/src/cd++'\n",
      "make -C /data/0-Facu/2022-2C-SEDs/SED/CDPP_ExtendedStates-codename-Santi/src/cd++/atomics OBJ_DIR=obj SRC_DIR=/data/0-Facu/2022-2C-SEDs/SED/CDPP_ExtendedStates-codename-Santi/src/cd++ MODEL_FLAGS=-DREGISTER_ATOMICS\n",
      "make[2]: Entering directory '/data/0-Facu/2022-2C-SEDs/SED/CDPP_ExtendedStates-codename-Santi/src/cd++/atomics'\n",
      "make -C cpu OBJ_DIR=obj SRC_DIR=/data/0-Facu/2022-2C-SEDs/SED/CDPP_ExtendedStates-codename-Santi/src/cd++\n",
      "make[3]: Entering directory '/data/0-Facu/2022-2C-SEDs/SED/CDPP_ExtendedStates-codename-Santi/src/cd++/atomics/cpu'\n",
      "make[3]: Nothing to be done for 'all'.\n",
      "make[3]: Leaving directory '/data/0-Facu/2022-2C-SEDs/SED/CDPP_ExtendedStates-codename-Santi/src/cd++/atomics/cpu'\n",
      "make -C queue OBJ_DIR=obj SRC_DIR=/data/0-Facu/2022-2C-SEDs/SED/CDPP_ExtendedStates-codename-Santi/src/cd++\n",
      "make[3]: Entering directory '/data/0-Facu/2022-2C-SEDs/SED/CDPP_ExtendedStates-codename-Santi/src/cd++/atomics/queue'\n",
      "make[3]: Nothing to be done for 'all'.\n",
      "make[3]: Leaving directory '/data/0-Facu/2022-2C-SEDs/SED/CDPP_ExtendedStates-codename-Santi/src/cd++/atomics/queue'\n",
      "make -C qss OBJ_DIR=obj SRC_DIR=/data/0-Facu/2022-2C-SEDs/SED/CDPP_ExtendedStates-codename-Santi/src/cd++\n",
      "make[3]: Entering directory '/data/0-Facu/2022-2C-SEDs/SED/CDPP_ExtendedStates-codename-Santi/src/cd++/atomics/qss'\n",
      "make[3]: Nothing to be done for 'all'.\n",
      "make[3]: Leaving directory '/data/0-Facu/2022-2C-SEDs/SED/CDPP_ExtendedStates-codename-Santi/src/cd++/atomics/qss'\n",
      "make -C generator OBJ_DIR=obj SRC_DIR=/data/0-Facu/2022-2C-SEDs/SED/CDPP_ExtendedStates-codename-Santi/src/cd++\n",
      "make[3]: Entering directory '/data/0-Facu/2022-2C-SEDs/SED/CDPP_ExtendedStates-codename-Santi/src/cd++/atomics/generator'\n",
      "make[3]: Nothing to be done for 'all'.\n",
      "make[3]: Leaving directory '/data/0-Facu/2022-2C-SEDs/SED/CDPP_ExtendedStates-codename-Santi/src/cd++/atomics/generator'\n",
      "make -C transducer OBJ_DIR=obj SRC_DIR=/data/0-Facu/2022-2C-SEDs/SED/CDPP_ExtendedStates-codename-Santi/src/cd++\n",
      "make[3]: Entering directory '/data/0-Facu/2022-2C-SEDs/SED/CDPP_ExtendedStates-codename-Santi/src/cd++/atomics/transducer'\n",
      "make[3]: Nothing to be done for 'all'.\n",
      "make[3]: Leaving directory '/data/0-Facu/2022-2C-SEDs/SED/CDPP_ExtendedStates-codename-Santi/src/cd++/atomics/transducer'\n",
      "make[2]: Leaving directory '/data/0-Facu/2022-2C-SEDs/SED/CDPP_ExtendedStates-codename-Santi/src/cd++/atomics'\n",
      "make -C /data/0-Facu/2022-2C-SEDs/SED/CDPP_ExtendedStates-codename-Santi/src/cd++/cell OBJ_DIR=obj SRC_DIR=/data/0-Facu/2022-2C-SEDs/SED/CDPP_ExtendedStates-codename-Santi/src/cd++ MODEL_FLAGS=-DREGISTER_ATOMICS\n",
      "make[2]: Entering directory '/data/0-Facu/2022-2C-SEDs/SED/CDPP_ExtendedStates-codename-Santi/src/cd++/cell'\n",
      "make[2]: Nothing to be done for 'all'.\n",
      "make[2]: Leaving directory '/data/0-Facu/2022-2C-SEDs/SED/CDPP_ExtendedStates-codename-Santi/src/cd++/cell'\n",
      "make -C /data/0-Facu/2022-2C-SEDs/SED/CDPP_ExtendedStates-codename-Santi/src/cd++/evt OBJ_DIR=obj SRC_DIR=/data/0-Facu/2022-2C-SEDs/SED/CDPP_ExtendedStates-codename-Santi/src/cd++ MODEL_FLAGS=-DREGISTER_ATOMICS\n",
      "make[2]: Entering directory '/data/0-Facu/2022-2C-SEDs/SED/CDPP_ExtendedStates-codename-Santi/src/cd++/evt'\n",
      "make[2]: Nothing to be done for 'all'.\n",
      "make[2]: Leaving directory '/data/0-Facu/2022-2C-SEDs/SED/CDPP_ExtendedStates-codename-Santi/src/cd++/evt'\n",
      "make -C /data/0-Facu/2022-2C-SEDs/SED/CDPP_ExtendedStates-codename-Santi/src/cd++/misc OBJ_DIR=obj SRC_DIR=/data/0-Facu/2022-2C-SEDs/SED/CDPP_ExtendedStates-codename-Santi/src/cd++ MODEL_FLAGS=-DREGISTER_ATOMICS\n",
      "make[2]: Entering directory '/data/0-Facu/2022-2C-SEDs/SED/CDPP_ExtendedStates-codename-Santi/src/cd++/misc'\n",
      "make -C math OBJ_DIR=obj SRC_DIR=/data/0-Facu/2022-2C-SEDs/SED/CDPP_ExtendedStates-codename-Santi/src/cd++\n",
      "make[3]: Entering directory '/data/0-Facu/2022-2C-SEDs/SED/CDPP_ExtendedStates-codename-Santi/src/cd++/misc/math'\n",
      "make[3]: Nothing to be done for 'all'.\n",
      "make[3]: Leaving directory '/data/0-Facu/2022-2C-SEDs/SED/CDPP_ExtendedStates-codename-Santi/src/cd++/misc/math'\n",
      "make[2]: Leaving directory '/data/0-Facu/2022-2C-SEDs/SED/CDPP_ExtendedStates-codename-Santi/src/cd++/misc'\n",
      "make -C /data/0-Facu/2022-2C-SEDs/SED/CDPP_ExtendedStates-codename-Santi/src/cd++/model OBJ_DIR=obj SRC_DIR=/data/0-Facu/2022-2C-SEDs/SED/CDPP_ExtendedStates-codename-Santi/src/cd++ MODEL_FLAGS=-DREGISTER_ATOMICS\n",
      "make[2]: Entering directory '/data/0-Facu/2022-2C-SEDs/SED/CDPP_ExtendedStates-codename-Santi/src/cd++/model'\n",
      "make -C state OBJ_DIR=obj SRC_DIR=/data/0-Facu/2022-2C-SEDs/SED/CDPP_ExtendedStates-codename-Santi/src/cd++\n",
      "make[3]: Entering directory '/data/0-Facu/2022-2C-SEDs/SED/CDPP_ExtendedStates-codename-Santi/src/cd++/model/state'\n",
      "make[3]: Nothing to be done for 'all'.\n",
      "make[3]: Leaving directory '/data/0-Facu/2022-2C-SEDs/SED/CDPP_ExtendedStates-codename-Santi/src/cd++/model/state'\n",
      "make[2]: Leaving directory '/data/0-Facu/2022-2C-SEDs/SED/CDPP_ExtendedStates-codename-Santi/src/cd++/model'\n",
      "make -C /data/0-Facu/2022-2C-SEDs/SED/CDPP_ExtendedStates-codename-Santi/src/cd++/msg OBJ_DIR=obj SRC_DIR=/data/0-Facu/2022-2C-SEDs/SED/CDPP_ExtendedStates-codename-Santi/src/cd++ MODEL_FLAGS=-DREGISTER_ATOMICS\n",
      "make[2]: Entering directory '/data/0-Facu/2022-2C-SEDs/SED/CDPP_ExtendedStates-codename-Santi/src/cd++/msg'\n",
      "make[2]: Nothing to be done for 'all'.\n",
      "make[2]: Leaving directory '/data/0-Facu/2022-2C-SEDs/SED/CDPP_ExtendedStates-codename-Santi/src/cd++/msg'\n",
      "make -C /data/0-Facu/2022-2C-SEDs/SED/CDPP_ExtendedStates-codename-Santi/src/cd++/parser OBJ_DIR=obj SRC_DIR=/data/0-Facu/2022-2C-SEDs/SED/CDPP_ExtendedStates-codename-Santi/src/cd++ MODEL_FLAGS=-DREGISTER_ATOMICS\n",
      "make[2]: Entering directory '/data/0-Facu/2022-2C-SEDs/SED/CDPP_ExtendedStates-codename-Santi/src/cd++/parser'\n",
      "make -C cdlang OBJ_DIR=obj SRC_DIR=/data/0-Facu/2022-2C-SEDs/SED/CDPP_ExtendedStates-codename-Santi/src/cd++\n",
      "make[3]: Entering directory '/data/0-Facu/2022-2C-SEDs/SED/CDPP_ExtendedStates-codename-Santi/src/cd++/parser/cdlang'\n",
      "g++ -c -I/data/0-Facu/2022-2C-SEDs/SED/CDPP_ExtendedStates-codename-Santi/src/cd++/.ipynb_checkpoints -I/data/0-Facu/2022-2C-SEDs/SED/CDPP_ExtendedStates-codename-Santi/src/cd++/atomics -I/data/0-Facu/2022-2C-SEDs/SED/CDPP_ExtendedStates-codename-Santi/src/cd++/atomics/cpu -I/data/0-Facu/2022-2C-SEDs/SED/CDPP_ExtendedStates-codename-Santi/src/cd++/atomics/cpu/obj -I/data/0-Facu/2022-2C-SEDs/SED/CDPP_ExtendedStates-codename-Santi/src/cd++/atomics/generator -I/data/0-Facu/2022-2C-SEDs/SED/CDPP_ExtendedStates-codename-Santi/src/cd++/atomics/generator/.ipynb_checkpoints -I/data/0-Facu/2022-2C-SEDs/SED/CDPP_ExtendedStates-codename-Santi/src/cd++/atomics/generator/obj -I/data/0-Facu/2022-2C-SEDs/SED/CDPP_ExtendedStates-codename-Santi/src/cd++/atomics/qss -I/data/0-Facu/2022-2C-SEDs/SED/CDPP_ExtendedStates-codename-Santi/src/cd++/atomics/qss/obj -I/data/0-Facu/2022-2C-SEDs/SED/CDPP_ExtendedStates-codename-Santi/src/cd++/atomics/queue -I/data/0-Facu/2022-2C-SEDs/SED/CDPP_ExtendedStates-codename-Santi/src/cd++/atomics/queue/obj -I/data/0-Facu/2022-2C-SEDs/SED/CDPP_ExtendedStates-codename-Santi/src/cd++/atomics/transducer -I/data/0-Facu/2022-2C-SEDs/SED/CDPP_ExtendedStates-codename-Santi/src/cd++/atomics/transducer/obj -I/data/0-Facu/2022-2C-SEDs/SED/CDPP_ExtendedStates-codename-Santi/src/cd++/cell -I/data/0-Facu/2022-2C-SEDs/SED/CDPP_ExtendedStates-codename-Santi/src/cd++/cell/obj -I/data/0-Facu/2022-2C-SEDs/SED/CDPP_ExtendedStates-codename-Santi/src/cd++/evt -I/data/0-Facu/2022-2C-SEDs/SED/CDPP_ExtendedStates-codename-Santi/src/cd++/evt/obj -I/data/0-Facu/2022-2C-SEDs/SED/CDPP_ExtendedStates-codename-Santi/src/cd++/main -I/data/0-Facu/2022-2C-SEDs/SED/CDPP_ExtendedStates-codename-Santi/src/cd++/main/obj -I/data/0-Facu/2022-2C-SEDs/SED/CDPP_ExtendedStates-codename-Santi/src/cd++/misc -I/data/0-Facu/2022-2C-SEDs/SED/CDPP_ExtendedStates-codename-Santi/src/cd++/misc/math -I/data/0-Facu/2022-2C-SEDs/SED/CDPP_ExtendedStates-codename-Santi/src/cd++/misc/math/obj -I/data/0-Facu/2022-2C-SEDs/SED/CDPP_ExtendedStates-codename-Santi/src/cd++/misc/obj -I/data/0-Facu/2022-2C-SEDs/SED/CDPP_ExtendedStates-codename-Santi/src/cd++/model -I/data/0-Facu/2022-2C-SEDs/SED/CDPP_ExtendedStates-codename-Santi/src/cd++/model/obj -I/data/0-Facu/2022-2C-SEDs/SED/CDPP_ExtendedStates-codename-Santi/src/cd++/model/state -I/data/0-Facu/2022-2C-SEDs/SED/CDPP_ExtendedStates-codename-Santi/src/cd++/model/state/obj -I/data/0-Facu/2022-2C-SEDs/SED/CDPP_ExtendedStates-codename-Santi/src/cd++/msg -I/data/0-Facu/2022-2C-SEDs/SED/CDPP_ExtendedStates-codename-Santi/src/cd++/msg/obj -I/data/0-Facu/2022-2C-SEDs/SED/CDPP_ExtendedStates-codename-Santi/src/cd++/parser -I/data/0-Facu/2022-2C-SEDs/SED/CDPP_ExtendedStates-codename-Santi/src/cd++/parser/cdlang -I/data/0-Facu/2022-2C-SEDs/SED/CDPP_ExtendedStates-codename-Santi/src/cd++/parser/cdlang/obj -I/data/0-Facu/2022-2C-SEDs/SED/CDPP_ExtendedStates-codename-Santi/src/cd++/parser/obj -I/data/0-Facu/2022-2C-SEDs/SED/CDPP_ExtendedStates-codename-Santi/src/cd++/proc -I/data/0-Facu/2022-2C-SEDs/SED/CDPP_ExtendedStates-codename-Santi/src/cd++/proc/obj -I/data/0-Facu/2022-2C-SEDs/SED/CDPP_ExtendedStates-codename-Santi/src/cd++/proc/state -I/data/0-Facu/2022-2C-SEDs/SED/CDPP_ExtendedStates-codename-Santi/src/cd++/proc/state/obj -I/data/0-Facu/2022-2C-SEDs/SED/CDPP_ExtendedStates-codename-Santi/src/cd++/sim -I/data/0-Facu/2022-2C-SEDs/SED/CDPP_ExtendedStates-codename-Santi/src/cd++/sim/loader -I/data/0-Facu/2022-2C-SEDs/SED/CDPP_ExtendedStates-codename-Santi/src/cd++/sim/loader/obj -I/data/0-Facu/2022-2C-SEDs/SED/CDPP_ExtendedStates-codename-Santi/src/cd++/utils -I/data/0-Facu/2022-2C-SEDs/SED/CDPP_ExtendedStates-codename-Santi/src/cd++/utils/log -I/data/0-Facu/2022-2C-SEDs/SED/CDPP_ExtendedStates-codename-Santi/src/cd++/utils/log/obj -I/data/0-Facu/2022-2C-SEDs/SED/CDPP_ExtendedStates-codename-Santi/src/cd++/utils/obj -I/data/0-Facu/2022-2C-SEDs/SED/CDPP_ExtendedStates-codename-Santi/src/cd++/val -I/data/0-Facu/2022-2C-SEDs/SED/CDPP_ExtendedStates-codename-Santi/src/cd++/val/obj -I/data/0-Facu/2022-2C-SEDs/SED/CDPP_ExtendedStates-codename-Santi/src/cd++/warped -I/data/0-Facu/2022-2C-SEDs/SED/CDPP_ExtendedStates-codename-Santi/src/cd++/warped/common -I/data/0-Facu/2022-2C-SEDs/SED/CDPP_ExtendedStates-codename-Santi/src/cd++/warped/common/obj -I/data/0-Facu/2022-2C-SEDs/SED/CDPP_ExtendedStates-codename-Santi/src/cd++/warped/notime -I/data/0-Facu/2022-2C-SEDs/SED/CDPP_ExtendedStates-codename-Santi/src/cd++/warped/notime/obj  -DREGISTER_ATOMICS -DKERNEL_NOTIME -DUSE_USER_VTIME -DHAS_BOOLEAN -g -O0 -Wall -Wno-deprecated -std=c++11  gram.c -o obj/gram.o\n"
     ]
    },
    {
     "name": "stderr",
     "output_type": "stream",
     "text": [
      "In file included from ../../../src/cd++/val/tbool.h:21,\n",
      "                 from ../../../src/cd++/val/real.h:22,\n",
      "                 from ../../../src/cd++/utils/strutil.h:28,\n",
      "                 from ../../../src/cd++/model/pmodeladm.h:29,\n",
      "                 from ../../../src/cd++/model/port.h:25,\n",
      "                 from ../../../src/cd++/model/model.h:26,\n",
      "                 from ../../../src/cd++/msg/message.h:26,\n",
      "                 from Persona.cpp:7:\n",
      "../../../src/cd++/val/tuple_value.h: In instantiation of ‘const T& Tuple<T>::operator[](int) const [with T = Real]’:\n",
      "Persona.cpp:118:27:   required from here\n",
      "../../../src/cd++/val/tuple_value.h:59:37: warning: comparison of integer expressions of different signedness: ‘int’ and ‘std::vector<Real, std::allocator<Real> >::size_type’ {aka ‘long unsigned int’} [-Wsign-compare]\n",
      "   59 |         MASSERT(index >= 0 && index < this->values.size());\n",
      "      |                               ~~~~~~^~~~~~~~~~~~~~~~~~~~~\n",
      "../../../src/cd++/misc/except.h:32:30: note: in definition of macro ‘MASSERT’\n",
      "   32 | #define MASSERT(lexp) if( !( lexp ) ) { AssertException e( \"Invalid assertion\" ) ; e.addText( #lexp ) ; e.addLocation( MEXCEPTION_LOCATION() ) ; throw e ; }\n",
      "      |                              ^~~~\n"
     ]
    },
    {
     "name": "stdout",
     "output_type": "stream",
     "text": [
      "g++ -c -I/data/0-Facu/2022-2C-SEDs/SED/CDPP_ExtendedStates-codename-Santi/src/cd++/.ipynb_checkpoints -I/data/0-Facu/2022-2C-SEDs/SED/CDPP_ExtendedStates-codename-Santi/src/cd++/atomics -I/data/0-Facu/2022-2C-SEDs/SED/CDPP_ExtendedStates-codename-Santi/src/cd++/atomics/cpu -I/data/0-Facu/2022-2C-SEDs/SED/CDPP_ExtendedStates-codename-Santi/src/cd++/atomics/cpu/obj -I/data/0-Facu/2022-2C-SEDs/SED/CDPP_ExtendedStates-codename-Santi/src/cd++/atomics/generator -I/data/0-Facu/2022-2C-SEDs/SED/CDPP_ExtendedStates-codename-Santi/src/cd++/atomics/generator/.ipynb_checkpoints -I/data/0-Facu/2022-2C-SEDs/SED/CDPP_ExtendedStates-codename-Santi/src/cd++/atomics/generator/obj -I/data/0-Facu/2022-2C-SEDs/SED/CDPP_ExtendedStates-codename-Santi/src/cd++/atomics/qss -I/data/0-Facu/2022-2C-SEDs/SED/CDPP_ExtendedStates-codename-Santi/src/cd++/atomics/qss/obj -I/data/0-Facu/2022-2C-SEDs/SED/CDPP_ExtendedStates-codename-Santi/src/cd++/atomics/queue -I/data/0-Facu/2022-2C-SEDs/SED/CDPP_ExtendedStates-codename-Santi/src/cd++/atomics/queue/obj -I/data/0-Facu/2022-2C-SEDs/SED/CDPP_ExtendedStates-codename-Santi/src/cd++/atomics/transducer -I/data/0-Facu/2022-2C-SEDs/SED/CDPP_ExtendedStates-codename-Santi/src/cd++/atomics/transducer/obj -I/data/0-Facu/2022-2C-SEDs/SED/CDPP_ExtendedStates-codename-Santi/src/cd++/cell -I/data/0-Facu/2022-2C-SEDs/SED/CDPP_ExtendedStates-codename-Santi/src/cd++/cell/obj -I/data/0-Facu/2022-2C-SEDs/SED/CDPP_ExtendedStates-codename-Santi/src/cd++/evt -I/data/0-Facu/2022-2C-SEDs/SED/CDPP_ExtendedStates-codename-Santi/src/cd++/evt/obj -I/data/0-Facu/2022-2C-SEDs/SED/CDPP_ExtendedStates-codename-Santi/src/cd++/main -I/data/0-Facu/2022-2C-SEDs/SED/CDPP_ExtendedStates-codename-Santi/src/cd++/main/obj -I/data/0-Facu/2022-2C-SEDs/SED/CDPP_ExtendedStates-codename-Santi/src/cd++/misc -I/data/0-Facu/2022-2C-SEDs/SED/CDPP_ExtendedStates-codename-Santi/src/cd++/misc/math -I/data/0-Facu/2022-2C-SEDs/SED/CDPP_ExtendedStates-codename-Santi/src/cd++/misc/math/obj -I/data/0-Facu/2022-2C-SEDs/SED/CDPP_ExtendedStates-codename-Santi/src/cd++/misc/obj -I/data/0-Facu/2022-2C-SEDs/SED/CDPP_ExtendedStates-codename-Santi/src/cd++/model -I/data/0-Facu/2022-2C-SEDs/SED/CDPP_ExtendedStates-codename-Santi/src/cd++/model/obj -I/data/0-Facu/2022-2C-SEDs/SED/CDPP_ExtendedStates-codename-Santi/src/cd++/model/state -I/data/0-Facu/2022-2C-SEDs/SED/CDPP_ExtendedStates-codename-Santi/src/cd++/model/state/obj -I/data/0-Facu/2022-2C-SEDs/SED/CDPP_ExtendedStates-codename-Santi/src/cd++/msg -I/data/0-Facu/2022-2C-SEDs/SED/CDPP_ExtendedStates-codename-Santi/src/cd++/msg/obj -I/data/0-Facu/2022-2C-SEDs/SED/CDPP_ExtendedStates-codename-Santi/src/cd++/parser -I/data/0-Facu/2022-2C-SEDs/SED/CDPP_ExtendedStates-codename-Santi/src/cd++/parser/cdlang -I/data/0-Facu/2022-2C-SEDs/SED/CDPP_ExtendedStates-codename-Santi/src/cd++/parser/cdlang/obj -I/data/0-Facu/2022-2C-SEDs/SED/CDPP_ExtendedStates-codename-Santi/src/cd++/parser/obj -I/data/0-Facu/2022-2C-SEDs/SED/CDPP_ExtendedStates-codename-Santi/src/cd++/proc -I/data/0-Facu/2022-2C-SEDs/SED/CDPP_ExtendedStates-codename-Santi/src/cd++/proc/obj -I/data/0-Facu/2022-2C-SEDs/SED/CDPP_ExtendedStates-codename-Santi/src/cd++/proc/state -I/data/0-Facu/2022-2C-SEDs/SED/CDPP_ExtendedStates-codename-Santi/src/cd++/proc/state/obj -I/data/0-Facu/2022-2C-SEDs/SED/CDPP_ExtendedStates-codename-Santi/src/cd++/sim -I/data/0-Facu/2022-2C-SEDs/SED/CDPP_ExtendedStates-codename-Santi/src/cd++/sim/loader -I/data/0-Facu/2022-2C-SEDs/SED/CDPP_ExtendedStates-codename-Santi/src/cd++/sim/loader/obj -I/data/0-Facu/2022-2C-SEDs/SED/CDPP_ExtendedStates-codename-Santi/src/cd++/utils -I/data/0-Facu/2022-2C-SEDs/SED/CDPP_ExtendedStates-codename-Santi/src/cd++/utils/log -I/data/0-Facu/2022-2C-SEDs/SED/CDPP_ExtendedStates-codename-Santi/src/cd++/utils/log/obj -I/data/0-Facu/2022-2C-SEDs/SED/CDPP_ExtendedStates-codename-Santi/src/cd++/utils/obj -I/data/0-Facu/2022-2C-SEDs/SED/CDPP_ExtendedStates-codename-Santi/src/cd++/val -I/data/0-Facu/2022-2C-SEDs/SED/CDPP_ExtendedStates-codename-Santi/src/cd++/val/obj -I/data/0-Facu/2022-2C-SEDs/SED/CDPP_ExtendedStates-codename-Santi/src/cd++/warped -I/data/0-Facu/2022-2C-SEDs/SED/CDPP_ExtendedStates-codename-Santi/src/cd++/warped/common -I/data/0-Facu/2022-2C-SEDs/SED/CDPP_ExtendedStates-codename-Santi/src/cd++/warped/common/obj -I/data/0-Facu/2022-2C-SEDs/SED/CDPP_ExtendedStates-codename-Santi/src/cd++/warped/notime -I/data/0-Facu/2022-2C-SEDs/SED/CDPP_ExtendedStates-codename-Santi/src/cd++/warped/notime/obj  -DREGISTER_ATOMICS -DKERNEL_NOTIME -DUSE_USER_VTIME -DHAS_BOOLEAN -g -O0 -Wall -Wno-deprecated -std=c++11  parser.cpp -o obj/parser.o\n",
      "make -C /data/0-Facu/2022-2C-SEDs/SED/CDPP_ExtendedStates-codename-Santi/src/cd++/proc OBJ_DIR=obj SRC_DIR=/data/0-Facu/2022-2C-SEDs/SED/CDPP_ExtendedStates-codename-Santi/src/cd++ MODEL_FLAGS=-DREGISTER_ATOMICS\n",
      "make[2]: Entering directory '/data/0-Facu/2022-2C-SEDs/SED/CDPP_ExtendedStates-codename-Santi/src/cd++/proc'\n",
      "make -C state OBJ_DIR=obj SRC_DIR=/data/0-Facu/2022-2C-SEDs/SED/CDPP_ExtendedStates-codename-Santi/src/cd++\n",
      "make[3]: Entering directory '/data/0-Facu/2022-2C-SEDs/SED/CDPP_ExtendedStates-codename-Santi/src/cd++/proc/state'\n",
      "make[3]: Nothing to be done for 'all'.\n",
      "make[3]: Leaving directory '/data/0-Facu/2022-2C-SEDs/SED/CDPP_ExtendedStates-codename-Santi/src/cd++/proc/state'\n",
      "make[2]: Leaving directory '/data/0-Facu/2022-2C-SEDs/SED/CDPP_ExtendedStates-codename-Santi/src/cd++/proc'\n",
      "make -C /data/0-Facu/2022-2C-SEDs/SED/CDPP_ExtendedStates-codename-Santi/src/cd++/sim OBJ_DIR=obj SRC_DIR=/data/0-Facu/2022-2C-SEDs/SED/CDPP_ExtendedStates-codename-Santi/src/cd++ MODEL_FLAGS=-DREGISTER_ATOMICS\n",
      "make[2]: Entering directory '/data/0-Facu/2022-2C-SEDs/SED/CDPP_ExtendedStates-codename-Santi/src/cd++/sim'\n",
      "make -C /data/0-Facu/2022-2C-SEDs/SED/CDPP_ExtendedStates-codename-Santi/src/cd++/utils OBJ_DIR=obj SRC_DIR=/data/0-Facu/2022-2C-SEDs/SED/CDPP_ExtendedStates-codename-Santi/src/cd++ MODEL_FLAGS=-DREGISTER_ATOMICS\n",
      "make[2]: Entering directory '/data/0-Facu/2022-2C-SEDs/SED/CDPP_ExtendedStates-codename-Santi/src/cd++/utils'\n",
      "make -C log OBJ_DIR=obj SRC_DIR=/data/0-Facu/2022-2C-SEDs/SED/CDPP_ExtendedStates-codename-Santi/src/cd++\n",
      "make[3]: Entering directory '/data/0-Facu/2022-2C-SEDs/SED/CDPP_ExtendedStates-codename-Santi/src/cd++/utils/log'\n",
      "make[3]: Nothing to be done for 'all'.\n",
      "make[3]: Leaving directory '/data/0-Facu/2022-2C-SEDs/SED/CDPP_ExtendedStates-codename-Santi/src/cd++/utils/log'\n",
      "make[2]: Leaving directory '/data/0-Facu/2022-2C-SEDs/SED/CDPP_ExtendedStates-codename-Santi/src/cd++/utils'\n",
      "make -C /data/0-Facu/2022-2C-SEDs/SED/CDPP_ExtendedStates-codename-Santi/src/cd++/val OBJ_DIR=obj SRC_DIR=/data/0-Facu/2022-2C-SEDs/SED/CDPP_ExtendedStates-codename-Santi/src/cd++ MODEL_FLAGS=-DREGISTER_ATOMICS\n",
      "make[2]: Entering directory '/data/0-Facu/2022-2C-SEDs/SED/CDPP_ExtendedStates-codename-Santi/src/cd++/val'\n",
      "make[2]: Nothing to be done for 'all'.\n",
      "make[2]: Leaving directory '/data/0-Facu/2022-2C-SEDs/SED/CDPP_ExtendedStates-codename-Santi/src/cd++/val'\n",
      "make -C /data/0-Facu/2022-2C-SEDs/SED/CDPP_ExtendedStates-codename-Santi/src/cd++/main OBJ_DIR=obj SRC_DIR=/data/0-Facu/2022-2C-SEDs/SED/CDPP_ExtendedStates-codename-Santi/src/cd++ MODEL_FLAGS=-DREGISTER_ATOMICS\n",
      "make[2]: Entering directory '/data/0-Facu/2022-2C-SEDs/SED/CDPP_ExtendedStates-codename-Santi/src/cd++/main'\n",
      "make[2]: Nothing to be done for 'all'.\n",
      "make[2]: Leaving directory '/data/0-Facu/2022-2C-SEDs/SED/CDPP_ExtendedStates-codename-Santi/src/cd++/main'\n",
      "make -C /data/0-Facu/2022-2C-SEDs/SED/CDPP_ExtendedStates-codename-Santi/src/cd++/warped OBJ_DIR=obj SRC_DIR=/data/0-Facu/2022-2C-SEDs/SED/CDPP_ExtendedStates-codename-Santi/src/cd++ MODEL_FLAGS=-DREGISTER_ATOMICS\n",
      "make[2]: Entering directory '/data/0-Facu/2022-2C-SEDs/SED/CDPP_ExtendedStates-codename-Santi/src/cd++/warped'\n",
      "make -C common OBJ_DIR=obj SRC_DIR=/data/0-Facu/2022-2C-SEDs/SED/CDPP_ExtendedStates-codename-Santi/src/cd++\n",
      "make[3]: Entering directory '/data/0-Facu/2022-2C-SEDs/SED/CDPP_ExtendedStates-codename-Santi/src/cd++/warped/common'\n",
      "make[3]: Nothing to be done for 'all'.\n",
      "make[3]: Leaving directory '/data/0-Facu/2022-2C-SEDs/SED/CDPP_ExtendedStates-codename-Santi/src/cd++/warped/common'\n",
      "make -C notime OBJ_DIR=obj SRC_DIR=/data/0-Facu/2022-2C-SEDs/SED/CDPP_ExtendedStates-codename-Santi/src/cd++\n",
      "make[3]: Entering directory '/data/0-Facu/2022-2C-SEDs/SED/CDPP_ExtendedStates-codename-Santi/src/cd++/warped/notime'\n",
      "make[3]: Nothing to be done for 'all'.\n",
      "make[3]: Leaving directory '/data/0-Facu/2022-2C-SEDs/SED/CDPP_ExtendedStates-codename-Santi/src/cd++/warped/notime'\n",
      "make[2]: Leaving directory '/data/0-Facu/2022-2C-SEDs/SED/CDPP_ExtendedStates-codename-Santi/src/cd++/warped'\n",
      "make clean\n",
      "g++ -c -I/data/0-Facu/2022-2C-SEDs/SED/CDPP_ExtendedStates-codename-Santi/src/cd++/.ipynb_checkpoints -I/data/0-Facu/2022-2C-SEDs/SED/CDPP_ExtendedStates-codename-Santi/src/cd++/atomics -I/data/0-Facu/2022-2C-SEDs/SED/CDPP_ExtendedStates-codename-Santi/src/cd++/atomics/cpu -I/data/0-Facu/2022-2C-SEDs/SED/CDPP_ExtendedStates-codename-Santi/src/cd++/atomics/cpu/obj -I/data/0-Facu/2022-2C-SEDs/SED/CDPP_ExtendedStates-codename-Santi/src/cd++/atomics/generator -I/data/0-Facu/2022-2C-SEDs/SED/CDPP_ExtendedStates-codename-Santi/src/cd++/atomics/generator/.ipynb_checkpoints -I/data/0-Facu/2022-2C-SEDs/SED/CDPP_ExtendedStates-codename-Santi/src/cd++/atomics/generator/obj -I/data/0-Facu/2022-2C-SEDs/SED/CDPP_ExtendedStates-codename-Santi/src/cd++/atomics/qss -I/data/0-Facu/2022-2C-SEDs/SED/CDPP_ExtendedStates-codename-Santi/src/cd++/atomics/qss/obj -I/data/0-Facu/2022-2C-SEDs/SED/CDPP_ExtendedStates-codename-Santi/src/cd++/atomics/queue -I/data/0-Facu/2022-2C-SEDs/SED/CDPP_ExtendedStates-codename-Santi/src/cd++/atomics/queue/obj -I/data/0-Facu/2022-2C-SEDs/SED/CDPP_ExtendedStates-codename-Santi/src/cd++/atomics/transducer -I/data/0-Facu/2022-2C-SEDs/SED/CDPP_ExtendedStates-codename-Santi/src/cd++/atomics/transducer/obj -I/data/0-Facu/2022-2C-SEDs/SED/CDPP_ExtendedStates-codename-Santi/src/cd++/cell -I/data/0-Facu/2022-2C-SEDs/SED/CDPP_ExtendedStates-codename-Santi/src/cd++/cell/obj -I/data/0-Facu/2022-2C-SEDs/SED/CDPP_ExtendedStates-codename-Santi/src/cd++/evt -I/data/0-Facu/2022-2C-SEDs/SED/CDPP_ExtendedStates-codename-Santi/src/cd++/evt/obj -I/data/0-Facu/2022-2C-SEDs/SED/CDPP_ExtendedStates-codename-Santi/src/cd++/main -I/data/0-Facu/2022-2C-SEDs/SED/CDPP_ExtendedStates-codename-Santi/src/cd++/main/obj -I/data/0-Facu/2022-2C-SEDs/SED/CDPP_ExtendedStates-codename-Santi/src/cd++/misc -I/data/0-Facu/2022-2C-SEDs/SED/CDPP_ExtendedStates-codename-Santi/src/cd++/misc/math -I/data/0-Facu/2022-2C-SEDs/SED/CDPP_ExtendedStates-codename-Santi/src/cd++/misc/math/obj -I/data/0-Facu/2022-2C-SEDs/SED/CDPP_ExtendedStates-codename-Santi/src/cd++/misc/obj -I/data/0-Facu/2022-2C-SEDs/SED/CDPP_ExtendedStates-codename-Santi/src/cd++/model -I/data/0-Facu/2022-2C-SEDs/SED/CDPP_ExtendedStates-codename-Santi/src/cd++/model/obj -I/data/0-Facu/2022-2C-SEDs/SED/CDPP_ExtendedStates-codename-Santi/src/cd++/model/state -I/data/0-Facu/2022-2C-SEDs/SED/CDPP_ExtendedStates-codename-Santi/src/cd++/model/state/obj -I/data/0-Facu/2022-2C-SEDs/SED/CDPP_ExtendedStates-codename-Santi/src/cd++/msg -I/data/0-Facu/2022-2C-SEDs/SED/CDPP_ExtendedStates-codename-Santi/src/cd++/msg/obj -I/data/0-Facu/2022-2C-SEDs/SED/CDPP_ExtendedStates-codename-Santi/src/cd++/parser -I/data/0-Facu/2022-2C-SEDs/SED/CDPP_ExtendedStates-codename-Santi/src/cd++/parser/cdlang -I/data/0-Facu/2022-2C-SEDs/SED/CDPP_ExtendedStates-codename-Santi/src/cd++/parser/cdlang/obj -I/data/0-Facu/2022-2C-SEDs/SED/CDPP_ExtendedStates-codename-Santi/src/cd++/parser/obj -I/data/0-Facu/2022-2C-SEDs/SED/CDPP_ExtendedStates-codename-Santi/src/cd++/proc -I/data/0-Facu/2022-2C-SEDs/SED/CDPP_ExtendedStates-codename-Santi/src/cd++/proc/obj -I/data/0-Facu/2022-2C-SEDs/SED/CDPP_ExtendedStates-codename-Santi/src/cd++/proc/state -I/data/0-Facu/2022-2C-SEDs/SED/CDPP_ExtendedStates-codename-Santi/src/cd++/proc/state/obj -I/data/0-Facu/2022-2C-SEDs/SED/CDPP_ExtendedStates-codename-Santi/src/cd++/sim -I/data/0-Facu/2022-2C-SEDs/SED/CDPP_ExtendedStates-codename-Santi/src/cd++/sim/loader -I/data/0-Facu/2022-2C-SEDs/SED/CDPP_ExtendedStates-codename-Santi/src/cd++/sim/loader/obj -I/data/0-Facu/2022-2C-SEDs/SED/CDPP_ExtendedStates-codename-Santi/src/cd++/utils -I/data/0-Facu/2022-2C-SEDs/SED/CDPP_ExtendedStates-codename-Santi/src/cd++/utils/log -I/data/0-Facu/2022-2C-SEDs/SED/CDPP_ExtendedStates-codename-Santi/src/cd++/utils/log/obj -I/data/0-Facu/2022-2C-SEDs/SED/CDPP_ExtendedStates-codename-Santi/src/cd++/utils/obj -I/data/0-Facu/2022-2C-SEDs/SED/CDPP_ExtendedStates-codename-Santi/src/cd++/val -I/data/0-Facu/2022-2C-SEDs/SED/CDPP_ExtendedStates-codename-Santi/src/cd++/val/obj -I/data/0-Facu/2022-2C-SEDs/SED/CDPP_ExtendedStates-codename-Santi/src/cd++/warped -I/data/0-Facu/2022-2C-SEDs/SED/CDPP_ExtendedStates-codename-Santi/src/cd++/warped/common -I/data/0-Facu/2022-2C-SEDs/SED/CDPP_ExtendedStates-codename-Santi/src/cd++/warped/common/obj -I/data/0-Facu/2022-2C-SEDs/SED/CDPP_ExtendedStates-codename-Santi/src/cd++/warped/notime -I/data/0-Facu/2022-2C-SEDs/SED/CDPP_ExtendedStates-codename-Santi/src/cd++/warped/notime/obj  -DREGISTER_ATOMICS -DKERNEL_NOTIME -DUSE_USER_VTIME -DHAS_BOOLEAN -g -O0 -Wall -Wno-deprecated -std=c++11  parsimu.cpp -o obj/parsimu.o\n",
      "make[3]: Entering directory '/data/0-Facu/2022-2C-SEDs/SED/CDPP_ExtendedStates-codename-Santi/src/cd++/sim'\n",
      "make -C loader clean OBJ_DIR=obj SRC_DIR=/data/0-Facu/2022-2C-SEDs/SED/CDPP_ExtendedStates-codename-Santi/src/cd++\n",
      "make[4]: Entering directory '/data/0-Facu/2022-2C-SEDs/SED/CDPP_ExtendedStates-codename-Santi/src/cd++/sim/loader'\n",
      "make[4]: Leaving directory '/data/0-Facu/2022-2C-SEDs/SED/CDPP_ExtendedStates-codename-Santi/src/cd++/sim/loader'\n",
      "make[3]: Leaving directory '/data/0-Facu/2022-2C-SEDs/SED/CDPP_ExtendedStates-codename-Santi/src/cd++/sim'\n",
      "make -C loader OBJ_DIR=obj SRC_DIR=/data/0-Facu/2022-2C-SEDs/SED/CDPP_ExtendedStates-codename-Santi/src/cd++\n",
      "make[3]: Entering directory '/data/0-Facu/2022-2C-SEDs/SED/CDPP_ExtendedStates-codename-Santi/src/cd++/sim/loader'\n",
      "g++ -c -I/data/0-Facu/2022-2C-SEDs/SED/CDPP_ExtendedStates-codename-Santi/src/cd++/.ipynb_checkpoints -I/data/0-Facu/2022-2C-SEDs/SED/CDPP_ExtendedStates-codename-Santi/src/cd++/atomics -I/data/0-Facu/2022-2C-SEDs/SED/CDPP_ExtendedStates-codename-Santi/src/cd++/atomics/cpu -I/data/0-Facu/2022-2C-SEDs/SED/CDPP_ExtendedStates-codename-Santi/src/cd++/atomics/cpu/obj -I/data/0-Facu/2022-2C-SEDs/SED/CDPP_ExtendedStates-codename-Santi/src/cd++/atomics/generator -I/data/0-Facu/2022-2C-SEDs/SED/CDPP_ExtendedStates-codename-Santi/src/cd++/atomics/generator/.ipynb_checkpoints -I/data/0-Facu/2022-2C-SEDs/SED/CDPP_ExtendedStates-codename-Santi/src/cd++/atomics/generator/obj -I/data/0-Facu/2022-2C-SEDs/SED/CDPP_ExtendedStates-codename-Santi/src/cd++/atomics/qss -I/data/0-Facu/2022-2C-SEDs/SED/CDPP_ExtendedStates-codename-Santi/src/cd++/atomics/qss/obj -I/data/0-Facu/2022-2C-SEDs/SED/CDPP_ExtendedStates-codename-Santi/src/cd++/atomics/queue -I/data/0-Facu/2022-2C-SEDs/SED/CDPP_ExtendedStates-codename-Santi/src/cd++/atomics/queue/obj -I/data/0-Facu/2022-2C-SEDs/SED/CDPP_ExtendedStates-codename-Santi/src/cd++/atomics/transducer -I/data/0-Facu/2022-2C-SEDs/SED/CDPP_ExtendedStates-codename-Santi/src/cd++/atomics/transducer/obj -I/data/0-Facu/2022-2C-SEDs/SED/CDPP_ExtendedStates-codename-Santi/src/cd++/cell -I/data/0-Facu/2022-2C-SEDs/SED/CDPP_ExtendedStates-codename-Santi/src/cd++/cell/obj -I/data/0-Facu/2022-2C-SEDs/SED/CDPP_ExtendedStates-codename-Santi/src/cd++/evt -I/data/0-Facu/2022-2C-SEDs/SED/CDPP_ExtendedStates-codename-Santi/src/cd++/evt/obj -I/data/0-Facu/2022-2C-SEDs/SED/CDPP_ExtendedStates-codename-Santi/src/cd++/main -I/data/0-Facu/2022-2C-SEDs/SED/CDPP_ExtendedStates-codename-Santi/src/cd++/main/obj -I/data/0-Facu/2022-2C-SEDs/SED/CDPP_ExtendedStates-codename-Santi/src/cd++/misc -I/data/0-Facu/2022-2C-SEDs/SED/CDPP_ExtendedStates-codename-Santi/src/cd++/misc/math -I/data/0-Facu/2022-2C-SEDs/SED/CDPP_ExtendedStates-codename-Santi/src/cd++/misc/math/obj -I/data/0-Facu/2022-2C-SEDs/SED/CDPP_ExtendedStates-codename-Santi/src/cd++/misc/obj -I/data/0-Facu/2022-2C-SEDs/SED/CDPP_ExtendedStates-codename-Santi/src/cd++/model -I/data/0-Facu/2022-2C-SEDs/SED/CDPP_ExtendedStates-codename-Santi/src/cd++/model/obj -I/data/0-Facu/2022-2C-SEDs/SED/CDPP_ExtendedStates-codename-Santi/src/cd++/model/state -I/data/0-Facu/2022-2C-SEDs/SED/CDPP_ExtendedStates-codename-Santi/src/cd++/model/state/obj -I/data/0-Facu/2022-2C-SEDs/SED/CDPP_ExtendedStates-codename-Santi/src/cd++/msg -I/data/0-Facu/2022-2C-SEDs/SED/CDPP_ExtendedStates-codename-Santi/src/cd++/msg/obj -I/data/0-Facu/2022-2C-SEDs/SED/CDPP_ExtendedStates-codename-Santi/src/cd++/parser -I/data/0-Facu/2022-2C-SEDs/SED/CDPP_ExtendedStates-codename-Santi/src/cd++/parser/cdlang -I/data/0-Facu/2022-2C-SEDs/SED/CDPP_ExtendedStates-codename-Santi/src/cd++/parser/cdlang/obj -I/data/0-Facu/2022-2C-SEDs/SED/CDPP_ExtendedStates-codename-Santi/src/cd++/parser/obj -I/data/0-Facu/2022-2C-SEDs/SED/CDPP_ExtendedStates-codename-Santi/src/cd++/proc -I/data/0-Facu/2022-2C-SEDs/SED/CDPP_ExtendedStates-codename-Santi/src/cd++/proc/obj -I/data/0-Facu/2022-2C-SEDs/SED/CDPP_ExtendedStates-codename-Santi/src/cd++/proc/state -I/data/0-Facu/2022-2C-SEDs/SED/CDPP_ExtendedStates-codename-Santi/src/cd++/proc/state/obj -I/data/0-Facu/2022-2C-SEDs/SED/CDPP_ExtendedStates-codename-Santi/src/cd++/sim -I/data/0-Facu/2022-2C-SEDs/SED/CDPP_ExtendedStates-codename-Santi/src/cd++/sim/loader -I/data/0-Facu/2022-2C-SEDs/SED/CDPP_ExtendedStates-codename-Santi/src/cd++/sim/loader/obj -I/data/0-Facu/2022-2C-SEDs/SED/CDPP_ExtendedStates-codename-Santi/src/cd++/utils -I/data/0-Facu/2022-2C-SEDs/SED/CDPP_ExtendedStates-codename-Santi/src/cd++/utils/log -I/data/0-Facu/2022-2C-SEDs/SED/CDPP_ExtendedStates-codename-Santi/src/cd++/utils/log/obj -I/data/0-Facu/2022-2C-SEDs/SED/CDPP_ExtendedStates-codename-Santi/src/cd++/utils/obj -I/data/0-Facu/2022-2C-SEDs/SED/CDPP_ExtendedStates-codename-Santi/src/cd++/val -I/data/0-Facu/2022-2C-SEDs/SED/CDPP_ExtendedStates-codename-Santi/src/cd++/val/obj -I/data/0-Facu/2022-2C-SEDs/SED/CDPP_ExtendedStates-codename-Santi/src/cd++/warped -I/data/0-Facu/2022-2C-SEDs/SED/CDPP_ExtendedStates-codename-Santi/src/cd++/warped/common -I/data/0-Facu/2022-2C-SEDs/SED/CDPP_ExtendedStates-codename-Santi/src/cd++/warped/common/obj -I/data/0-Facu/2022-2C-SEDs/SED/CDPP_ExtendedStates-codename-Santi/src/cd++/warped/notime -I/data/0-Facu/2022-2C-SEDs/SED/CDPP_ExtendedStates-codename-Santi/src/cd++/warped/notime/obj  -DREGISTER_ATOMICS -DKERNEL_NOTIME -DUSE_USER_VTIME -DHAS_BOOLEAN -g -O0 -Wall -Wno-deprecated -std=c++11  register.cpp -o obj/register.o\n",
      "g++ -c -I/data/0-Facu/2022-2C-SEDs/SED/CDPP_ExtendedStates-codename-Santi/src/cd++/.ipynb_checkpoints -I/data/0-Facu/2022-2C-SEDs/SED/CDPP_ExtendedStates-codename-Santi/src/cd++/atomics -I/data/0-Facu/2022-2C-SEDs/SED/CDPP_ExtendedStates-codename-Santi/src/cd++/atomics/cpu -I/data/0-Facu/2022-2C-SEDs/SED/CDPP_ExtendedStates-codename-Santi/src/cd++/atomics/cpu/obj -I/data/0-Facu/2022-2C-SEDs/SED/CDPP_ExtendedStates-codename-Santi/src/cd++/atomics/generator -I/data/0-Facu/2022-2C-SEDs/SED/CDPP_ExtendedStates-codename-Santi/src/cd++/atomics/generator/.ipynb_checkpoints -I/data/0-Facu/2022-2C-SEDs/SED/CDPP_ExtendedStates-codename-Santi/src/cd++/atomics/generator/obj -I/data/0-Facu/2022-2C-SEDs/SED/CDPP_ExtendedStates-codename-Santi/src/cd++/atomics/qss -I/data/0-Facu/2022-2C-SEDs/SED/CDPP_ExtendedStates-codename-Santi/src/cd++/atomics/qss/obj -I/data/0-Facu/2022-2C-SEDs/SED/CDPP_ExtendedStates-codename-Santi/src/cd++/atomics/queue -I/data/0-Facu/2022-2C-SEDs/SED/CDPP_ExtendedStates-codename-Santi/src/cd++/atomics/queue/obj -I/data/0-Facu/2022-2C-SEDs/SED/CDPP_ExtendedStates-codename-Santi/src/cd++/atomics/transducer -I/data/0-Facu/2022-2C-SEDs/SED/CDPP_ExtendedStates-codename-Santi/src/cd++/atomics/transducer/obj -I/data/0-Facu/2022-2C-SEDs/SED/CDPP_ExtendedStates-codename-Santi/src/cd++/cell -I/data/0-Facu/2022-2C-SEDs/SED/CDPP_ExtendedStates-codename-Santi/src/cd++/cell/obj -I/data/0-Facu/2022-2C-SEDs/SED/CDPP_ExtendedStates-codename-Santi/src/cd++/evt -I/data/0-Facu/2022-2C-SEDs/SED/CDPP_ExtendedStates-codename-Santi/src/cd++/evt/obj -I/data/0-Facu/2022-2C-SEDs/SED/CDPP_ExtendedStates-codename-Santi/src/cd++/main -I/data/0-Facu/2022-2C-SEDs/SED/CDPP_ExtendedStates-codename-Santi/src/cd++/main/obj -I/data/0-Facu/2022-2C-SEDs/SED/CDPP_ExtendedStates-codename-Santi/src/cd++/misc -I/data/0-Facu/2022-2C-SEDs/SED/CDPP_ExtendedStates-codename-Santi/src/cd++/misc/math -I/data/0-Facu/2022-2C-SEDs/SED/CDPP_ExtendedStates-codename-Santi/src/cd++/misc/math/obj -I/data/0-Facu/2022-2C-SEDs/SED/CDPP_ExtendedStates-codename-Santi/src/cd++/misc/obj -I/data/0-Facu/2022-2C-SEDs/SED/CDPP_ExtendedStates-codename-Santi/src/cd++/model -I/data/0-Facu/2022-2C-SEDs/SED/CDPP_ExtendedStates-codename-Santi/src/cd++/model/obj -I/data/0-Facu/2022-2C-SEDs/SED/CDPP_ExtendedStates-codename-Santi/src/cd++/model/state -I/data/0-Facu/2022-2C-SEDs/SED/CDPP_ExtendedStates-codename-Santi/src/cd++/model/state/obj -I/data/0-Facu/2022-2C-SEDs/SED/CDPP_ExtendedStates-codename-Santi/src/cd++/msg -I/data/0-Facu/2022-2C-SEDs/SED/CDPP_ExtendedStates-codename-Santi/src/cd++/msg/obj -I/data/0-Facu/2022-2C-SEDs/SED/CDPP_ExtendedStates-codename-Santi/src/cd++/parser -I/data/0-Facu/2022-2C-SEDs/SED/CDPP_ExtendedStates-codename-Santi/src/cd++/parser/cdlang -I/data/0-Facu/2022-2C-SEDs/SED/CDPP_ExtendedStates-codename-Santi/src/cd++/parser/cdlang/obj -I/data/0-Facu/2022-2C-SEDs/SED/CDPP_ExtendedStates-codename-Santi/src/cd++/parser/obj -I/data/0-Facu/2022-2C-SEDs/SED/CDPP_ExtendedStates-codename-Santi/src/cd++/proc -I/data/0-Facu/2022-2C-SEDs/SED/CDPP_ExtendedStates-codename-Santi/src/cd++/proc/obj -I/data/0-Facu/2022-2C-SEDs/SED/CDPP_ExtendedStates-codename-Santi/src/cd++/proc/state -I/data/0-Facu/2022-2C-SEDs/SED/CDPP_ExtendedStates-codename-Santi/src/cd++/proc/state/obj -I/data/0-Facu/2022-2C-SEDs/SED/CDPP_ExtendedStates-codename-Santi/src/cd++/sim -I/data/0-Facu/2022-2C-SEDs/SED/CDPP_ExtendedStates-codename-Santi/src/cd++/sim/loader -I/data/0-Facu/2022-2C-SEDs/SED/CDPP_ExtendedStates-codename-Santi/src/cd++/sim/loader/obj -I/data/0-Facu/2022-2C-SEDs/SED/CDPP_ExtendedStates-codename-Santi/src/cd++/utils -I/data/0-Facu/2022-2C-SEDs/SED/CDPP_ExtendedStates-codename-Santi/src/cd++/utils/log -I/data/0-Facu/2022-2C-SEDs/SED/CDPP_ExtendedStates-codename-Santi/src/cd++/utils/log/obj -I/data/0-Facu/2022-2C-SEDs/SED/CDPP_ExtendedStates-codename-Santi/src/cd++/utils/obj -I/data/0-Facu/2022-2C-SEDs/SED/CDPP_ExtendedStates-codename-Santi/src/cd++/val -I/data/0-Facu/2022-2C-SEDs/SED/CDPP_ExtendedStates-codename-Santi/src/cd++/val/obj -I/data/0-Facu/2022-2C-SEDs/SED/CDPP_ExtendedStates-codename-Santi/src/cd++/warped -I/data/0-Facu/2022-2C-SEDs/SED/CDPP_ExtendedStates-codename-Santi/src/cd++/warped/common -I/data/0-Facu/2022-2C-SEDs/SED/CDPP_ExtendedStates-codename-Santi/src/cd++/warped/common/obj -I/data/0-Facu/2022-2C-SEDs/SED/CDPP_ExtendedStates-codename-Santi/src/cd++/warped/notime -I/data/0-Facu/2022-2C-SEDs/SED/CDPP_ExtendedStates-codename-Santi/src/cd++/warped/notime/obj  -DREGISTER_ATOMICS -DKERNEL_NOTIME -DUSE_USER_VTIME -DHAS_BOOLEAN -g -O0 -Wall -Wno-deprecated -std=c++11  stdaload.cpp -o obj/stdaload.o\n",
      "make[3]: Leaving directory '/data/0-Facu/2022-2C-SEDs/SED/CDPP_ExtendedStates-codename-Santi/src/cd++/parser/cdlang'\n",
      "make[2]: Leaving directory '/data/0-Facu/2022-2C-SEDs/SED/CDPP_ExtendedStates-codename-Santi/src/cd++/parser'\n",
      "make[3]: Leaving directory '/data/0-Facu/2022-2C-SEDs/SED/CDPP_ExtendedStates-codename-Santi/src/cd++/sim/loader'\n",
      "make[2]: Leaving directory '/data/0-Facu/2022-2C-SEDs/SED/CDPP_ExtendedStates-codename-Santi/src/cd++/sim'\n",
      "g++ -L/data/0-Facu/2022-2C-SEDs/SED/CDPP_ExtendedStates-codename-Santi/examples/sed_tp1/src/bin -o /data/0-Facu/2022-2C-SEDs/SED/CDPP_ExtendedStates-codename-Santi/examples/sed_tp1/src/bin/cd++ main/obj/main.o warped/common/obj/VTime.o warped/notime/obj/BasicEvent.o warped/notime/obj/BasicNoTime.o warped/notime/obj/BasicState.o warped/notime/obj/CommManager.o warped/notime/obj/DebugStream.o warped/notime/obj/FileQueue.o warped/notime/obj/InputQueue.o warped/notime/obj/Interactive.o warped/notime/obj/KernelMsgs.o warped/notime/obj/LogicalProcess.o warped/notime/obj/NoTime.o warped/notime/obj/NoTimeObject.o /data/0-Facu/2022-2C-SEDs/SED/CDPP_ExtendedStates-codename-Santi/examples/sed_tp1/src/bin/Medio.o /data/0-Facu/2022-2C-SEDs/SED/CDPP_ExtendedStates-codename-Santi/examples/sed_tp1/src/bin/Persona.o /data/0-Facu/2022-2C-SEDs/SED/CDPP_ExtendedStates-codename-Santi/examples/sed_tp1/src/bin/register.o -lsimu\n"
     ]
    },
    {
     "name": "stderr",
     "output_type": "stream",
     "text": [
      "/usr/bin/ld: /data/0-Facu/2022-2C-SEDs/SED/CDPP_ExtendedStates-codename-Santi/examples/sed_tp1/src/bin/libsimu.a(macroexp.o): in function `macroExpansion::expand[abi:cxx11]()':\n",
      "/data/0-Facu/2022-2C-SEDs/SED/CDPP_ExtendedStates-codename-Santi/src/cd++/utils/macroexp.cpp:147: warning: the use of `tmpnam' is dangerous, better use `mkstemp'\n",
      "/usr/bin/ld: warped/notime/obj/DebugStream.o: in function `DebugStream::interact()':\n",
      "/data/0-Facu/2022-2C-SEDs/SED/CDPP_ExtendedStates-codename-Santi/src/cd++/warped/notime/DebugStream.cpp:682: warning: the `gets' function is dangerous and should not be used.\n"
     ]
    },
    {
     "name": "stdout",
     "output_type": "stream",
     "text": [
      "make[1]: Leaving directory '/data/0-Facu/2022-2C-SEDs/SED/CDPP_ExtendedStates-codename-Santi/src/cd++'\n"
     ]
    }
   ],
   "source": [
    "%%bash -s \"$CDPP_TP1\"\n",
    "\n",
    "# prueba de que anduvo bien la compilación:\n",
    "\n",
    "cd $1/src\n",
    "#pwd\n",
    "#Comentar make clean ante un error\n",
    "#make clean\n",
    "\n",
    "make -j4"
   ]
  },
  {
   "cell_type": "markdown",
   "id": "9c0757bc",
   "metadata": {},
   "source": [
    "## Simulación del modelo con CD++"
   ]
  },
  {
   "cell_type": "markdown",
   "id": "e910d1a7",
   "metadata": {},
   "source": [
    "Ahora nos paramos en donde se encuentra el ejecutable de la simulación y corremos la simulación:"
   ]
  },
  {
   "cell_type": "code",
   "execution_count": 4,
   "id": "dac8fcd1-0593-4f28-ac34-d86c5ede59b1",
   "metadata": {
    "tags": []
   },
   "outputs": [
    {
     "name": "stdout",
     "output_type": "stream",
     "text": [
      "PCD++: A Tool to Implement n-Dimensional Cell-DEVS models\n",
      "Version 3.0 - March 2003\n",
      "Troccoli A., Rodriguez D., Wainer G., Barylko A., Beyoglonian J., Lopez A.\n",
      "-----------------------------------------------------------------------------\n",
      "PCD++ Extended States: An extended and improved version of CD++ for Cell-DEVS\n",
      "Version 4.1.2 - December 2018\n",
      "Santi L., Castro, R., Pimás, J.\n",
      "-----------------------------------------------------------------------------\n",
      "Discrete Event Simulation Lab\n",
      "Departamento de Computación\n",
      "Facultad de Ciencias Exactas y Naturales\n",
      "Universidad de Buenos Aires, Argentina\n",
      "-----------------------------------------------------------------------------\n",
      "Compiled for standalone simulation\n",
      "\n",
      "\n",
      "Loading models from ./tests/test01_persona.ma\n",
      "Loading events from \n",
      "Running parallel simulation. Reading models partition from \n",
      "Model partition details output to: /dev/null*\n",
      "Message log: ./tests/test01_persona.log\n",
      "Output to: ./tests/test01_persona.out\n",
      "Tolerance set to: 1e-08\n",
      "Configuration to show real numbers: Width = 12 - Precision = 5\n",
      "Quantum: Not used\n",
      "Evaluate Debug Mode = OFF\n",
      "Flat Cell Debug Mode = OFF\n",
      "Debug Cell Rules Mode = OFF\n",
      "Temporary File created by Preprocessor = /tmp/filekBry31\n",
      "Printing parser information = OFF\n",
      "\n",
      "Stop at time: 10:00:00:000:0\n",
      "LP 0: initializing simulation objects\n",
      "LP 0: starting simulation (NoTime).\n",
      "Simulation complete!\n",
      "Simulation ended!\n",
      "LP 0 has finished simulation \n"
     ]
    },
    {
     "name": "stderr",
     "output_type": "stream",
     "text": [
      "At 09:59:58:504:0.769551627\r"
     ]
    }
   ],
   "source": [
    "%%bash -s \"$CDPP_TP1\"\n",
    "\n",
    "# prueba de que anduvo bien la compilación:\n",
    "\n",
    "cd $1\n",
    "\n",
    "src/bin/cd++ -m ./tests/test01_persona.ma \\\n",
    "         -o ./tests/test01_persona.out \\\n",
    "         -l ./tests/test01_persona.log \\\n",
    "         -t 10:00:00:00"
   ]
  },
  {
   "cell_type": "markdown",
   "id": "3ae32401",
   "metadata": {},
   "source": [
    "### Análisis de los resultados\n",
    "\n",
    "Veamos el resultado:"
   ]
  },
  {
   "cell_type": "code",
   "execution_count": null,
   "id": "8332e5ad",
   "metadata": {},
   "outputs": [],
   "source": [
    "%%bash -s \"$CDPP_TP1\"\n",
    "\n",
    "cd $1/out\n",
    "\n",
    "cat persona.out"
   ]
  },
  {
   "cell_type": "code",
   "execution_count": 6,
   "id": "bcc7b7a9-088f-4a6a-abe3-755b4cd392cc",
   "metadata": {},
   "outputs": [],
   "source": [
    "import networkx as nx\n",
    "import numpy as np\n",
    "def generarMA(n, maxG, ps, infs, pcs, tss, grados, pms, file=\"model.ma\"):\n",
    "    \n",
    "    grados[grados>maxG] = maxG\n",
    "    if(grados.sum() % 2 != 0):\n",
    "        if(grados[0] < maxG):\n",
    "            grados[0] = grados[0]+1\n",
    "        else:\n",
    "            grados[0] = grados[0]-1\n",
    "            \n",
    "    ps[ps>1] = 1\n",
    "    ps[ps<-1] = -1\n",
    "\n",
    "    infs[infs>1] = 1\n",
    "    infs[infs<0] = 0\n",
    "    \n",
    "    pcs[pcs>1] = 1\n",
    "    pcs[pcs<0] = 0\n",
    "\n",
    "    tss[infs>1] = 1\n",
    "    tss[infs<0] = 0\n",
    "    \n",
    "    pms[pms<0] = 0    \n",
    "    \n",
    "    f = open(CDPP_TP1.joinpath(\"model/\"+file),'w')\n",
    "    f.write(\"[Top]\\n\")\n",
    "    f.write(\"components : Sociedad\\n\")\n",
    "    \n",
    "    f.write(\"in: infoRequest\\n\")\n",
    "\n",
    "    for i in range(0,n):\n",
    "        f.write(\"out : info_out\"+str(i)+\"\\n\")\n",
    "\n",
    "    f.write(\"Link : infoRequest infoRequest@Sociedad\\n\")\n",
    "    for i in range(0,n):\n",
    "        f.write(\"Link : info_out\"+str(i)+\"@Sociedad info_out\"+str(i)+\"\\n\")\n",
    "\n",
    "    f.write(\"\\n[Sociedad]\\n\")\n",
    "    for i in range(0,n):\n",
    "        f.write(\"components: Persona\"+str(i)+\"@Persona\\n\")\n",
    "    f.write(\"in : infoRequest medios\\n\")\n",
    "    for i in range(0,n):\n",
    "        f.write(\"out : info_out\"+str(i)+\"\\n\")\n",
    "    for i in range(0,n):\n",
    "        f.write(\"Link : outInfo@Persona\"+str(i)+\" info_out\"+str(i)+\"\\n\")\n",
    "        f.write(\"Link : infoRequest infoRequest@Persona\"+str(i)+\"\\n\")\n",
    "\n",
    "    conf_model = nx.configuration_model(grados)\n",
    "    conf_model = nx.Graph(conf_model)\n",
    "    conf_model.remove_edges_from(nx.selfloop_edges(conf_model))\n",
    "\n",
    "    puerto_mas_alto = dict.fromkeys(range(0,n),1)\n",
    "\n",
    "    for node in range(0,n):\n",
    "\n",
    "        neighborhood = nx.all_neighbors(conf_model, node)\n",
    "        degree = nx.degree(conf_model, node)\n",
    "        nombre = \"@Persona\"+str(node)\n",
    "\n",
    "        for neighbor in neighborhood:\n",
    "            if neighbor > node:\n",
    "                port = puerto_mas_alto[node]\n",
    "                puerto_mas_alto[node] += 1\n",
    "\n",
    "                out_port = \"outPort\"+str(port)\n",
    "                in_port = \"inPort\"+str(port)\n",
    "\n",
    "                port_neighbor = puerto_mas_alto[neighbor]\n",
    "                puerto_mas_alto[neighbor] += 1\n",
    "\n",
    "                nombre_vecino = \"@Persona\"+str(neighbor)\n",
    "                out_port_neighbor = \"outPort\"+str(port_neighbor)\n",
    "                in_port_neighbor = \"inPort\"+str(port_neighbor)\n",
    "\n",
    "                f.write(\"Link : \"+out_port+nombre+\" \"+in_port_neighbor+nombre_vecino+\"\\n\")\n",
    "                f.write(\"Link : \"+out_port_neighbor+nombre_vecino+\" \"+in_port+nombre+\"\\n\")\n",
    "\n",
    "    for i in range(0,n):\n",
    "        f.write(\"\\n[Persona\"+str(i)+\"]\\n\")\n",
    "        f.write(\"p : \"+str(ps[i])+\"\\n\")\n",
    "        f.write(\"influenciabilidad : \"+str(infs[i])+\"\\n\")\n",
    "        f.write(\"poder_convencimiento : \"+str(pcs[i])+\"\\n\")\n",
    "        f.write(\"tiempo_sillon : \"+str(tss[i])+\"\\n\")\n",
    "        f.write(\"periodo_medio : \"+str(pms[i])+\"\\n\")\n",
    "        f.write(\"grado : \"+str(nx.degree(conf_model, i))+\"\\n\")\n",
    "\n",
    "    f.close()\n",
    "    return conf_model"
   ]
  },
  {
   "cell_type": "code",
   "execution_count": 12,
   "id": "f0f5717f-aeb9-473e-92d8-5ee8f7df177d",
   "metadata": {},
   "outputs": [],
   "source": [
    "n = 1000\n",
    "\n",
    "ps = np.random.normal(0,0.7,n)\n",
    "ps[ps>1] = 1\n",
    "ps[ps<-1] = -1\n",
    "\n",
    "infs =  np.random.normal(0.5,0.2,n)\n",
    "infs[infs>1] = 1\n",
    "infs[infs<0] = 0\n",
    "\n",
    "pcs =  np.random.normal(0.5,0.2,n)\n",
    "pcs[pcs>1] = 1\n",
    "pcs[pcs<0] = 0\n",
    "\n",
    "tss =  np.random.normal(0.5,0.2,n)\n",
    "tss[infs>1] = 1\n",
    "tss[infs<0] = 0\n",
    "\n",
    "maxG =5\n",
    "mean = 3\n",
    "\n",
    "grados = np.random.poisson(mean, n)\n",
    "grados[grados > maxG] = maxG\n",
    "if(grados.sum() % 2 != 0):\n",
    "    if(grados[0] < maxG):\n",
    "        grados[0] = grados[0]+1\n",
    "    else:\n",
    "        grados[0] = grados[0]-1\n",
    "\n",
    "pms =  np.random.normal(1000,10,n)\n",
    "pms[pms<0] = 0\n",
    "\n",
    "graph = generarMA(n, maxG, ps, infs, pcs, tss, grados, pms, file=\"model.ma\")"
   ]
  },
  {
   "cell_type": "code",
   "execution_count": null,
   "id": "399dfc6f-551c-4463-9df0-29ecf06d51aa",
   "metadata": {
    "scrolled": true,
    "tags": []
   },
   "outputs": [],
   "source": [
    "%%bash -s \"$CDPP_TP1\"\n",
    "\n",
    "cd $1/model\n",
    "\n",
    "cat model.ma"
   ]
  },
  {
   "cell_type": "code",
   "execution_count": 69,
   "id": "6ac80200-9be8-4780-bed4-247dd30a394f",
   "metadata": {
    "scrolled": true,
    "tags": []
   },
   "outputs": [
    {
     "name": "stdout",
     "output_type": "stream",
     "text": [
      "PCD++: A Tool to Implement n-Dimensional Cell-DEVS models\n",
      "Version 3.0 - March 2003\n",
      "Troccoli A., Rodriguez D., Wainer G., Barylko A., Beyoglonian J., Lopez A.\n",
      "-----------------------------------------------------------------------------\n",
      "PCD++ Extended States: An extended and improved version of CD++ for Cell-DEVS\n",
      "Version 4.1.2 - December 2018\n",
      "Santi L., Castro, R., Pimás, J.\n",
      "-----------------------------------------------------------------------------\n",
      "Discrete Event Simulation Lab\n",
      "Departamento de Computación\n",
      "Facultad de Ciencias Exactas y Naturales\n",
      "Universidad de Buenos Aires, Argentina\n",
      "-----------------------------------------------------------------------------\n",
      "Compiled for standalone simulation\n",
      "\n",
      "\n",
      "Loading models from ./model/model.ma\n",
      "Loading events from ./model/eventos.ev\n",
      "Running parallel simulation. Reading models partition from \n",
      "Model partition details output to: /dev/null*\n",
      "Message log: ./out/logPrueba.log\n",
      "Output to: ./out/salidas.out\n",
      "Tolerance set to: 1e-08\n",
      "Configuration to show real numbers: Width = 12 - Precision = 5\n",
      "Quantum: Not used\n",
      "Evaluate Debug Mode = OFF\n",
      "Flat Cell Debug Mode = OFF\n",
      "Debug Cell Rules Mode = OFF\n",
      "Temporary File created by Preprocessor = /tmp/filedpv2CB\n",
      "Printing parser information = OFF\n",
      "\n",
      "Stop at time: 00:10:00:000:0\n",
      "LP 0: initializing simulation objects\n",
      "00:00:00:000:0 / inforequest /      1.00000\n",
      "00:00:00:010:0 / inforequest /      1.00000\n",
      "00:00:00:020:0 / inforequest /      1.00000\n",
      "00:00:00:030:0 / inforequest /      1.00000\n",
      "00:00:00:040:0 / inforequest /      1.00000\n",
      "00:00:00:050:0 / inforequest /      1.00000\n",
      "LP 0: starting simulation (NoTime).\n",
      "Simulation complete!\n",
      "Simulation ended!\n",
      "LP 0 has finished simulation \n"
     ]
    },
    {
     "name": "stderr",
     "output_type": "stream",
     "text": [
      "At 00:09:58:954:0.29687529\r"
     ]
    }
   ],
   "source": [
    "%%bash -s \"$CDPP_TP1\"\n",
    "\n",
    "# prueba de que anduvo bien la compilación:\n",
    "\n",
    "cd $1\n",
    "\n",
    "src/bin/cd++ -m ./model/model.ma \\\n",
    "         -e ./model/eventos.ev  \\\n",
    "         -o ./out/salidas.out \\\n",
    "         -l ./out/logPrueba.log \\\n",
    "         -t 00:10:00:00"
   ]
  },
  {
   "cell_type": "code",
   "execution_count": null,
   "id": "bfa6ef83-e908-4fc2-a041-352f2ba4f705",
   "metadata": {},
   "outputs": [],
   "source": []
  },
  {
   "cell_type": "code",
   "execution_count": 93,
   "id": "e54af83e-fb63-4962-9021-6323ec747159",
   "metadata": {},
   "outputs": [],
   "source": [
    "#Lo use para testear el pasaje a \n",
    "\n",
    "import re\n",
    "f = open(\"model.ma\", \"r\")\n",
    "file_contents = f.read()\n",
    "lines = file_contents.replace(\"Link : \", \"\").split(\"\\n\")[:-1]\n",
    "assert 2*nx.number_of_edges(conf_model) == len(lines)\n",
    "for node in range(0,n):\n",
    "    for port in range(1,maxG +1):\n",
    "        inPort = file_contents.count(\"inPort\"+str(port)+\"@Persona\"+str(node)+\"\\n\")\n",
    "        outPort = file_contents.count(\"outPort\"+str(port)+\"@Persona\"+str(node)+\" \")\n",
    "        #print(node, port, \"inPort\", inPort, \"outPort\", outPort)\n",
    "        assert inPort <= 1\n",
    "        assert outPort <= 1\n",
    "#print(file_contents)\n",
    "for line in lines:\n",
    "    numbers = re.findall(r'\\d+', line)\n",
    "    outPort = numbers[0]\n",
    "    outPerson = numbers[1]\n",
    "    inPort = numbers[2]\n",
    "    inPerson = numbers[3]\n",
    "    lineVuelta = \"outPort\"+str(inPort)+\"@Persona\"+str(inPerson)+\" inPort\"+str(outPort)+\"@Persona\"+str(outPerson)\n",
    "    assert lines.count(lineVuelta) == 1, \"falta \"+lineVuelta+ \"\\npor: \"+line\n",
    "f.close()\n",
    "\n"
   ]
  },
  {
   "cell_type": "code",
   "execution_count": 61,
   "id": "84afb895-6397-4df5-99af-666e1875dacb",
   "metadata": {},
   "outputs": [
    {
     "data": {
      "text/plain": [
       "<AxesSubplot:>"
      ]
     },
     "execution_count": 61,
     "metadata": {},
     "output_type": "execute_result"
    },
    {
     "data": {
      "image/png": "[encoded data removed]",
      "text/plain": [
       "<Figure size 640x480 with 1 Axes>"
      ]
     },
     "metadata": {},
     "output_type": "display_data"
    }
   ],
   "source": [
    "import re\n",
    "import pandas as pd\n",
    "import numpy as np\n",
    "import matplotlib.pyplot as plt\n",
    "\n",
    "def getDataFrom(file=\"out/testTiempo.out\"):\n",
    "    \n",
    "    f = open(file, \"r\")\n",
    "    file_contents = f.read()\n",
    "    lines = file_contents.split(\"\\n\")[:-1]\n",
    "    for i in range(0,len(lines)):\n",
    "        lines[i] = re.split('\\s+', lines[i])\n",
    "        lines[i][1] = re.findall(r'\\d+', lines[i][1])[0]\n",
    "    lines = np.array(lines)\n",
    " \n",
    "\n",
    "    df = pd.DataFrame(columns = ['Tiempo', 'Persona', 'P'])\n",
    "    df['Tiempo'] = lines[:,0]\n",
    "    df['Persona'] = lines[:,1].astype(int)\n",
    "    df['P'] = lines[:,2].astype(float)\n",
    "    \n",
    "    return df\n",
    "\n",
    "def meansFromDF(df):\n",
    "    data = df.to_numpy().reshape(241,1000,3)\n",
    "    means = np.zeros(data.shape[0])\n",
    "    tiempos = []\n",
    "    for i in range(data.shape[0]):\n",
    "        means[i] = data[i,:,2].mean()\n",
    "        tiempos.append(data[i,0,0])\n",
    "        \n",
    "    df = pd.DataFrame(columns = ['Tiempo', 'P_medio'])\n",
    "    df['Tiempo'] = tiempos\n",
    "    df['P_medio'] = means\n",
    "    \n",
    "    return df\n",
    "\n",
    "df = getDataFrom(\"out/testTiempo.out\")\n",
    "\n",
    "means = meansFromDF(df)\n",
    "\n",
    "    \n",
    "means.plot()\n"
   ]
  },
  {
   "cell_type": "code",
   "execution_count": null,
   "id": "a4a1e3d3-4cc8-45d5-bb91-1946ea8ae4a7",
   "metadata": {},
   "outputs": [],
   "source": []
  }
 ],
 "metadata": {
  "kernelspec": {
   "display_name": "Python 3 (ipykernel)",
   "language": "python",
   "name": "python3"
  },
  "language_info": {
   "codemirror_mode": {
    "name": "ipython",
    "version": 3
   },
   "file_extension": ".py",
   "mimetype": "text/x-python",
   "name": "python",
   "nbconvert_exporter": "python",
   "pygments_lexer": "ipython3",
   "version": "3.10.4"
  }
 },
 "nbformat": 4,
 "nbformat_minor": 5
}
