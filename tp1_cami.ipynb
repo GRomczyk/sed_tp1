{
 "cells": [
  {
   "cell_type": "markdown",
   "id": "de43730e",
   "metadata": {
    "executionInfo": {
     "elapsed": 345,
     "status": "ok",
     "timestamp": 1628285293955,
     "user": {
      "displayName": "Rodrigo Castro",
      "photoUrl": "https://lh3.googleusercontent.com/a-/AOh14Ghb6vU3XlZbOt8v2XNxvKylJamDqmV_BWQc5MubWKE=s64",
      "userId": "00513184483602039361"
     },
     "user_tz": 180
    },
    "id": "W4IH1fA7bMwX",
    "tags": []
   },
   "source": [
    "# <b> Evolución de opiniones en grupos de personas influenciadas por medios de comunicación "
   ]
  },
  {
   "cell_type": "markdown",
   "id": "1adef454",
   "metadata": {},
   "source": [
    "En este trabajo, estudiaremos cómo las opiniones de las distintas personas que componen una sociedad evolucionan con el tiempo a medida que interactúan entre ellas. También estudiaremos la influencia de los medios de comunicación en este proceso.   "
   ]
  },
  {
   "cell_type": "markdown",
   "id": "8455be05",
   "metadata": {},
   "source": [
    "# Introducción"
   ]
  },
  {
   "cell_type": "markdown",
   "id": "dd2fc883",
   "metadata": {},
   "source": [
    "Cuando dos personas debaten sobre cierto tema, en general, ambos cambian (al menos un poco) su opinión sobre el tema en cuestión ya que la opinión de uno influye en la opinión del otro. Esta influencia puede ser mayor o menor, dependiendo de varios factores: qué tanto poder de convencimiento tenga la persona emisora, qué tan influenciable sea la persona receptora, qué tanta diferencia haya entre la opinión de uno y del otro, entre otros factores. De este modo, en una masa de personas que interactúan entre sí, las opiniones de todos los individuos van a ir variando constantemente, en mayor o menor medida.  \n",
    "Por otro lado, al estudiar cómo las opiniones de los individuos de una sociedad van variando, debemos tener en cuenta el efecto de los medios de comunicación masivos. Estos emiten opiniones sobre temas que serán recibidas por gran parte de los individuos de la sociedad. También hay que tener en cuenta que algunas personas serán más influenciadas por ciertos medios, y otras por otros. \n",
    "En este trabajo, se tratará de estudiar cómo se comportan las opiniones de las personas que integran una sociedad y la influencia de los medios de comunicación masivos, teniendo en cuenta todos los factores anteriormente mencionados. Haremos varios experimentos alternando las condiciones iniciales de las personas que conforman la población, de la sociedad en general y de los medios de comunicación. \n"
   ]
  },
  {
   "cell_type": "markdown",
   "id": "312d11cd",
   "metadata": {},
   "source": [
    "# El modelo"
   ]
  },
  {
   "cell_type": "markdown",
   "id": "73e84ea7",
   "metadata": {},
   "source": [
    "En este modelo, asumiremos que las interacciones serán dos a dos. Es decir, cada interacción involucrará sólo a un emisor (persona o medio de comunicación) y a una persona receptora. \n",
    "Usaremos un parámetro p ∈ [-1,1] para medir la opinión que tenga cada persona sobre el tema a debatir. Valores de p cercanos a 1 ó -1, se corresponden con opiniones muy radicales y extremistas; valores de p cercanos a 0, representarán opiniones menos extremas.  \n",
    "Al interactuar una persona receptora de opinión p, con un emisor de opinión p* (que podría ser una persona o un medio de comunicación), supondremos que el p de esta persona se modificará al valor p’ de la siguiente manera:  \n"
   ]
  },
  {
   "cell_type": "markdown",
   "id": "77197b93",
   "metadata": {},
   "source": [
    "ACA VA LA FORMULA DE P (FORMULA 1) "
   ]
  },
  {
   "cell_type": "markdown",
   "id": "05702c15",
   "metadata": {},
   "source": [
    "Donde i ∈ [0 , 1] representa el nivel de influenciabilidad de la persona receptora y pc ∈ [0 , 1] representa el poder de convencimiento que tenga el emisor. Notar que h ≥ 0.  \n",
    "Observar que la opinión de la persona receptora p, cambiará en la dirección de la opinión del emisor con el que esté interactuando, es decir, en la dirección de p$*$, debido al factor (p – p$*$) que está en el segundo término.  \n",
    "El factor h se puso para tener en cuenta los efectos de la influenciabilidad de la persona receptora y el poder de convencimiento del emisor. Notar que en los casos extremos donde pc toma valores muy cercanos a 0 (es decir, la persona emisora es muy poco convincente) o donde i toma valores muy cercanos a 0 (es decir, la persona receptora es muy poco influenciable), h será cercano a 0 y por lo tanto el segundo término de la fórmula también, y por lo tanto p’ quedará muy parecido a p (es decir, la opinión de la persona receptora será cambiada muy poco). En el otro caso extremo (pc cercano a 1 y i cercano a 1), el h tomará un valor grande y por ende el p’ cambiará bastante con respecto de p (es decir, la opinión de la persona receptora será cambiada bastante). Notar que si p = p$*$, la opinión p no se alterará.  \n",
    "El factor (ACA VA LA TRICUBICA) se puso para tener en cuenta el efecto de que si las personas tuviesen opiniones muy diferentes entre sí (es decir, si p es fuese muy diferente de p*), la influencia que se harían mutuamente esas dos personas, tendería a ser más bien baja.  \n"
   ]
  },
  {
   "cell_type": "markdown",
   "id": "02776a92",
   "metadata": {},
   "source": [
    "En cuanto a los medios de comunicación, asumiremos que todos medios podrían ser oídos por todos los integrantes de la sociedad, pero tendremos en cuenta el hecho de que es mucho más probable que una persona reciba noticias de medios con opiniones afines a las suyas, que noticias de medios con opiniones muy diferentes. Además de esto, tendremos en cuenta que las personas que pasan mucho tiempo prestando atención a los medios, escucharán noticias con mucha más frecuencia que aquellas personas que no. Para tener en cuenta estos dos factores, se decidió que para cada emisión dada por cierto medio, cada persona de la sociedad tenga una probabilidad de escucharla dada por "
   ]
  },
  {
   "cell_type": "markdown",
   "id": "c04e7456",
   "metadata": {},
   "source": [
    "ACA VA LA FORMULA DE LA PROBABILIDAD DE ESCUCHAR UNA NOTICIA (FORMULA 2)"
   ]
  },
  {
   "cell_type": "markdown",
   "id": "a41b6f64",
   "metadata": {},
   "source": [
    "donde p representa la opinión de la persona receptora, p$*$ la opinión del medio emisor y ts representa el \"tiempo sillón\" que indicaría cuánto tiempo dedica la persona receptora a oir noticias emitidas por medios. Notar, que cuánto más grande sea la diferencia entre p y p$*$ (o sea cuánto menos afín sea la opinión del medio con respecto a la opinión del receptor), menos será la probabilidad de que esa persona oiga esa noticia; y cuánto menos tiempo sillón (ts) tenga esa persona, también, menos probable será que la oiga."
   ]
  },
  {
   "cell_type": "markdown",
   "id": "24ae6db5",
   "metadata": {},
   "source": [
    "# Estructura del modelo"
   ]
  },
  {
   "cell_type": "markdown",
   "id": "76168079",
   "metadata": {},
   "source": [
    "Para simular este modelo, usaremos varios modelos atómicos llamados “Persona” que todos juntos conformarán un modelo acoplado llamado “Sociedad”. Por otro lado, habrá N modelos atómicos “Medio de comunicación” que interactuarán con todos los miembros de la sociedad."
   ]
  },
  {
   "cell_type": "markdown",
   "id": "bff9cc25",
   "metadata": {},
   "source": [
    "ACA VA EL ESQUEMA DEL TOP MODEL"
   ]
  },
  {
   "cell_type": "markdown",
   "id": "91e8e75c",
   "metadata": {},
   "source": [
    "El grafo que conecta a las personas en el modelo Sociedad, será definido mediante configuration model."
   ]
  },
  {
   "cell_type": "markdown",
   "id": "53062610",
   "metadata": {},
   "source": [
    "Si llamamos n al máximo grado de libertad de todos los nodos Persona que componen la sociedad, entonces, tenemos que cada Persona tendrá n + 1 puertos input: n de ellos se usarán para que la persona reciba información de sus personas conocidas y el puerto input restante se usará para que la persona reciba información proveniente de los distintos medios de comunicación. Por otro lado, cada persona tendrá n puertos output para emitir información a sus conocidos."
   ]
  },
  {
   "cell_type": "markdown",
   "id": "766bfb6d",
   "metadata": {},
   "source": [
    "ACA VA EL ESQUEMA DEL MODELO PERSONA"
   ]
  },
  {
   "cell_type": "markdown",
   "id": "535bd50a",
   "metadata": {},
   "source": [
    "Los modelos atómicos Medio de comunicación tendrán únicamente un puerto output que se conectará con el puerto inMedios del modelo Sociedad, por el que emitirán distintos comunicados de valor p$*$. Luego, a través de este puerto inMedios de Sociedad, se harán llegar las noticias emitidas por los distintos medios a todas las personas de la sociedad. Dada una noticia emitida por un medio, cada persona de la sociedad podrá oirla o no, según una probabilidad dada por la *fórmula 2*. "
   ]
  },
  {
   "cell_type": "markdown",
   "id": "f9dac145",
   "metadata": {},
   "source": [
    "# Simulación "
   ]
  },
  {
   "cell_type": "markdown",
   "id": "6e002563",
   "metadata": {},
   "source": [
    "Comencemos importando algunas librerías que necesitaremos para hacer la simulación y el posterior análisis de datos."
   ]
  },
  {
   "cell_type": "code",
   "execution_count": 2,
   "id": "0e52e4a2",
   "metadata": {},
   "outputs": [],
   "source": [
    "from pathlib import Path\n",
    "import matplotlib.pyplot as plt\n",
    "\n",
    "CDPP_TP1 = Path.cwd()\n",
    "#CDPP_SCRIPTS = CDPP_DIR.joinpath('scripts')\n",
    "#BASE_BIN = CDPP_SRC.joinpath('bin')"
   ]
  },
  {
   "cell_type": "markdown",
   "id": "bb87c83c",
   "metadata": {},
   "source": [
    "### Simulador CD++"
   ]
  },
  {
   "cell_type": "code",
   "execution_count": 2,
   "id": "e111188c",
   "metadata": {
    "scrolled": true,
    "tags": []
   },
   "outputs": [
    {
     "name": "stdout",
     "output_type": "stream",
     "text": [
      "make -C ../../../src/cd++ cd++ OUT_DIR=/data/0-Facu/2022-2C-SEDs/SED/CDPP_ExtendedStates-codename-Santi/examples/sed_tp1/src/bin MODEL_FLAGS=-DREGISTER_ATOMICS\n",
      "make[1]: Entering directory '/data/0-Facu/2022-2C-SEDs/SED/CDPP_ExtendedStates-codename-Santi/src/cd++'\n",
      "make -C /data/0-Facu/2022-2C-SEDs/SED/CDPP_ExtendedStates-codename-Santi/src/cd++/atomics OBJ_DIR=obj SRC_DIR=/data/0-Facu/2022-2C-SEDs/SED/CDPP_ExtendedStates-codename-Santi/src/cd++ MODEL_FLAGS=-DREGISTER_ATOMICS\n",
      "make -C /data/0-Facu/2022-2C-SEDs/SED/CDPP_ExtendedStates-codename-Santi/src/cd++/cell OBJ_DIR=obj SRC_DIR=/data/0-Facu/2022-2C-SEDs/SED/CDPP_ExtendedStates-codename-Santi/src/cd++ MODEL_FLAGS=-DREGISTER_ATOMICS\n",
      "make[2]: Entering directory '/data/0-Facu/2022-2C-SEDs/SED/CDPP_ExtendedStates-codename-Santi/src/cd++/atomics'\n",
      "make -C cpu OBJ_DIR=obj SRC_DIR=/data/0-Facu/2022-2C-SEDs/SED/CDPP_ExtendedStates-codename-Santi/src/cd++\n",
      "make -C queue OBJ_DIR=obj SRC_DIR=/data/0-Facu/2022-2C-SEDs/SED/CDPP_ExtendedStates-codename-Santi/src/cd++\n",
      "make -C qss OBJ_DIR=obj SRC_DIR=/data/0-Facu/2022-2C-SEDs/SED/CDPP_ExtendedStates-codename-Santi/src/cd++\n",
      "make[3]: Entering directory '/data/0-Facu/2022-2C-SEDs/SED/CDPP_ExtendedStates-codename-Santi/src/cd++/atomics/queue'\n",
      "make[3]: Nothing to be done for 'all'.\n",
      "make[3]: Leaving directory '/data/0-Facu/2022-2C-SEDs/SED/CDPP_ExtendedStates-codename-Santi/src/cd++/atomics/queue'\n",
      "make -C /data/0-Facu/2022-2C-SEDs/SED/CDPP_ExtendedStates-codename-Santi/src/cd++/evt OBJ_DIR=obj SRC_DIR=/data/0-Facu/2022-2C-SEDs/SED/CDPP_ExtendedStates-codename-Santi/src/cd++ MODEL_FLAGS=-DREGISTER_ATOMICS\n",
      "make[3]: Entering directory '/data/0-Facu/2022-2C-SEDs/SED/CDPP_ExtendedStates-codename-Santi/src/cd++/atomics/cpu'\n",
      "make[3]: Nothing to be done for 'all'.\n",
      "make[3]: Leaving directory '/data/0-Facu/2022-2C-SEDs/SED/CDPP_ExtendedStates-codename-Santi/src/cd++/atomics/cpu'\n",
      "make[3]: Entering directory '/data/0-Facu/2022-2C-SEDs/SED/CDPP_ExtendedStates-codename-Santi/src/cd++/atomics/qss'\n",
      "make[3]: Nothing to be done for 'all'.\n",
      "make[3]: Leaving directory '/data/0-Facu/2022-2C-SEDs/SED/CDPP_ExtendedStates-codename-Santi/src/cd++/atomics/qss'\n",
      "make -C generator OBJ_DIR=obj SRC_DIR=/data/0-Facu/2022-2C-SEDs/SED/CDPP_ExtendedStates-codename-Santi/src/cd++\n",
      "make -C transducer OBJ_DIR=obj SRC_DIR=/data/0-Facu/2022-2C-SEDs/SED/CDPP_ExtendedStates-codename-Santi/src/cd++\n",
      "make[2]: Entering directory '/data/0-Facu/2022-2C-SEDs/SED/CDPP_ExtendedStates-codename-Santi/src/cd++/cell'\n",
      "make[2]: Nothing to be done for 'all'.\n",
      "make[2]: Leaving directory '/data/0-Facu/2022-2C-SEDs/SED/CDPP_ExtendedStates-codename-Santi/src/cd++/cell'\n",
      "make -C /data/0-Facu/2022-2C-SEDs/SED/CDPP_ExtendedStates-codename-Santi/src/cd++/misc OBJ_DIR=obj SRC_DIR=/data/0-Facu/2022-2C-SEDs/SED/CDPP_ExtendedStates-codename-Santi/src/cd++ MODEL_FLAGS=-DREGISTER_ATOMICS\n",
      "make[3]: Entering directory '/data/0-Facu/2022-2C-SEDs/SED/CDPP_ExtendedStates-codename-Santi/src/cd++/atomics/transducer'\n",
      "make[3]: Nothing to be done for 'all'.\n",
      "make[3]: Leaving directory '/data/0-Facu/2022-2C-SEDs/SED/CDPP_ExtendedStates-codename-Santi/src/cd++/atomics/transducer'\n",
      "make[3]: Entering directory '/data/0-Facu/2022-2C-SEDs/SED/CDPP_ExtendedStates-codename-Santi/src/cd++/atomics/generator'\n",
      "make[3]: Nothing to be done for 'all'.\n",
      "make[3]: Leaving directory '/data/0-Facu/2022-2C-SEDs/SED/CDPP_ExtendedStates-codename-Santi/src/cd++/atomics/generator'\n",
      "make[2]: Leaving directory '/data/0-Facu/2022-2C-SEDs/SED/CDPP_ExtendedStates-codename-Santi/src/cd++/atomics'\n",
      "make -C /data/0-Facu/2022-2C-SEDs/SED/CDPP_ExtendedStates-codename-Santi/src/cd++/model OBJ_DIR=obj SRC_DIR=/data/0-Facu/2022-2C-SEDs/SED/CDPP_ExtendedStates-codename-Santi/src/cd++ MODEL_FLAGS=-DREGISTER_ATOMICS\n",
      "make[2]: Entering directory '/data/0-Facu/2022-2C-SEDs/SED/CDPP_ExtendedStates-codename-Santi/src/cd++/evt'\n",
      "make[2]: Nothing to be done for 'all'.\n",
      "make[2]: Leaving directory '/data/0-Facu/2022-2C-SEDs/SED/CDPP_ExtendedStates-codename-Santi/src/cd++/evt'\n",
      "make[2]: Entering directory '/data/0-Facu/2022-2C-SEDs/SED/CDPP_ExtendedStates-codename-Santi/src/cd++/misc'\n",
      "make -C math OBJ_DIR=obj SRC_DIR=/data/0-Facu/2022-2C-SEDs/SED/CDPP_ExtendedStates-codename-Santi/src/cd++\n",
      "make -C /data/0-Facu/2022-2C-SEDs/SED/CDPP_ExtendedStates-codename-Santi/src/cd++/msg OBJ_DIR=obj SRC_DIR=/data/0-Facu/2022-2C-SEDs/SED/CDPP_ExtendedStates-codename-Santi/src/cd++ MODEL_FLAGS=-DREGISTER_ATOMICS\n",
      "make[3]: Entering directory '/data/0-Facu/2022-2C-SEDs/SED/CDPP_ExtendedStates-codename-Santi/src/cd++/misc/math'\n",
      "make[3]: Nothing to be done for 'all'.\n",
      "make[3]: Leaving directory '/data/0-Facu/2022-2C-SEDs/SED/CDPP_ExtendedStates-codename-Santi/src/cd++/misc/math'\n",
      "make[2]: Leaving directory '/data/0-Facu/2022-2C-SEDs/SED/CDPP_ExtendedStates-codename-Santi/src/cd++/misc'\n",
      "make -C /data/0-Facu/2022-2C-SEDs/SED/CDPP_ExtendedStates-codename-Santi/src/cd++/parser OBJ_DIR=obj SRC_DIR=/data/0-Facu/2022-2C-SEDs/SED/CDPP_ExtendedStates-codename-Santi/src/cd++ MODEL_FLAGS=-DREGISTER_ATOMICS\n",
      "make -C /data/0-Facu/2022-2C-SEDs/SED/CDPP_ExtendedStates-codename-Santi/src/cd++/proc OBJ_DIR=obj SRC_DIR=/data/0-Facu/2022-2C-SEDs/SED/CDPP_ExtendedStates-codename-Santi/src/cd++ MODEL_FLAGS=-DREGISTER_ATOMICS\n",
      "make[2]: Entering directory '/data/0-Facu/2022-2C-SEDs/SED/CDPP_ExtendedStates-codename-Santi/src/cd++/model'\n",
      "make -C state OBJ_DIR=obj SRC_DIR=/data/0-Facu/2022-2C-SEDs/SED/CDPP_ExtendedStates-codename-Santi/src/cd++\n",
      "make[3]: Entering directory '/data/0-Facu/2022-2C-SEDs/SED/CDPP_ExtendedStates-codename-Santi/src/cd++/model/state'\n",
      "make[3]: Nothing to be done for 'all'.\n",
      "make[3]: Leaving directory '/data/0-Facu/2022-2C-SEDs/SED/CDPP_ExtendedStates-codename-Santi/src/cd++/model/state'\n",
      "make[2]: Leaving directory '/data/0-Facu/2022-2C-SEDs/SED/CDPP_ExtendedStates-codename-Santi/src/cd++/model'\n",
      "make[2]: Entering directory '/data/0-Facu/2022-2C-SEDs/SED/CDPP_ExtendedStates-codename-Santi/src/cd++/parser'\n",
      "make -C cdlang OBJ_DIR=obj SRC_DIR=/data/0-Facu/2022-2C-SEDs/SED/CDPP_ExtendedStates-codename-Santi/src/cd++\n",
      "make[2]: Entering directory '/data/0-Facu/2022-2C-SEDs/SED/CDPP_ExtendedStates-codename-Santi/src/cd++/msg'\n",
      "make[2]: Nothing to be done for 'all'.\n",
      "make[2]: Leaving directory '/data/0-Facu/2022-2C-SEDs/SED/CDPP_ExtendedStates-codename-Santi/src/cd++/msg'\n",
      "make -C /data/0-Facu/2022-2C-SEDs/SED/CDPP_ExtendedStates-codename-Santi/src/cd++/sim OBJ_DIR=obj SRC_DIR=/data/0-Facu/2022-2C-SEDs/SED/CDPP_ExtendedStates-codename-Santi/src/cd++ MODEL_FLAGS=-DREGISTER_ATOMICS\n",
      "make -C /data/0-Facu/2022-2C-SEDs/SED/CDPP_ExtendedStates-codename-Santi/src/cd++/utils OBJ_DIR=obj SRC_DIR=/data/0-Facu/2022-2C-SEDs/SED/CDPP_ExtendedStates-codename-Santi/src/cd++ MODEL_FLAGS=-DREGISTER_ATOMICS\n",
      "make[2]: Entering directory '/data/0-Facu/2022-2C-SEDs/SED/CDPP_ExtendedStates-codename-Santi/src/cd++/sim'\n",
      "make[3]: Entering directory '/data/0-Facu/2022-2C-SEDs/SED/CDPP_ExtendedStates-codename-Santi/src/cd++/parser/cdlang'\n",
      "make[2]: Entering directory '/data/0-Facu/2022-2C-SEDs/SED/CDPP_ExtendedStates-codename-Santi/src/cd++/proc'\n",
      "make -C state OBJ_DIR=obj SRC_DIR=/data/0-Facu/2022-2C-SEDs/SED/CDPP_ExtendedStates-codename-Santi/src/cd++\n",
      "make[2]: Entering directory '/data/0-Facu/2022-2C-SEDs/SED/CDPP_ExtendedStates-codename-Santi/src/cd++/utils'\n",
      "make -C log OBJ_DIR=obj SRC_DIR=/data/0-Facu/2022-2C-SEDs/SED/CDPP_ExtendedStates-codename-Santi/src/cd++\n",
      "make[3]: Entering directory '/data/0-Facu/2022-2C-SEDs/SED/CDPP_ExtendedStates-codename-Santi/src/cd++/utils/log'\n",
      "make[3]: Nothing to be done for 'all'.\n",
      "make[3]: Leaving directory '/data/0-Facu/2022-2C-SEDs/SED/CDPP_ExtendedStates-codename-Santi/src/cd++/utils/log'\n",
      "make[2]: Leaving directory '/data/0-Facu/2022-2C-SEDs/SED/CDPP_ExtendedStates-codename-Santi/src/cd++/utils'\n",
      "make -C /data/0-Facu/2022-2C-SEDs/SED/CDPP_ExtendedStates-codename-Santi/src/cd++/val OBJ_DIR=obj SRC_DIR=/data/0-Facu/2022-2C-SEDs/SED/CDPP_ExtendedStates-codename-Santi/src/cd++ MODEL_FLAGS=-DREGISTER_ATOMICS\n",
      "make[3]: Entering directory '/data/0-Facu/2022-2C-SEDs/SED/CDPP_ExtendedStates-codename-Santi/src/cd++/proc/state'\n",
      "make[3]: Nothing to be done for 'all'.\n",
      "make[3]: Leaving directory '/data/0-Facu/2022-2C-SEDs/SED/CDPP_ExtendedStates-codename-Santi/src/cd++/proc/state'\n",
      "make[2]: Leaving directory '/data/0-Facu/2022-2C-SEDs/SED/CDPP_ExtendedStates-codename-Santi/src/cd++/proc'\n",
      "make -C /data/0-Facu/2022-2C-SEDs/SED/CDPP_ExtendedStates-codename-Santi/src/cd++/main OBJ_DIR=obj SRC_DIR=/data/0-Facu/2022-2C-SEDs/SED/CDPP_ExtendedStates-codename-Santi/src/cd++ MODEL_FLAGS=-DREGISTER_ATOMICS\n",
      "make[2]: Entering directory '/data/0-Facu/2022-2C-SEDs/SED/CDPP_ExtendedStates-codename-Santi/src/cd++/val'\n",
      "make[2]: Nothing to be done for 'all'.\n",
      "make[2]: Leaving directory '/data/0-Facu/2022-2C-SEDs/SED/CDPP_ExtendedStates-codename-Santi/src/cd++/val'\n",
      "make[2]: Entering directory '/data/0-Facu/2022-2C-SEDs/SED/CDPP_ExtendedStates-codename-Santi/src/cd++/main'\n",
      "make[2]: Nothing to be done for 'all'.\n",
      "make[2]: Leaving directory '/data/0-Facu/2022-2C-SEDs/SED/CDPP_ExtendedStates-codename-Santi/src/cd++/main'\n",
      "make -C /data/0-Facu/2022-2C-SEDs/SED/CDPP_ExtendedStates-codename-Santi/src/cd++/warped OBJ_DIR=obj SRC_DIR=/data/0-Facu/2022-2C-SEDs/SED/CDPP_ExtendedStates-codename-Santi/src/cd++ MODEL_FLAGS=-DREGISTER_ATOMICS\n",
      "make[2]: Entering directory '/data/0-Facu/2022-2C-SEDs/SED/CDPP_ExtendedStates-codename-Santi/src/cd++/warped'\n",
      "make -C common OBJ_DIR=obj SRC_DIR=/data/0-Facu/2022-2C-SEDs/SED/CDPP_ExtendedStates-codename-Santi/src/cd++\n",
      "make[3]: Entering directory '/data/0-Facu/2022-2C-SEDs/SED/CDPP_ExtendedStates-codename-Santi/src/cd++/warped/common'\n",
      "make[3]: Nothing to be done for 'all'.\n",
      "make[3]: Leaving directory '/data/0-Facu/2022-2C-SEDs/SED/CDPP_ExtendedStates-codename-Santi/src/cd++/warped/common'\n",
      "make -C notime OBJ_DIR=obj SRC_DIR=/data/0-Facu/2022-2C-SEDs/SED/CDPP_ExtendedStates-codename-Santi/src/cd++\n",
      "make[3]: Entering directory '/data/0-Facu/2022-2C-SEDs/SED/CDPP_ExtendedStates-codename-Santi/src/cd++/warped/notime'\n",
      "make[3]: Nothing to be done for 'all'.\n",
      "make[3]: Leaving directory '/data/0-Facu/2022-2C-SEDs/SED/CDPP_ExtendedStates-codename-Santi/src/cd++/warped/notime'\n",
      "make[2]: Leaving directory '/data/0-Facu/2022-2C-SEDs/SED/CDPP_ExtendedStates-codename-Santi/src/cd++/warped'\n",
      "g++ -c -I/data/0-Facu/2022-2C-SEDs/SED/CDPP_ExtendedStates-codename-Santi/src/cd++/.ipynb_checkpoints -I/data/0-Facu/2022-2C-SEDs/SED/CDPP_ExtendedStates-codename-Santi/src/cd++/atomics -I/data/0-Facu/2022-2C-SEDs/SED/CDPP_ExtendedStates-codename-Santi/src/cd++/atomics/cpu -I/data/0-Facu/2022-2C-SEDs/SED/CDPP_ExtendedStates-codename-Santi/src/cd++/atomics/cpu/obj -I/data/0-Facu/2022-2C-SEDs/SED/CDPP_ExtendedStates-codename-Santi/src/cd++/atomics/generator -I/data/0-Facu/2022-2C-SEDs/SED/CDPP_ExtendedStates-codename-Santi/src/cd++/atomics/generator/.ipynb_checkpoints -I/data/0-Facu/2022-2C-SEDs/SED/CDPP_ExtendedStates-codename-Santi/src/cd++/atomics/generator/obj -I/data/0-Facu/2022-2C-SEDs/SED/CDPP_ExtendedStates-codename-Santi/src/cd++/atomics/qss -I/data/0-Facu/2022-2C-SEDs/SED/CDPP_ExtendedStates-codename-Santi/src/cd++/atomics/qss/obj -I/data/0-Facu/2022-2C-SEDs/SED/CDPP_ExtendedStates-codename-Santi/src/cd++/atomics/queue -I/data/0-Facu/2022-2C-SEDs/SED/CDPP_ExtendedStates-codename-Santi/src/cd++/atomics/queue/obj -I/data/0-Facu/2022-2C-SEDs/SED/CDPP_ExtendedStates-codename-Santi/src/cd++/atomics/transducer -I/data/0-Facu/2022-2C-SEDs/SED/CDPP_ExtendedStates-codename-Santi/src/cd++/atomics/transducer/obj -I/data/0-Facu/2022-2C-SEDs/SED/CDPP_ExtendedStates-codename-Santi/src/cd++/cell -I/data/0-Facu/2022-2C-SEDs/SED/CDPP_ExtendedStates-codename-Santi/src/cd++/cell/obj -I/data/0-Facu/2022-2C-SEDs/SED/CDPP_ExtendedStates-codename-Santi/src/cd++/evt -I/data/0-Facu/2022-2C-SEDs/SED/CDPP_ExtendedStates-codename-Santi/src/cd++/evt/obj -I/data/0-Facu/2022-2C-SEDs/SED/CDPP_ExtendedStates-codename-Santi/src/cd++/main -I/data/0-Facu/2022-2C-SEDs/SED/CDPP_ExtendedStates-codename-Santi/src/cd++/main/obj -I/data/0-Facu/2022-2C-SEDs/SED/CDPP_ExtendedStates-codename-Santi/src/cd++/misc -I/data/0-Facu/2022-2C-SEDs/SED/CDPP_ExtendedStates-codename-Santi/src/cd++/misc/math -I/data/0-Facu/2022-2C-SEDs/SED/CDPP_ExtendedStates-codename-Santi/src/cd++/misc/math/obj -I/data/0-Facu/2022-2C-SEDs/SED/CDPP_ExtendedStates-codename-Santi/src/cd++/misc/obj -I/data/0-Facu/2022-2C-SEDs/SED/CDPP_ExtendedStates-codename-Santi/src/cd++/model -I/data/0-Facu/2022-2C-SEDs/SED/CDPP_ExtendedStates-codename-Santi/src/cd++/model/obj -I/data/0-Facu/2022-2C-SEDs/SED/CDPP_ExtendedStates-codename-Santi/src/cd++/model/state -I/data/0-Facu/2022-2C-SEDs/SED/CDPP_ExtendedStates-codename-Santi/src/cd++/model/state/obj -I/data/0-Facu/2022-2C-SEDs/SED/CDPP_ExtendedStates-codename-Santi/src/cd++/msg -I/data/0-Facu/2022-2C-SEDs/SED/CDPP_ExtendedStates-codename-Santi/src/cd++/msg/obj -I/data/0-Facu/2022-2C-SEDs/SED/CDPP_ExtendedStates-codename-Santi/src/cd++/parser -I/data/0-Facu/2022-2C-SEDs/SED/CDPP_ExtendedStates-codename-Santi/src/cd++/parser/cdlang -I/data/0-Facu/2022-2C-SEDs/SED/CDPP_ExtendedStates-codename-Santi/src/cd++/parser/cdlang/obj -I/data/0-Facu/2022-2C-SEDs/SED/CDPP_ExtendedStates-codename-Santi/src/cd++/parser/obj -I/data/0-Facu/2022-2C-SEDs/SED/CDPP_ExtendedStates-codename-Santi/src/cd++/proc -I/data/0-Facu/2022-2C-SEDs/SED/CDPP_ExtendedStates-codename-Santi/src/cd++/proc/obj -I/data/0-Facu/2022-2C-SEDs/SED/CDPP_ExtendedStates-codename-Santi/src/cd++/proc/state -I/data/0-Facu/2022-2C-SEDs/SED/CDPP_ExtendedStates-codename-Santi/src/cd++/proc/state/obj -I/data/0-Facu/2022-2C-SEDs/SED/CDPP_ExtendedStates-codename-Santi/src/cd++/sim -I/data/0-Facu/2022-2C-SEDs/SED/CDPP_ExtendedStates-codename-Santi/src/cd++/sim/loader -I/data/0-Facu/2022-2C-SEDs/SED/CDPP_ExtendedStates-codename-Santi/src/cd++/sim/loader/obj -I/data/0-Facu/2022-2C-SEDs/SED/CDPP_ExtendedStates-codename-Santi/src/cd++/sim/obj -I/data/0-Facu/2022-2C-SEDs/SED/CDPP_ExtendedStates-codename-Santi/src/cd++/utils -I/data/0-Facu/2022-2C-SEDs/SED/CDPP_ExtendedStates-codename-Santi/src/cd++/utils/log -I/data/0-Facu/2022-2C-SEDs/SED/CDPP_ExtendedStates-codename-Santi/src/cd++/utils/log/obj -I/data/0-Facu/2022-2C-SEDs/SED/CDPP_ExtendedStates-codename-Santi/src/cd++/utils/obj -I/data/0-Facu/2022-2C-SEDs/SED/CDPP_ExtendedStates-codename-Santi/src/cd++/val -I/data/0-Facu/2022-2C-SEDs/SED/CDPP_ExtendedStates-codename-Santi/src/cd++/val/obj -I/data/0-Facu/2022-2C-SEDs/SED/CDPP_ExtendedStates-codename-Santi/src/cd++/warped -I/data/0-Facu/2022-2C-SEDs/SED/CDPP_ExtendedStates-codename-Santi/src/cd++/warped/common -I/data/0-Facu/2022-2C-SEDs/SED/CDPP_ExtendedStates-codename-Santi/src/cd++/warped/common/obj -I/data/0-Facu/2022-2C-SEDs/SED/CDPP_ExtendedStates-codename-Santi/src/cd++/warped/notime -I/data/0-Facu/2022-2C-SEDs/SED/CDPP_ExtendedStates-codename-Santi/src/cd++/warped/notime/obj  -DREGISTER_ATOMICS -DKERNEL_NOTIME -DUSE_USER_VTIME -DHAS_BOOLEAN -g -O0 -Wall -Wno-deprecated -std=c++11  parser.cpp -o obj/parser.o\n",
      "make clean\n",
      "make[3]: Entering directory '/data/0-Facu/2022-2C-SEDs/SED/CDPP_ExtendedStates-codename-Santi/src/cd++/sim'\n",
      "make -C loader clean OBJ_DIR=obj SRC_DIR=/data/0-Facu/2022-2C-SEDs/SED/CDPP_ExtendedStates-codename-Santi/src/cd++\n",
      "make[4]: Entering directory '/data/0-Facu/2022-2C-SEDs/SED/CDPP_ExtendedStates-codename-Santi/src/cd++/sim/loader'\n",
      "make[4]: Leaving directory '/data/0-Facu/2022-2C-SEDs/SED/CDPP_ExtendedStates-codename-Santi/src/cd++/sim/loader'\n",
      "make[3]: Leaving directory '/data/0-Facu/2022-2C-SEDs/SED/CDPP_ExtendedStates-codename-Santi/src/cd++/sim'\n",
      "make -C loader OBJ_DIR=obj SRC_DIR=/data/0-Facu/2022-2C-SEDs/SED/CDPP_ExtendedStates-codename-Santi/src/cd++\n",
      "make[3]: Entering directory '/data/0-Facu/2022-2C-SEDs/SED/CDPP_ExtendedStates-codename-Santi/src/cd++/sim/loader'\n",
      "g++ -c -I/data/0-Facu/2022-2C-SEDs/SED/CDPP_ExtendedStates-codename-Santi/src/cd++/.ipynb_checkpoints -I/data/0-Facu/2022-2C-SEDs/SED/CDPP_ExtendedStates-codename-Santi/src/cd++/atomics -I/data/0-Facu/2022-2C-SEDs/SED/CDPP_ExtendedStates-codename-Santi/src/cd++/atomics/cpu -I/data/0-Facu/2022-2C-SEDs/SED/CDPP_ExtendedStates-codename-Santi/src/cd++/atomics/cpu/obj -I/data/0-Facu/2022-2C-SEDs/SED/CDPP_ExtendedStates-codename-Santi/src/cd++/atomics/generator -I/data/0-Facu/2022-2C-SEDs/SED/CDPP_ExtendedStates-codename-Santi/src/cd++/atomics/generator/.ipynb_checkpoints -I/data/0-Facu/2022-2C-SEDs/SED/CDPP_ExtendedStates-codename-Santi/src/cd++/atomics/generator/obj -I/data/0-Facu/2022-2C-SEDs/SED/CDPP_ExtendedStates-codename-Santi/src/cd++/atomics/qss -I/data/0-Facu/2022-2C-SEDs/SED/CDPP_ExtendedStates-codename-Santi/src/cd++/atomics/qss/obj -I/data/0-Facu/2022-2C-SEDs/SED/CDPP_ExtendedStates-codename-Santi/src/cd++/atomics/queue -I/data/0-Facu/2022-2C-SEDs/SED/CDPP_ExtendedStates-codename-Santi/src/cd++/atomics/queue/obj -I/data/0-Facu/2022-2C-SEDs/SED/CDPP_ExtendedStates-codename-Santi/src/cd++/atomics/transducer -I/data/0-Facu/2022-2C-SEDs/SED/CDPP_ExtendedStates-codename-Santi/src/cd++/atomics/transducer/obj -I/data/0-Facu/2022-2C-SEDs/SED/CDPP_ExtendedStates-codename-Santi/src/cd++/cell -I/data/0-Facu/2022-2C-SEDs/SED/CDPP_ExtendedStates-codename-Santi/src/cd++/cell/obj -I/data/0-Facu/2022-2C-SEDs/SED/CDPP_ExtendedStates-codename-Santi/src/cd++/evt -I/data/0-Facu/2022-2C-SEDs/SED/CDPP_ExtendedStates-codename-Santi/src/cd++/evt/obj -I/data/0-Facu/2022-2C-SEDs/SED/CDPP_ExtendedStates-codename-Santi/src/cd++/main -I/data/0-Facu/2022-2C-SEDs/SED/CDPP_ExtendedStates-codename-Santi/src/cd++/main/obj -I/data/0-Facu/2022-2C-SEDs/SED/CDPP_ExtendedStates-codename-Santi/src/cd++/misc -I/data/0-Facu/2022-2C-SEDs/SED/CDPP_ExtendedStates-codename-Santi/src/cd++/misc/math -I/data/0-Facu/2022-2C-SEDs/SED/CDPP_ExtendedStates-codename-Santi/src/cd++/misc/math/obj -I/data/0-Facu/2022-2C-SEDs/SED/CDPP_ExtendedStates-codename-Santi/src/cd++/misc/obj -I/data/0-Facu/2022-2C-SEDs/SED/CDPP_ExtendedStates-codename-Santi/src/cd++/model -I/data/0-Facu/2022-2C-SEDs/SED/CDPP_ExtendedStates-codename-Santi/src/cd++/model/obj -I/data/0-Facu/2022-2C-SEDs/SED/CDPP_ExtendedStates-codename-Santi/src/cd++/model/state -I/data/0-Facu/2022-2C-SEDs/SED/CDPP_ExtendedStates-codename-Santi/src/cd++/model/state/obj -I/data/0-Facu/2022-2C-SEDs/SED/CDPP_ExtendedStates-codename-Santi/src/cd++/msg -I/data/0-Facu/2022-2C-SEDs/SED/CDPP_ExtendedStates-codename-Santi/src/cd++/msg/obj -I/data/0-Facu/2022-2C-SEDs/SED/CDPP_ExtendedStates-codename-Santi/src/cd++/parser -I/data/0-Facu/2022-2C-SEDs/SED/CDPP_ExtendedStates-codename-Santi/src/cd++/parser/cdlang -I/data/0-Facu/2022-2C-SEDs/SED/CDPP_ExtendedStates-codename-Santi/src/cd++/parser/cdlang/obj -I/data/0-Facu/2022-2C-SEDs/SED/CDPP_ExtendedStates-codename-Santi/src/cd++/parser/obj -I/data/0-Facu/2022-2C-SEDs/SED/CDPP_ExtendedStates-codename-Santi/src/cd++/proc -I/data/0-Facu/2022-2C-SEDs/SED/CDPP_ExtendedStates-codename-Santi/src/cd++/proc/obj -I/data/0-Facu/2022-2C-SEDs/SED/CDPP_ExtendedStates-codename-Santi/src/cd++/proc/state -I/data/0-Facu/2022-2C-SEDs/SED/CDPP_ExtendedStates-codename-Santi/src/cd++/proc/state/obj -I/data/0-Facu/2022-2C-SEDs/SED/CDPP_ExtendedStates-codename-Santi/src/cd++/sim -I/data/0-Facu/2022-2C-SEDs/SED/CDPP_ExtendedStates-codename-Santi/src/cd++/sim/loader -I/data/0-Facu/2022-2C-SEDs/SED/CDPP_ExtendedStates-codename-Santi/src/cd++/sim/loader/obj -I/data/0-Facu/2022-2C-SEDs/SED/CDPP_ExtendedStates-codename-Santi/src/cd++/sim/obj -I/data/0-Facu/2022-2C-SEDs/SED/CDPP_ExtendedStates-codename-Santi/src/cd++/utils -I/data/0-Facu/2022-2C-SEDs/SED/CDPP_ExtendedStates-codename-Santi/src/cd++/utils/log -I/data/0-Facu/2022-2C-SEDs/SED/CDPP_ExtendedStates-codename-Santi/src/cd++/utils/log/obj -I/data/0-Facu/2022-2C-SEDs/SED/CDPP_ExtendedStates-codename-Santi/src/cd++/utils/obj -I/data/0-Facu/2022-2C-SEDs/SED/CDPP_ExtendedStates-codename-Santi/src/cd++/val -I/data/0-Facu/2022-2C-SEDs/SED/CDPP_ExtendedStates-codename-Santi/src/cd++/val/obj -I/data/0-Facu/2022-2C-SEDs/SED/CDPP_ExtendedStates-codename-Santi/src/cd++/warped -I/data/0-Facu/2022-2C-SEDs/SED/CDPP_ExtendedStates-codename-Santi/src/cd++/warped/common -I/data/0-Facu/2022-2C-SEDs/SED/CDPP_ExtendedStates-codename-Santi/src/cd++/warped/common/obj -I/data/0-Facu/2022-2C-SEDs/SED/CDPP_ExtendedStates-codename-Santi/src/cd++/warped/notime -I/data/0-Facu/2022-2C-SEDs/SED/CDPP_ExtendedStates-codename-Santi/src/cd++/warped/notime/obj  -DREGISTER_ATOMICS -DKERNEL_NOTIME -DUSE_USER_VTIME -DHAS_BOOLEAN -g -O0 -Wall -Wno-deprecated -std=c++11  gram.c -o obj/gram.o\n",
      "g++ -c -I/data/0-Facu/2022-2C-SEDs/SED/CDPP_ExtendedStates-codename-Santi/src/cd++/.ipynb_checkpoints -I/data/0-Facu/2022-2C-SEDs/SED/CDPP_ExtendedStates-codename-Santi/src/cd++/atomics -I/data/0-Facu/2022-2C-SEDs/SED/CDPP_ExtendedStates-codename-Santi/src/cd++/atomics/cpu -I/data/0-Facu/2022-2C-SEDs/SED/CDPP_ExtendedStates-codename-Santi/src/cd++/atomics/cpu/obj -I/data/0-Facu/2022-2C-SEDs/SED/CDPP_ExtendedStates-codename-Santi/src/cd++/atomics/generator -I/data/0-Facu/2022-2C-SEDs/SED/CDPP_ExtendedStates-codename-Santi/src/cd++/atomics/generator/.ipynb_checkpoints -I/data/0-Facu/2022-2C-SEDs/SED/CDPP_ExtendedStates-codename-Santi/src/cd++/atomics/generator/obj -I/data/0-Facu/2022-2C-SEDs/SED/CDPP_ExtendedStates-codename-Santi/src/cd++/atomics/qss -I/data/0-Facu/2022-2C-SEDs/SED/CDPP_ExtendedStates-codename-Santi/src/cd++/atomics/qss/obj -I/data/0-Facu/2022-2C-SEDs/SED/CDPP_ExtendedStates-codename-Santi/src/cd++/atomics/queue -I/data/0-Facu/2022-2C-SEDs/SED/CDPP_ExtendedStates-codename-Santi/src/cd++/atomics/queue/obj -I/data/0-Facu/2022-2C-SEDs/SED/CDPP_ExtendedStates-codename-Santi/src/cd++/atomics/transducer -I/data/0-Facu/2022-2C-SEDs/SED/CDPP_ExtendedStates-codename-Santi/src/cd++/atomics/transducer/obj -I/data/0-Facu/2022-2C-SEDs/SED/CDPP_ExtendedStates-codename-Santi/src/cd++/cell -I/data/0-Facu/2022-2C-SEDs/SED/CDPP_ExtendedStates-codename-Santi/src/cd++/cell/obj -I/data/0-Facu/2022-2C-SEDs/SED/CDPP_ExtendedStates-codename-Santi/src/cd++/evt -I/data/0-Facu/2022-2C-SEDs/SED/CDPP_ExtendedStates-codename-Santi/src/cd++/evt/obj -I/data/0-Facu/2022-2C-SEDs/SED/CDPP_ExtendedStates-codename-Santi/src/cd++/main -I/data/0-Facu/2022-2C-SEDs/SED/CDPP_ExtendedStates-codename-Santi/src/cd++/main/obj -I/data/0-Facu/2022-2C-SEDs/SED/CDPP_ExtendedStates-codename-Santi/src/cd++/misc -I/data/0-Facu/2022-2C-SEDs/SED/CDPP_ExtendedStates-codename-Santi/src/cd++/misc/math -I/data/0-Facu/2022-2C-SEDs/SED/CDPP_ExtendedStates-codename-Santi/src/cd++/misc/math/obj -I/data/0-Facu/2022-2C-SEDs/SED/CDPP_ExtendedStates-codename-Santi/src/cd++/misc/obj -I/data/0-Facu/2022-2C-SEDs/SED/CDPP_ExtendedStates-codename-Santi/src/cd++/model -I/data/0-Facu/2022-2C-SEDs/SED/CDPP_ExtendedStates-codename-Santi/src/cd++/model/obj -I/data/0-Facu/2022-2C-SEDs/SED/CDPP_ExtendedStates-codename-Santi/src/cd++/model/state -I/data/0-Facu/2022-2C-SEDs/SED/CDPP_ExtendedStates-codename-Santi/src/cd++/model/state/obj -I/data/0-Facu/2022-2C-SEDs/SED/CDPP_ExtendedStates-codename-Santi/src/cd++/msg -I/data/0-Facu/2022-2C-SEDs/SED/CDPP_ExtendedStates-codename-Santi/src/cd++/msg/obj -I/data/0-Facu/2022-2C-SEDs/SED/CDPP_ExtendedStates-codename-Santi/src/cd++/parser -I/data/0-Facu/2022-2C-SEDs/SED/CDPP_ExtendedStates-codename-Santi/src/cd++/parser/cdlang -I/data/0-Facu/2022-2C-SEDs/SED/CDPP_ExtendedStates-codename-Santi/src/cd++/parser/cdlang/obj -I/data/0-Facu/2022-2C-SEDs/SED/CDPP_ExtendedStates-codename-Santi/src/cd++/parser/obj -I/data/0-Facu/2022-2C-SEDs/SED/CDPP_ExtendedStates-codename-Santi/src/cd++/proc -I/data/0-Facu/2022-2C-SEDs/SED/CDPP_ExtendedStates-codename-Santi/src/cd++/proc/obj -I/data/0-Facu/2022-2C-SEDs/SED/CDPP_ExtendedStates-codename-Santi/src/cd++/proc/state -I/data/0-Facu/2022-2C-SEDs/SED/CDPP_ExtendedStates-codename-Santi/src/cd++/proc/state/obj -I/data/0-Facu/2022-2C-SEDs/SED/CDPP_ExtendedStates-codename-Santi/src/cd++/sim -I/data/0-Facu/2022-2C-SEDs/SED/CDPP_ExtendedStates-codename-Santi/src/cd++/sim/loader -I/data/0-Facu/2022-2C-SEDs/SED/CDPP_ExtendedStates-codename-Santi/src/cd++/sim/loader/obj -I/data/0-Facu/2022-2C-SEDs/SED/CDPP_ExtendedStates-codename-Santi/src/cd++/sim/obj -I/data/0-Facu/2022-2C-SEDs/SED/CDPP_ExtendedStates-codename-Santi/src/cd++/utils -I/data/0-Facu/2022-2C-SEDs/SED/CDPP_ExtendedStates-codename-Santi/src/cd++/utils/log -I/data/0-Facu/2022-2C-SEDs/SED/CDPP_ExtendedStates-codename-Santi/src/cd++/utils/log/obj -I/data/0-Facu/2022-2C-SEDs/SED/CDPP_ExtendedStates-codename-Santi/src/cd++/utils/obj -I/data/0-Facu/2022-2C-SEDs/SED/CDPP_ExtendedStates-codename-Santi/src/cd++/val -I/data/0-Facu/2022-2C-SEDs/SED/CDPP_ExtendedStates-codename-Santi/src/cd++/val/obj -I/data/0-Facu/2022-2C-SEDs/SED/CDPP_ExtendedStates-codename-Santi/src/cd++/warped -I/data/0-Facu/2022-2C-SEDs/SED/CDPP_ExtendedStates-codename-Santi/src/cd++/warped/common -I/data/0-Facu/2022-2C-SEDs/SED/CDPP_ExtendedStates-codename-Santi/src/cd++/warped/common/obj -I/data/0-Facu/2022-2C-SEDs/SED/CDPP_ExtendedStates-codename-Santi/src/cd++/warped/notime -I/data/0-Facu/2022-2C-SEDs/SED/CDPP_ExtendedStates-codename-Santi/src/cd++/warped/notime/obj  -DREGISTER_ATOMICS -DKERNEL_NOTIME -DUSE_USER_VTIME -DHAS_BOOLEAN -g -O0 -Wall -Wno-deprecated -std=c++11  stdaload.cpp -o obj/stdaload.o\n",
      "make[3]: Leaving directory '/data/0-Facu/2022-2C-SEDs/SED/CDPP_ExtendedStates-codename-Santi/src/cd++/sim/loader'\n",
      "make[2]: Leaving directory '/data/0-Facu/2022-2C-SEDs/SED/CDPP_ExtendedStates-codename-Santi/src/cd++/sim'\n",
      "make[3]: Leaving directory '/data/0-Facu/2022-2C-SEDs/SED/CDPP_ExtendedStates-codename-Santi/src/cd++/parser/cdlang'\n",
      "make[2]: Leaving directory '/data/0-Facu/2022-2C-SEDs/SED/CDPP_ExtendedStates-codename-Santi/src/cd++/parser'\n",
      "g++ -L/data/0-Facu/2022-2C-SEDs/SED/CDPP_ExtendedStates-codename-Santi/examples/sed_tp1/src/bin -o /data/0-Facu/2022-2C-SEDs/SED/CDPP_ExtendedStates-codename-Santi/examples/sed_tp1/src/bin/cd++ main/obj/main.o warped/common/obj/VTime.o warped/notime/obj/BasicEvent.o warped/notime/obj/BasicNoTime.o warped/notime/obj/BasicState.o warped/notime/obj/CommManager.o warped/notime/obj/DebugStream.o warped/notime/obj/FileQueue.o warped/notime/obj/InputQueue.o warped/notime/obj/Interactive.o warped/notime/obj/KernelMsgs.o warped/notime/obj/LogicalProcess.o warped/notime/obj/NoTime.o warped/notime/obj/NoTimeObject.o /data/0-Facu/2022-2C-SEDs/SED/CDPP_ExtendedStates-codename-Santi/examples/sed_tp1/src/bin/Medio.o /data/0-Facu/2022-2C-SEDs/SED/CDPP_ExtendedStates-codename-Santi/examples/sed_tp1/src/bin/Persona.o /data/0-Facu/2022-2C-SEDs/SED/CDPP_ExtendedStates-codename-Santi/examples/sed_tp1/src/bin/register.o -lsimu\n"
     ]
    },
    {
     "name": "stderr",
     "output_type": "stream",
     "text": [
      "/usr/bin/ld: /data/0-Facu/2022-2C-SEDs/SED/CDPP_ExtendedStates-codename-Santi/examples/sed_tp1/src/bin/libsimu.a(macroexp.o): in function `macroExpansion::expand[abi:cxx11]()':\n",
      "/data/0-Facu/2022-2C-SEDs/SED/CDPP_ExtendedStates-codename-Santi/src/cd++/utils/macroexp.cpp:147: warning: the use of `tmpnam' is dangerous, better use `mkstemp'\n",
      "/usr/bin/ld: warped/notime/obj/DebugStream.o: in function `DebugStream::interact()':\n",
      "/data/0-Facu/2022-2C-SEDs/SED/CDPP_ExtendedStates-codename-Santi/src/cd++/warped/notime/DebugStream.cpp:682: warning: the `gets' function is dangerous and should not be used.\n"
     ]
    },
    {
     "name": "stdout",
     "output_type": "stream",
     "text": [
      "make[1]: Leaving directory '/data/0-Facu/2022-2C-SEDs/SED/CDPP_ExtendedStates-codename-Santi/src/cd++'\n"
     ]
    }
   ],
   "source": [
    "%%bash -s \"$CDPP_TP1\"\n",
    "\n",
    "# prueba de que anduvo bien la compilación:\n",
    "\n",
    "cd $1/src\n",
    "#pwd\n",
    "#Comentar make clean ante un error\n",
    "#make clean\n",
    "\n",
    "make -j4"
   ]
  },
  {
   "cell_type": "markdown",
   "id": "bd2ccd56",
   "metadata": {},
   "source": [
    "## Simulación del modelo con CD++"
   ]
  },
  {
   "cell_type": "markdown",
   "id": "02aaedbc",
   "metadata": {},
   "source": [
    "Armamos un código para poder generar archivos model.ma según los distintos parámetros que elijamos poner en los distintos experimentos"
   ]
  },
  {
   "cell_type": "code",
   "execution_count": 3,
   "id": "ec5bdb3c",
   "metadata": {},
   "outputs": [],
   "source": [
    "import networkx as nx\n",
    "import numpy as np\n",
    "def generarMA(n, maxG, ps, infs, pcs, tss, grados, pms, nroMedios, psMedios,\n",
    "              periodos_emision, pcMedios, periodo_info=3600, file=\"model.ma\"):\n",
    "    \n",
    "    grados[grados>maxG] = maxG\n",
    "    if(grados.sum() % 2 != 0):\n",
    "        if(grados[0] < maxG):\n",
    "            grados[0] = grados[0]+1\n",
    "        else:\n",
    "            grados[0] = grados[0]-1\n",
    "            \n",
    "    ps[ps>1] = 1\n",
    "    ps[ps<-1] = -1\n",
    "\n",
    "    infs[infs>1] = 1\n",
    "    infs[infs<0] = 0\n",
    "    \n",
    "    pcs[pcs>1] = 1\n",
    "    pcs[pcs<0] = 0\n",
    "\n",
    "    tss[infs>1] = 1\n",
    "    tss[infs<0] = 0\n",
    "    \n",
    "    pms[pms<0] = 0    \n",
    "    \n",
    "    \n",
    "    f = open(CDPP_TP1.joinpath(\"model/\"+file),'w')\n",
    "    f.write(\"[Top]\\n\")\n",
    "    f.write(\"components : Sociedad\\n\")\n",
    "    f.write(\"components : generador@Generator\\n\")\n",
    "    for i in range(0,nroMedios):\n",
    "        f.write(\"components : Medio\"+str(i)+\"@Medio\\n\")\n",
    "    \n",
    "    #f.write(\"in: infoRequest\\n\")\n",
    "\n",
    "    for i in range(0,n):\n",
    "        f.write(\"out : info_out\"+str(i)+\"\\n\")\n",
    "    \n",
    "    #f.write(\"Link : infoRequest infoRequest@Sociedad\\n\")\n",
    "    f.write(\"Link : out@generador infoRequest@Sociedad\\n\")\n",
    "    for i in range(0,n):\n",
    "        f.write(\"Link : info_out\"+str(i)+\"@Sociedad info_out\"+str(i)+\"\\n\")\n",
    "        \n",
    "    for i in range(0,nroMedios): \n",
    "        f.write(\"Link : out@Medio\"+str(i)+\" inMedios@Sociedad\\n\")\n",
    "\n",
    "    f.write(\"\\n[Sociedad]\\n\")\n",
    "    for i in range(0,n):\n",
    "        f.write(\"components: Persona\"+str(i)+\"@Persona\\n\")\n",
    "    for i in range(0,n):\n",
    "        f.write(\"out : info_out\"+str(i)+\"\\n\")\n",
    "\n",
    "    f.write(\"in : infoRequest\\n\")\n",
    "    f.write(\"in : inMedios\\n\")\n",
    "        \n",
    "    for i in range(0,n):\n",
    "        f.write(\"Link : outInfo@Persona\"+str(i)+\" info_out\"+str(i)+\"\\n\")\n",
    "        f.write(\"Link : infoRequest infoRequest@Persona\"+str(i)+\"\\n\")\n",
    "        f.write(\"Link : inMedios inMedios@Persona\"+str(i)+\"\\n\")\n",
    "\n",
    "    conf_model = nx.configuration_model(grados)\n",
    "    conf_model = nx.Graph(conf_model)\n",
    "    conf_model.remove_edges_from(nx.selfloop_edges(conf_model))\n",
    "\n",
    "    puerto_mas_alto = dict.fromkeys(range(0,n),1)\n",
    "\n",
    "    for node in range(0,n):\n",
    "\n",
    "        neighborhood = nx.all_neighbors(conf_model, node)\n",
    "        degree = nx.degree(conf_model, node)\n",
    "        nombre = \"@Persona\"+str(node)\n",
    "\n",
    "        for neighbor in neighborhood:\n",
    "            if neighbor > node:\n",
    "                port = puerto_mas_alto[node]\n",
    "                puerto_mas_alto[node] += 1\n",
    "\n",
    "                out_port = \"outPort\"+str(port)\n",
    "                in_port = \"inPort\"+str(port)\n",
    "\n",
    "                port_neighbor = puerto_mas_alto[neighbor]\n",
    "                puerto_mas_alto[neighbor] += 1\n",
    "\n",
    "                nombre_vecino = \"@Persona\"+str(neighbor)\n",
    "                out_port_neighbor = \"outPort\"+str(port_neighbor)\n",
    "                in_port_neighbor = \"inPort\"+str(port_neighbor)\n",
    "\n",
    "                f.write(\"Link : \"+out_port+nombre+\" \"+in_port_neighbor+nombre_vecino+\"\\n\")\n",
    "                f.write(\"Link : \"+out_port_neighbor+nombre_vecino+\" \"+in_port+nombre+\"\\n\")\n",
    "\n",
    "    for i in range(0,n):\n",
    "        f.write(\"\\n[Persona\"+str(i)+\"]\\n\")\n",
    "        f.write(\"p : \"+str(ps[i])+\"\\n\")\n",
    "        f.write(\"influenciabilidad : \"+str(infs[i])+\"\\n\")\n",
    "        f.write(\"poder_convencimiento : \"+str(pcs[i])+\"\\n\")\n",
    "        f.write(\"tiempo_sillon : \"+str(tss[i])+\"\\n\")\n",
    "        f.write(\"periodo_medio : \"+str(pms[i])+\"\\n\")\n",
    "        f.write(\"grado : \"+str(nx.degree(conf_model, i))+\"\\n\")\n",
    "        \n",
    "    for i in range(0,nroMedios):\n",
    "        f.write(\"\\n[Medio\"+str(i)+\"]\\n\")\n",
    "        f.write(\"P : \"+str(psMedios[i])+\"\\n\")\n",
    "        f.write(\"Periodo_de_emision : \"+str(periodos_emision[i])+\"\\n\")\n",
    "        f.write(\"Poder_de_convencimiento : \"+str(pcMedios[i])+\"\\n\")\n",
    "    \n",
    "    f.write(\"\\n[generador]\\n\")\n",
    "    f.write(\"distribution : constant\\n\")\n",
    "    f.write(\"value : \"+str(periodo_info)+\"\\n\")\n",
    "    f.write(\"init : 1\\n\")\n",
    "    f.write(\"increment : 0\\n\")\n",
    "\n",
    "    f.close()\n",
    "    return conf_model"
   ]
  },
  {
   "cell_type": "code",
   "execution_count": null,
   "id": "cc4a32cc",
   "metadata": {},
   "outputs": [],
   "source": []
  },
  {
   "cell_type": "markdown",
   "id": "975e89b6",
   "metadata": {},
   "source": [
    "# Experimentos"
   ]
  },
  {
   "cell_type": "markdown",
   "id": "d15713e1",
   "metadata": {},
   "source": [
    "En esta sección usaremos el modelo creado para experimentar vía simulación, cómo evolucionan las opiniones de los distintos integrantes de sociedades a lo largo del tiempo. Setearemos distintas condiciones iniciales en cada experimento, para analizar diferentes posibles escenarios. "
   ]
  },
  {
   "cell_type": "markdown",
   "id": "6a02cf76",
   "metadata": {},
   "source": [
    "## Experimento 1: Sociedad heterogénea (uniforme) / sin medios de comunicación"
   ]
  },
  {
   "cell_type": "code",
   "execution_count": 38,
   "id": "f132cda5",
   "metadata": {},
   "outputs": [],
   "source": [
    "n = 1000\n",
    "\n",
    "nroMedios = 2\n",
    "\n",
    "medias = np.append(np.full(int(n/2), 0.7), np.full(int(n/2), -0.7))\n",
    "stds = np.full(n, 0.1)\n",
    "\n",
    "ps = np.random.normal(medias,stds,n)\n",
    "ps[ps>1] = 1\n",
    "ps[ps<-1] = -1\n",
    "\n",
    "infs =  np.random.normal(0.3,0.1,n)\n",
    "infs[infs>1] = 1\n",
    "infs[infs<0] = 0\n",
    "\n",
    "pcs =  np.random.normal(0.3,0.1,n)\n",
    "pcs[pcs>1] = 1\n",
    "pcs[pcs<0] = 0\n",
    "\n",
    "tss =  np.random.normal(0.5,0.2,n)\n",
    "tss[infs>1] = 1\n",
    "tss[infs<0] = 0\n",
    "\n",
    "maxG = 5\n",
    "mean = 3\n",
    "\n",
    "grados = np.random.poisson(mean, n)\n",
    "grados[grados > maxG] = maxG\n",
    "if(grados.sum() % 2 != 0):\n",
    "    if(grados[0] < maxG):\n",
    "        grados[0] = grados[0]+1\n",
    "    else:\n",
    "        grados[0] = grados[0]-1\n",
    "\n",
    "pms =  np.random.normal(1000,10,n)\n",
    "pms[pms<0] = 0\n",
    "\n",
    "graph = generarMA(n, maxG, ps, infs, pcs, tss, \n",
    "                  grados, pms, nroMedios, psMedios = [-1,1],\n",
    "                  periodos_emision = [2,2], pcMedios = [0.8,0.8], file=\"model.ma\")"
   ]
  },
  {
   "cell_type": "code",
   "execution_count": null,
   "id": "0638a54a",
   "metadata": {},
   "outputs": [],
   "source": [
    "%%bash -s \"$CDPP_TP1\"\n",
    "\n",
    "cd $1/model\n",
    "\n",
    "cat model.ma"
   ]
  },
  {
   "cell_type": "code",
   "execution_count": 42,
   "id": "8d50bc57",
   "metadata": {},
   "outputs": [
    {
     "name": "stdout",
     "output_type": "stream",
     "text": [
      "PCD++: A Tool to Implement n-Dimensional Cell-DEVS models\n",
      "Version 3.0 - March 2003\n",
      "Troccoli A., Rodriguez D., Wainer G., Barylko A., Beyoglonian J., Lopez A.\n",
      "-----------------------------------------------------------------------------\n",
      "PCD++ Extended States: An extended and improved version of CD++ for Cell-DEVS\n",
      "Version 4.1.2 - December 2018\n",
      "Santi L., Castro, R., Pimás, J.\n",
      "-----------------------------------------------------------------------------\n",
      "Discrete Event Simulation Lab\n",
      "Departamento de Computación\n",
      "Facultad de Ciencias Exactas y Naturales\n",
      "Universidad de Buenos Aires, Argentina\n",
      "-----------------------------------------------------------------------------\n",
      "Compiled for standalone simulation\n",
      "\n",
      "\n",
      "Loading models from ./model/model.ma\n",
      "Loading events from \n",
      "Running parallel simulation. Reading models partition from \n",
      "Model partition details output to: /dev/null*\n",
      "Message log: \n",
      "Output to: ./out/salidas.out\n",
      "Tolerance set to: 1e-08\n",
      "Configuration to show real numbers: Width = 12 - Precision = 5\n",
      "Quantum: Not used\n",
      "Evaluate Debug Mode = OFF\n",
      "Flat Cell Debug Mode = OFF\n",
      "Debug Cell Rules Mode = OFF\n",
      "Temporary File created by Preprocessor = /tmp/file2dOR8j\n",
      "Printing parser information = OFF\n",
      "\n",
      "Stop at time: 01:00:00:000:0\n",
      "LP 0: initializing simulation objects\n",
      "LP 0: starting simulation (NoTime).\n",
      "Simulation complete!\n",
      "Simulation ended!\n",
      "LP 0 has finished simulation \n"
     ]
    },
    {
     "name": "stderr",
     "output_type": "stream",
     "text": [
      "Task exception was never retrieved\n",
      "future: <Task finished name='Task-77' coro=<ScriptMagics.shebang.<locals>._handle_stream() done, defined at /home/gromczyk/.virtualenvs/sed2022/lib/python3.10/site-packages/IPython/core/magics/script.py:211> exception=ValueError('Separator is not found, and chunk exceed the limit')>\n",
      "Traceback (most recent call last):\n",
      "  File \"/usr/lib/python3.10/asyncio/streams.py\", line 525, in readline\n",
      "    line = await self.readuntil(sep)\n",
      "  File \"/usr/lib/python3.10/asyncio/streams.py\", line 603, in readuntil\n",
      "    raise exceptions.LimitOverrunError(\n",
      "asyncio.exceptions.LimitOverrunError: Separator is not found, and chunk exceed the limit\n",
      "\n",
      "During handling of the above exception, another exception occurred:\n",
      "\n",
      "Traceback (most recent call last):\n",
      "  File \"/home/gromczyk/.virtualenvs/sed2022/lib/python3.10/site-packages/IPython/core/magics/script.py\", line 213, in _handle_stream\n",
      "    line = (await stream.readline()).decode(\"utf8\")\n",
      "  File \"/usr/lib/python3.10/asyncio/streams.py\", line 534, in readline\n",
      "    raise ValueError(e.args[0])\n",
      "ValueError: Separator is not found, and chunk exceed the limit\n"
     ]
    }
   ],
   "source": [
    "%%bash -s \"$CDPP_TP1\"\n",
    "\n",
    "# prueba de que anduvo bien la compilación:\n",
    "\n",
    "cd $1\n",
    "\n",
    "src/bin/cd++ -m ./model/model.ma \\\n",
    "        -o ./out/salidas.out\\\n",
    "        -t 1:00:00:00"
   ]
  },
  {
   "cell_type": "code",
   "execution_count": 14,
   "id": "d4cf1abb",
   "metadata": {},
   "outputs": [
    {
     "data": {
      "text/plain": [
       "[<matplotlib.lines.Line2D at 0x7f572e81ea40>]"
      ]
     },
     "execution_count": 14,
     "metadata": {},
     "output_type": "execute_result"
    },
    {
     "data": {
      "image/png": "[encoded data removed]",
      "text/plain": [
       "<Figure size 640x480 with 1 Axes>"
      ]
     },
     "metadata": {},
     "output_type": "display_data"
    }
   ],
   "source": [
    "import re\n",
    "import pandas as pd\n",
    "import matplotlib.pyplot as plt\n",
    "\n",
    "def getDataFrom(file=\"out/testTiempo.out\"):\n",
    "    \n",
    "    f = open(file, \"r\")\n",
    "    file_contents = f.read()\n",
    "    lines = file_contents.split(\"\\n\")[:-1]\n",
    "    for i in range(0,len(lines)):\n",
    "        lines[i] = re.split('\\s+', lines[i])\n",
    "        lines[i][1] = re.findall(r'\\d+', lines[i][1])[0]\n",
    "    lines = np.array(lines)\n",
    " \n",
    "\n",
    "    times = lines[:,0].tolist()\n",
    "    personas = lines[:,1].astype(int).tolist()\n",
    "    ps = lines[:,2].astype(float).tolist()\n",
    "    return times, personas, ps\n",
    "\n",
    "def meansFromDF(times, personas, ps):\n",
    "    cantHoras = personas.count(0)\n",
    "    cantPersonas = times.count('00:00:00:000:0')\n",
    "    \n",
    "    \n",
    "    horas = []\n",
    "    medias = []\n",
    "    \n",
    "    for i in range(0, cantHoras):\n",
    "        horas.append(times[i*cantPersonas])\n",
    "        suma = 0\n",
    "        for j in range(i*cantPersonas, (i+1)*cantPersonas):\n",
    "            suma += ps[j]\n",
    "        suma /= cantPersonas\n",
    "        medias.append(suma)\n",
    "    \n",
    "    return horas, medias   \n",
    "    \n",
    "\n",
    "times, personas, ps = getDataFrom()\n",
    "\n",
    "horas, medias = meansFromDF(times, personas, ps)\n",
    "\n",
    "\n",
    "plt.plot(medias)"
   ]
  }
 ],
 "metadata": {
  "kernelspec": {
   "display_name": "Python 3 (ipykernel)",
   "language": "python",
   "name": "python3"
  },
  "language_info": {
   "codemirror_mode": {
    "name": "ipython",
    "version": 3
   },
   "file_extension": ".py",
   "mimetype": "text/x-python",
   "name": "python",
   "nbconvert_exporter": "python",
   "pygments_lexer": "ipython3",
   "version": "3.10.6"
  }
 },
 "nbformat": 4,
 "nbformat_minor": 5
}
