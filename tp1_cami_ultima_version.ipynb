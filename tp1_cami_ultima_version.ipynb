{
 "cells": [
  {
   "cell_type": "markdown",
   "metadata": {
    "executionInfo": {
     "elapsed": 345,
     "status": "ok",
     "timestamp": 1628285293955,
     "user": {
      "displayName": "Rodrigo Castro",
      "photoUrl": "https://lh3.googleusercontent.com/a-/AOh14Ghb6vU3XlZbOt8v2XNxvKylJamDqmV_BWQc5MubWKE=s64",
      "userId": "00513184483602039361"
     },
     "user_tz": 180
    },
    "id": "W4IH1fA7bMwX",
    "tags": []
   },
   "source": [
    "# <b> Evolución de opiniones en grupos de personas influenciadas por medios de comunicación "
   ]
  },
  {
   "cell_type": "markdown",
   "metadata": {},
   "source": [
    "En este trabajo, estudiaremos cómo las opiniones de las distintas personas que componen una sociedad evolucionan con el tiempo a medida que interactúan entre ellas. También estudiaremos la influencia de los medios de comunicación en este proceso.   "
   ]
  },
  {
   "cell_type": "markdown",
   "metadata": {},
   "source": [
    "# Introducción"
   ]
  },
  {
   "cell_type": "markdown",
   "metadata": {},
   "source": [
    "Cuando dos personas debaten sobre cierto tema, en general, ambos cambian (al menos un poco) su opinión sobre el tema en cuestión ya que la opinión de uno influye en la opinión del otro. Esta influencia puede ser mayor o menor, dependiendo de varios factores: qué tanto poder de convencimiento tenga la persona emisora, qué tan influenciable sea la persona receptora, qué tanta diferencia haya entre la opinión de uno y del otro, entre otros factores. De este modo, en una masa de personas que interactúan entre sí, las opiniones de todos los individuos van a ir variando constantemente, en mayor o menor medida.  \n",
    "Por otro lado, al estudiar cómo las opiniones de los individuos de una sociedad van variando, debemos tener en cuenta el efecto de los medios de comunicación masivos. Estos emiten opiniones sobre temas que serán recibidas por gran parte de los individuos de la sociedad. También hay que tener en cuenta que algunas personas serán más influenciadas por ciertos medios, y otras por otros. \n",
    "En este trabajo, se tratará de estudiar cómo se comportan las opiniones de las personas que integran una sociedad y la influencia de los medios de comunicación masivos, teniendo en cuenta todos los factores anteriormente mencionados. Haremos varios experimentos alternando las condiciones iniciales de las personas que conforman la población, de la sociedad en general y de los medios de comunicación. \n"
   ]
  },
  {
   "cell_type": "markdown",
   "metadata": {},
   "source": [
    "# El modelo"
   ]
  },
  {
   "cell_type": "markdown",
   "metadata": {},
   "source": [
    "En este modelo, asumiremos que las interacciones serán dos a dos. Es decir, cada interacción involucrará sólo a un emisor (persona o medio de comunicación) y a una persona receptora. \n",
    "Usaremos un parámetro p ∈ [-1,1] para medir la opinión que tenga cada persona sobre el tema a debatir. Valores de p cercanos a 1 ó -1, se corresponden con opiniones muy radicales y extremistas; valores de p cercanos a 0, representarán opiniones menos extremas.  \n",
    "Al interactuar una persona receptora de opinión p, con un emisor de opinión p* (que podría ser una persona o un medio de comunicación), supondremos que el p de esta persona se modificará al valor p’ de la siguiente manera:  \n"
   ]
  },
  {
   "cell_type": "markdown",
   "metadata": {},
   "source": [
    "ACA VA LA FORMULA DE P (FORMULA 1) "
   ]
  },
  {
   "cell_type": "markdown",
   "metadata": {},
   "source": [
    "Donde i ∈ [0 , 1] representa el nivel de influenciabilidad de la persona receptora y pc ∈ [0 , 1] representa el poder de convencimiento que tenga el emisor. Notar que h ≥ 0.  \n",
    "Observar que la opinión de la persona receptora p, cambiará en la dirección de la opinión del emisor con el que esté interactuando, es decir, en la dirección de p$*$, debido al factor (p – p$*$) que está en el segundo término.  \n",
    "El factor h se puso para tener en cuenta los efectos de la influenciabilidad de la persona receptora y el poder de convencimiento del emisor. Notar que en los casos extremos donde pc toma valores muy cercanos a 0 (es decir, la persona emisora es muy poco convincente) o donde i toma valores muy cercanos a 0 (es decir, la persona receptora es muy poco influenciable), h será cercano a 0 y por lo tanto el segundo término de la fórmula también, y por lo tanto p’ quedará muy parecido a p (es decir, la opinión de la persona receptora será cambiada muy poco). En el otro caso extremo (pc cercano a 1 y i cercano a 1), el h tomará un valor grande y por ende el p’ cambiará bastante con respecto de p (es decir, la opinión de la persona receptora será cambiada bastante). Notar que si p = p$*$, la opinión p no se alterará.  \n",
    "El factor (ACA VA LA TRICUBICA) se puso para tener en cuenta el efecto de que si las personas tuviesen opiniones muy diferentes entre sí (es decir, si p es fuese muy diferente de p*), la influencia que se harían mutuamente esas dos personas, tendería a ser más bien baja.  \n"
   ]
  },
  {
   "cell_type": "markdown",
   "metadata": {},
   "source": [
    "En cuanto a los medios de comunicación, asumiremos que todos medios podrían ser oídos por todos los integrantes de la sociedad, pero tendremos en cuenta el hecho de que es mucho más probable que una persona reciba noticias de medios con opiniones afines a las suyas, que noticias de medios con opiniones muy diferentes. Además de esto, tendremos en cuenta que las personas que pasan mucho tiempo prestando atención a los medios, escucharán noticias con mucha más frecuencia que aquellas personas que no. Para tener en cuenta estos dos factores, se decidió que para cada emisión dada por cierto medio, cada persona de la sociedad tenga una probabilidad de escucharla dada por "
   ]
  },
  {
   "cell_type": "markdown",
   "metadata": {},
   "source": [
    "ACA VA LA FORMULA DE LA PROBABILIDAD DE ESCUCHAR UNA NOTICIA (FORMULA 2)"
   ]
  },
  {
   "cell_type": "markdown",
   "metadata": {},
   "source": [
    "donde p representa la opinión de la persona receptora, p$*$ la opinión del medio emisor y ts representa el \"tiempo sillón\" que indicaría cuánto tiempo dedica la persona receptora a oir noticias emitidas por medios. Notar, que cuánto más grande sea la diferencia entre p y p$*$ (o sea cuánto menos afín sea la opinión del medio con respecto a la opinión del receptor), menos será la probabilidad de que esa persona oiga esa noticia; y cuánto menos tiempo sillón (ts) tenga esa persona, también, menos probable será que la oiga."
   ]
  },
  {
   "cell_type": "markdown",
   "metadata": {},
   "source": [
    "# Estructura del modelo"
   ]
  },
  {
   "cell_type": "markdown",
   "metadata": {},
   "source": [
    "Para simular este modelo, usaremos varios modelos atómicos llamados “Persona” que todos juntos conformarán un modelo acoplado llamado “Sociedad”. Por otro lado, habrá N modelos atómicos “Medio de comunicación” que interactuarán con todos los miembros de la sociedad."
   ]
  },
  {
   "cell_type": "markdown",
   "metadata": {},
   "source": [
    "ACA VA EL ESQUEMA DEL TOP MODEL"
   ]
  },
  {
   "cell_type": "markdown",
   "metadata": {},
   "source": [
    "El grafo que conecta a las personas en el modelo Sociedad, será definido mediante configuration model."
   ]
  },
  {
   "cell_type": "markdown",
   "metadata": {},
   "source": [
    "Si llamamos n al máximo grado de libertad de todos los nodos Persona que componen la sociedad, entonces, tenemos que cada Persona tendrá n + 1 puertos input: n de ellos se usarán para que la persona reciba información de sus personas conocidas y el puerto input restante se usará para que la persona reciba información proveniente de los distintos medios de comunicación. Por otro lado, cada persona tendrá n puertos output para emitir información a sus conocidos."
   ]
  },
  {
   "cell_type": "markdown",
   "metadata": {},
   "source": [
    "ACA VA EL ESQUEMA DEL MODELO PERSONA"
   ]
  },
  {
   "cell_type": "markdown",
   "metadata": {},
   "source": [
    "Los modelos atómicos Medio de comunicación tendrán únicamente un puerto output que se conectará con el puerto inMedios del modelo Sociedad, por el que emitirán distintos comunicados de valor p$*$. Luego, a través de este puerto inMedios de Sociedad, se harán llegar las noticias emitidas por los distintos medios a todas las personas de la sociedad. Dada una noticia emitida por un medio, cada persona de la sociedad podrá oirla o no, según una probabilidad dada por la *fórmula 2*. "
   ]
  },
  {
   "cell_type": "markdown",
   "metadata": {},
   "source": [
    "# Simulación "
   ]
  },
  {
   "cell_type": "markdown",
   "metadata": {},
   "source": [
    "Comencemos importando algunas librerías que necesitaremos para hacer la simulación."
   ]
  },
  {
   "cell_type": "code",
   "execution_count": 17,
   "metadata": {},
   "outputs": [],
   "source": [
    "from pathlib import Path\n",
    "\n",
    "CDPP_TP1 = Path.cwd()\n",
    "#CDPP_SCRIPTS = CDPP_DIR.joinpath('scripts')\n",
    "#BASE_BIN = CDPP_SRC.joinpath('bin')"
   ]
  },
  {
   "cell_type": "markdown",
   "metadata": {},
   "source": [
    "### Simulador CD++"
   ]
  },
  {
   "cell_type": "code",
   "execution_count": 18,
   "metadata": {
    "scrolled": true,
    "tags": []
   },
   "outputs": [
    {
     "name": "stdout",
     "output_type": "stream",
     "text": [
      "make -C ../../../src/cd++ cd++ OUT_DIR=/home/camilaguibaudo/SED/CDPP_ExtendedStates-codename-Santi/examples/sed_tp1-main/src/bin MODEL_FLAGS=-DREGISTER_ATOMICS\n",
      "make[1]: Entering directory '/home/camilaguibaudo/SED/CDPP_ExtendedStates-codename-Santi/src/cd++'\n",
      "make -C /home/camilaguibaudo/SED/CDPP_ExtendedStates-codename-Santi/src/cd++/atomics OBJ_DIR=obj SRC_DIR=/home/camilaguibaudo/SED/CDPP_ExtendedStates-codename-Santi/src/cd++ MODEL_FLAGS=-DREGISTER_ATOMICS\n",
      "make -C /home/camilaguibaudo/SED/CDPP_ExtendedStates-codename-Santi/src/cd++/cell OBJ_DIR=obj SRC_DIR=/home/camilaguibaudo/SED/CDPP_ExtendedStates-codename-Santi/src/cd++ MODEL_FLAGS=-DREGISTER_ATOMICS\n",
      "make[2]: Entering directory '/home/camilaguibaudo/SED/CDPP_ExtendedStates-codename-Santi/src/cd++/atomics'\n",
      "make -C cpu OBJ_DIR=obj SRC_DIR=/home/camilaguibaudo/SED/CDPP_ExtendedStates-codename-Santi/src/cd++\n",
      "make -C queue OBJ_DIR=obj SRC_DIR=/home/camilaguibaudo/SED/CDPP_ExtendedStates-codename-Santi/src/cd++\n",
      "make -C qss OBJ_DIR=obj SRC_DIR=/home/camilaguibaudo/SED/CDPP_ExtendedStates-codename-Santi/src/cd++\n",
      "make[3]: Entering directory '/home/camilaguibaudo/SED/CDPP_ExtendedStates-codename-Santi/src/cd++/atomics/queue'\n",
      "make[3]: Nothing to be done for 'all'.\n",
      "make[3]: Leaving directory '/home/camilaguibaudo/SED/CDPP_ExtendedStates-codename-Santi/src/cd++/atomics/queue'\n",
      "make[3]: Entering directory '/home/camilaguibaudo/SED/CDPP_ExtendedStates-codename-Santi/src/cd++/atomics/cpu'\n",
      "make[3]: Nothing to be done for 'all'.\n",
      "make[3]: Leaving directory '/home/camilaguibaudo/SED/CDPP_ExtendedStates-codename-Santi/src/cd++/atomics/cpu'\n",
      "make -C generator OBJ_DIR=obj SRC_DIR=/home/camilaguibaudo/SED/CDPP_ExtendedStates-codename-Santi/src/cd++\n",
      "make -C transducer OBJ_DIR=obj SRC_DIR=/home/camilaguibaudo/SED/CDPP_ExtendedStates-codename-Santi/src/cd++\n",
      "make[3]: Entering directory '/home/camilaguibaudo/SED/CDPP_ExtendedStates-codename-Santi/src/cd++/atomics/qss'\n",
      "make[3]: Nothing to be done for 'all'.\n",
      "make[3]: Leaving directory '/home/camilaguibaudo/SED/CDPP_ExtendedStates-codename-Santi/src/cd++/atomics/qss'\n",
      "make -C /home/camilaguibaudo/SED/CDPP_ExtendedStates-codename-Santi/src/cd++/evt OBJ_DIR=obj SRC_DIR=/home/camilaguibaudo/SED/CDPP_ExtendedStates-codename-Santi/src/cd++ MODEL_FLAGS=-DREGISTER_ATOMICS\n",
      "make[2]: Entering directory '/home/camilaguibaudo/SED/CDPP_ExtendedStates-codename-Santi/src/cd++/cell'\n",
      "make[2]: Nothing to be done for 'all'.\n",
      "make[2]: Leaving directory '/home/camilaguibaudo/SED/CDPP_ExtendedStates-codename-Santi/src/cd++/cell'\n",
      "make -C /home/camilaguibaudo/SED/CDPP_ExtendedStates-codename-Santi/src/cd++/misc OBJ_DIR=obj SRC_DIR=/home/camilaguibaudo/SED/CDPP_ExtendedStates-codename-Santi/src/cd++ MODEL_FLAGS=-DREGISTER_ATOMICS\n",
      "make[3]: Entering directory '/home/camilaguibaudo/SED/CDPP_ExtendedStates-codename-Santi/src/cd++/atomics/transducer'\n",
      "make[3]: Nothing to be done for 'all'.\n",
      "make[3]: Leaving directory '/home/camilaguibaudo/SED/CDPP_ExtendedStates-codename-Santi/src/cd++/atomics/transducer'\n",
      "make[3]: Entering directory '/home/camilaguibaudo/SED/CDPP_ExtendedStates-codename-Santi/src/cd++/atomics/generator'\n",
      "make[3]: Nothing to be done for 'all'.\n",
      "make[3]: Leaving directory '/home/camilaguibaudo/SED/CDPP_ExtendedStates-codename-Santi/src/cd++/atomics/generator'\n",
      "make[2]: Leaving directory '/home/camilaguibaudo/SED/CDPP_ExtendedStates-codename-Santi/src/cd++/atomics'\n",
      "make -C /home/camilaguibaudo/SED/CDPP_ExtendedStates-codename-Santi/src/cd++/model OBJ_DIR=obj SRC_DIR=/home/camilaguibaudo/SED/CDPP_ExtendedStates-codename-Santi/src/cd++ MODEL_FLAGS=-DREGISTER_ATOMICS\n",
      "make[2]: Entering directory '/home/camilaguibaudo/SED/CDPP_ExtendedStates-codename-Santi/src/cd++/evt'\n",
      "make[2]: Nothing to be done for 'all'.\n",
      "make[2]: Leaving directory '/home/camilaguibaudo/SED/CDPP_ExtendedStates-codename-Santi/src/cd++/evt'\n",
      "make[2]: Entering directory '/home/camilaguibaudo/SED/CDPP_ExtendedStates-codename-Santi/src/cd++/misc'\n",
      "make -C math OBJ_DIR=obj SRC_DIR=/home/camilaguibaudo/SED/CDPP_ExtendedStates-codename-Santi/src/cd++\n",
      "make -C /home/camilaguibaudo/SED/CDPP_ExtendedStates-codename-Santi/src/cd++/msg OBJ_DIR=obj SRC_DIR=/home/camilaguibaudo/SED/CDPP_ExtendedStates-codename-Santi/src/cd++ MODEL_FLAGS=-DREGISTER_ATOMICS\n",
      "make[3]: Entering directory '/home/camilaguibaudo/SED/CDPP_ExtendedStates-codename-Santi/src/cd++/misc/math'\n",
      "make[3]: Nothing to be done for 'all'.\n",
      "make[3]: Leaving directory '/home/camilaguibaudo/SED/CDPP_ExtendedStates-codename-Santi/src/cd++/misc/math'\n",
      "make -C /home/camilaguibaudo/SED/CDPP_ExtendedStates-codename-Santi/src/cd++/parser OBJ_DIR=obj SRC_DIR=/home/camilaguibaudo/SED/CDPP_ExtendedStates-codename-Santi/src/cd++ MODEL_FLAGS=-DREGISTER_ATOMICS\n",
      "make[2]: Leaving directory '/home/camilaguibaudo/SED/CDPP_ExtendedStates-codename-Santi/src/cd++/misc'\n",
      "make[2]: Entering directory '/home/camilaguibaudo/SED/CDPP_ExtendedStates-codename-Santi/src/cd++/model'\n",
      "make -C state OBJ_DIR=obj SRC_DIR=/home/camilaguibaudo/SED/CDPP_ExtendedStates-codename-Santi/src/cd++\n",
      "make -C /home/camilaguibaudo/SED/CDPP_ExtendedStates-codename-Santi/src/cd++/proc OBJ_DIR=obj SRC_DIR=/home/camilaguibaudo/SED/CDPP_ExtendedStates-codename-Santi/src/cd++ MODEL_FLAGS=-DREGISTER_ATOMICS\n",
      "make[2]: Entering directory '/home/camilaguibaudo/SED/CDPP_ExtendedStates-codename-Santi/src/cd++/msg'\n",
      "make[2]: Nothing to be done for 'all'.\n",
      "make[2]: Leaving directory '/home/camilaguibaudo/SED/CDPP_ExtendedStates-codename-Santi/src/cd++/msg'\n",
      "make[3]: Entering directory '/home/camilaguibaudo/SED/CDPP_ExtendedStates-codename-Santi/src/cd++/model/state'\n",
      "make[3]: Nothing to be done for 'all'.\n",
      "make[3]: Leaving directory '/home/camilaguibaudo/SED/CDPP_ExtendedStates-codename-Santi/src/cd++/model/state'\n",
      "make[2]: Leaving directory '/home/camilaguibaudo/SED/CDPP_ExtendedStates-codename-Santi/src/cd++/model'\n",
      "make[2]: Entering directory '/home/camilaguibaudo/SED/CDPP_ExtendedStates-codename-Santi/src/cd++/parser'\n",
      "make -C cdlang OBJ_DIR=obj SRC_DIR=/home/camilaguibaudo/SED/CDPP_ExtendedStates-codename-Santi/src/cd++\n",
      "make -C /home/camilaguibaudo/SED/CDPP_ExtendedStates-codename-Santi/src/cd++/sim OBJ_DIR=obj SRC_DIR=/home/camilaguibaudo/SED/CDPP_ExtendedStates-codename-Santi/src/cd++ MODEL_FLAGS=-DREGISTER_ATOMICS\n",
      "make -C /home/camilaguibaudo/SED/CDPP_ExtendedStates-codename-Santi/src/cd++/utils OBJ_DIR=obj SRC_DIR=/home/camilaguibaudo/SED/CDPP_ExtendedStates-codename-Santi/src/cd++ MODEL_FLAGS=-DREGISTER_ATOMICS\n",
      "make[3]: Entering directory '/home/camilaguibaudo/SED/CDPP_ExtendedStates-codename-Santi/src/cd++/parser/cdlang'\n",
      "make[2]: Entering directory '/home/camilaguibaudo/SED/CDPP_ExtendedStates-codename-Santi/src/cd++/sim'\n",
      "make[2]: Entering directory '/home/camilaguibaudo/SED/CDPP_ExtendedStates-codename-Santi/src/cd++/proc'\n",
      "make -C state OBJ_DIR=obj SRC_DIR=/home/camilaguibaudo/SED/CDPP_ExtendedStates-codename-Santi/src/cd++\n",
      "make[2]: Entering directory '/home/camilaguibaudo/SED/CDPP_ExtendedStates-codename-Santi/src/cd++/utils'\n",
      "make -C log OBJ_DIR=obj SRC_DIR=/home/camilaguibaudo/SED/CDPP_ExtendedStates-codename-Santi/src/cd++\n",
      "make[3]: Entering directory '/home/camilaguibaudo/SED/CDPP_ExtendedStates-codename-Santi/src/cd++/proc/state'\n",
      "make[3]: Nothing to be done for 'all'.\n",
      "make[3]: Leaving directory '/home/camilaguibaudo/SED/CDPP_ExtendedStates-codename-Santi/src/cd++/proc/state'\n",
      "make[2]: Leaving directory '/home/camilaguibaudo/SED/CDPP_ExtendedStates-codename-Santi/src/cd++/proc'\n",
      "make -C /home/camilaguibaudo/SED/CDPP_ExtendedStates-codename-Santi/src/cd++/val OBJ_DIR=obj SRC_DIR=/home/camilaguibaudo/SED/CDPP_ExtendedStates-codename-Santi/src/cd++ MODEL_FLAGS=-DREGISTER_ATOMICS\n",
      "make[3]: Entering directory '/home/camilaguibaudo/SED/CDPP_ExtendedStates-codename-Santi/src/cd++/utils/log'\n",
      "make[3]: Nothing to be done for 'all'.\n",
      "make[3]: Leaving directory '/home/camilaguibaudo/SED/CDPP_ExtendedStates-codename-Santi/src/cd++/utils/log'\n",
      "make[2]: Leaving directory '/home/camilaguibaudo/SED/CDPP_ExtendedStates-codename-Santi/src/cd++/utils'\n",
      "make[2]: Entering directory '/home/camilaguibaudo/SED/CDPP_ExtendedStates-codename-Santi/src/cd++/val'\n",
      "make[2]: Nothing to be done for 'all'.\n",
      "make[2]: Leaving directory '/home/camilaguibaudo/SED/CDPP_ExtendedStates-codename-Santi/src/cd++/val'\n",
      "make -C /home/camilaguibaudo/SED/CDPP_ExtendedStates-codename-Santi/src/cd++/main OBJ_DIR=obj SRC_DIR=/home/camilaguibaudo/SED/CDPP_ExtendedStates-codename-Santi/src/cd++ MODEL_FLAGS=-DREGISTER_ATOMICS\n",
      "make[2]: Entering directory '/home/camilaguibaudo/SED/CDPP_ExtendedStates-codename-Santi/src/cd++/main'\n",
      "make[2]: Nothing to be done for 'all'.\n",
      "make[2]: Leaving directory '/home/camilaguibaudo/SED/CDPP_ExtendedStates-codename-Santi/src/cd++/main'\n",
      "make -C /home/camilaguibaudo/SED/CDPP_ExtendedStates-codename-Santi/src/cd++/warped OBJ_DIR=obj SRC_DIR=/home/camilaguibaudo/SED/CDPP_ExtendedStates-codename-Santi/src/cd++ MODEL_FLAGS=-DREGISTER_ATOMICS\n",
      "make[2]: Entering directory '/home/camilaguibaudo/SED/CDPP_ExtendedStates-codename-Santi/src/cd++/warped'\n",
      "make -C common OBJ_DIR=obj SRC_DIR=/home/camilaguibaudo/SED/CDPP_ExtendedStates-codename-Santi/src/cd++\n",
      "make[3]: Entering directory '/home/camilaguibaudo/SED/CDPP_ExtendedStates-codename-Santi/src/cd++/warped/common'\n",
      "make[3]: Nothing to be done for 'all'.\n",
      "make[3]: Leaving directory '/home/camilaguibaudo/SED/CDPP_ExtendedStates-codename-Santi/src/cd++/warped/common'\n",
      "make -C notime OBJ_DIR=obj SRC_DIR=/home/camilaguibaudo/SED/CDPP_ExtendedStates-codename-Santi/src/cd++\n",
      "make[3]: Entering directory '/home/camilaguibaudo/SED/CDPP_ExtendedStates-codename-Santi/src/cd++/warped/notime'\n",
      "make[3]: Nothing to be done for 'all'.\n",
      "make[3]: Leaving directory '/home/camilaguibaudo/SED/CDPP_ExtendedStates-codename-Santi/src/cd++/warped/notime'\n",
      "make[2]: Leaving directory '/home/camilaguibaudo/SED/CDPP_ExtendedStates-codename-Santi/src/cd++/warped'\n",
      "g++ -c -I/home/camilaguibaudo/SED/CDPP_ExtendedStates-codename-Santi/src/cd++/utils -I/home/camilaguibaudo/SED/CDPP_ExtendedStates-codename-Santi/src/cd++/utils/obj -I/home/camilaguibaudo/SED/CDPP_ExtendedStates-codename-Santi/src/cd++/utils/log -I/home/camilaguibaudo/SED/CDPP_ExtendedStates-codename-Santi/src/cd++/utils/log/obj -I/home/camilaguibaudo/SED/CDPP_ExtendedStates-codename-Santi/src/cd++/warped -I/home/camilaguibaudo/SED/CDPP_ExtendedStates-codename-Santi/src/cd++/warped/common -I/home/camilaguibaudo/SED/CDPP_ExtendedStates-codename-Santi/src/cd++/warped/common/obj -I/home/camilaguibaudo/SED/CDPP_ExtendedStates-codename-Santi/src/cd++/warped/notime -I/home/camilaguibaudo/SED/CDPP_ExtendedStates-codename-Santi/src/cd++/warped/notime/obj -I/home/camilaguibaudo/SED/CDPP_ExtendedStates-codename-Santi/src/cd++/main -I/home/camilaguibaudo/SED/CDPP_ExtendedStates-codename-Santi/src/cd++/main/obj -I/home/camilaguibaudo/SED/CDPP_ExtendedStates-codename-Santi/src/cd++/msg -I/home/camilaguibaudo/SED/CDPP_ExtendedStates-codename-Santi/src/cd++/msg/obj -I/home/camilaguibaudo/SED/CDPP_ExtendedStates-codename-Santi/src/cd++/proc -I/home/camilaguibaudo/SED/CDPP_ExtendedStates-codename-Santi/src/cd++/proc/obj -I/home/camilaguibaudo/SED/CDPP_ExtendedStates-codename-Santi/src/cd++/proc/state -I/home/camilaguibaudo/SED/CDPP_ExtendedStates-codename-Santi/src/cd++/proc/state/obj -I/home/camilaguibaudo/SED/CDPP_ExtendedStates-codename-Santi/src/cd++/sim -I/home/camilaguibaudo/SED/CDPP_ExtendedStates-codename-Santi/src/cd++/sim/loader -I/home/camilaguibaudo/SED/CDPP_ExtendedStates-codename-Santi/src/cd++/sim/loader/obj -I/home/camilaguibaudo/SED/CDPP_ExtendedStates-codename-Santi/src/cd++/model -I/home/camilaguibaudo/SED/CDPP_ExtendedStates-codename-Santi/src/cd++/model/obj -I/home/camilaguibaudo/SED/CDPP_ExtendedStates-codename-Santi/src/cd++/model/state -I/home/camilaguibaudo/SED/CDPP_ExtendedStates-codename-Santi/src/cd++/model/state/obj -I/home/camilaguibaudo/SED/CDPP_ExtendedStates-codename-Santi/src/cd++/atomics -I/home/camilaguibaudo/SED/CDPP_ExtendedStates-codename-Santi/src/cd++/atomics/generator -I/home/camilaguibaudo/SED/CDPP_ExtendedStates-codename-Santi/src/cd++/atomics/generator/obj -I/home/camilaguibaudo/SED/CDPP_ExtendedStates-codename-Santi/src/cd++/atomics/cpu -I/home/camilaguibaudo/SED/CDPP_ExtendedStates-codename-Santi/src/cd++/atomics/cpu/obj -I/home/camilaguibaudo/SED/CDPP_ExtendedStates-codename-Santi/src/cd++/atomics/transducer -I/home/camilaguibaudo/SED/CDPP_ExtendedStates-codename-Santi/src/cd++/atomics/transducer/obj -I/home/camilaguibaudo/SED/CDPP_ExtendedStates-codename-Santi/src/cd++/atomics/qss -I/home/camilaguibaudo/SED/CDPP_ExtendedStates-codename-Santi/src/cd++/atomics/qss/obj -I/home/camilaguibaudo/SED/CDPP_ExtendedStates-codename-Santi/src/cd++/atomics/queue -I/home/camilaguibaudo/SED/CDPP_ExtendedStates-codename-Santi/src/cd++/atomics/queue/obj -I/home/camilaguibaudo/SED/CDPP_ExtendedStates-codename-Santi/src/cd++/evt -I/home/camilaguibaudo/SED/CDPP_ExtendedStates-codename-Santi/src/cd++/evt/obj -I/home/camilaguibaudo/SED/CDPP_ExtendedStates-codename-Santi/src/cd++/cell -I/home/camilaguibaudo/SED/CDPP_ExtendedStates-codename-Santi/src/cd++/cell/obj -I/home/camilaguibaudo/SED/CDPP_ExtendedStates-codename-Santi/src/cd++/val -I/home/camilaguibaudo/SED/CDPP_ExtendedStates-codename-Santi/src/cd++/val/obj -I/home/camilaguibaudo/SED/CDPP_ExtendedStates-codename-Santi/src/cd++/misc -I/home/camilaguibaudo/SED/CDPP_ExtendedStates-codename-Santi/src/cd++/misc/obj -I/home/camilaguibaudo/SED/CDPP_ExtendedStates-codename-Santi/src/cd++/misc/math -I/home/camilaguibaudo/SED/CDPP_ExtendedStates-codename-Santi/src/cd++/misc/math/obj -I/home/camilaguibaudo/SED/CDPP_ExtendedStates-codename-Santi/src/cd++/parser -I/home/camilaguibaudo/SED/CDPP_ExtendedStates-codename-Santi/src/cd++/parser/obj -I/home/camilaguibaudo/SED/CDPP_ExtendedStates-codename-Santi/src/cd++/parser/cdlang -I/home/camilaguibaudo/SED/CDPP_ExtendedStates-codename-Santi/src/cd++/parser/cdlang/obj  -DREGISTER_ATOMICS -DKERNEL_NOTIME -DUSE_USER_VTIME -DHAS_BOOLEAN -g -O0 -Wall -Wno-deprecated -std=c++11  parser.cpp -o obj/parser.o\n",
      "make clean\n",
      "g++ -c -I/home/camilaguibaudo/SED/CDPP_ExtendedStates-codename-Santi/src/cd++/utils -I/home/camilaguibaudo/SED/CDPP_ExtendedStates-codename-Santi/src/cd++/utils/obj -I/home/camilaguibaudo/SED/CDPP_ExtendedStates-codename-Santi/src/cd++/utils/log -I/home/camilaguibaudo/SED/CDPP_ExtendedStates-codename-Santi/src/cd++/utils/log/obj -I/home/camilaguibaudo/SED/CDPP_ExtendedStates-codename-Santi/src/cd++/warped -I/home/camilaguibaudo/SED/CDPP_ExtendedStates-codename-Santi/src/cd++/warped/common -I/home/camilaguibaudo/SED/CDPP_ExtendedStates-codename-Santi/src/cd++/warped/common/obj -I/home/camilaguibaudo/SED/CDPP_ExtendedStates-codename-Santi/src/cd++/warped/notime -I/home/camilaguibaudo/SED/CDPP_ExtendedStates-codename-Santi/src/cd++/warped/notime/obj -I/home/camilaguibaudo/SED/CDPP_ExtendedStates-codename-Santi/src/cd++/main -I/home/camilaguibaudo/SED/CDPP_ExtendedStates-codename-Santi/src/cd++/main/obj -I/home/camilaguibaudo/SED/CDPP_ExtendedStates-codename-Santi/src/cd++/msg -I/home/camilaguibaudo/SED/CDPP_ExtendedStates-codename-Santi/src/cd++/msg/obj -I/home/camilaguibaudo/SED/CDPP_ExtendedStates-codename-Santi/src/cd++/proc -I/home/camilaguibaudo/SED/CDPP_ExtendedStates-codename-Santi/src/cd++/proc/obj -I/home/camilaguibaudo/SED/CDPP_ExtendedStates-codename-Santi/src/cd++/proc/state -I/home/camilaguibaudo/SED/CDPP_ExtendedStates-codename-Santi/src/cd++/proc/state/obj -I/home/camilaguibaudo/SED/CDPP_ExtendedStates-codename-Santi/src/cd++/sim -I/home/camilaguibaudo/SED/CDPP_ExtendedStates-codename-Santi/src/cd++/sim/loader -I/home/camilaguibaudo/SED/CDPP_ExtendedStates-codename-Santi/src/cd++/sim/loader/obj -I/home/camilaguibaudo/SED/CDPP_ExtendedStates-codename-Santi/src/cd++/model -I/home/camilaguibaudo/SED/CDPP_ExtendedStates-codename-Santi/src/cd++/model/obj -I/home/camilaguibaudo/SED/CDPP_ExtendedStates-codename-Santi/src/cd++/model/state -I/home/camilaguibaudo/SED/CDPP_ExtendedStates-codename-Santi/src/cd++/model/state/obj -I/home/camilaguibaudo/SED/CDPP_ExtendedStates-codename-Santi/src/cd++/atomics -I/home/camilaguibaudo/SED/CDPP_ExtendedStates-codename-Santi/src/cd++/atomics/generator -I/home/camilaguibaudo/SED/CDPP_ExtendedStates-codename-Santi/src/cd++/atomics/generator/obj -I/home/camilaguibaudo/SED/CDPP_ExtendedStates-codename-Santi/src/cd++/atomics/cpu -I/home/camilaguibaudo/SED/CDPP_ExtendedStates-codename-Santi/src/cd++/atomics/cpu/obj -I/home/camilaguibaudo/SED/CDPP_ExtendedStates-codename-Santi/src/cd++/atomics/transducer -I/home/camilaguibaudo/SED/CDPP_ExtendedStates-codename-Santi/src/cd++/atomics/transducer/obj -I/home/camilaguibaudo/SED/CDPP_ExtendedStates-codename-Santi/src/cd++/atomics/qss -I/home/camilaguibaudo/SED/CDPP_ExtendedStates-codename-Santi/src/cd++/atomics/qss/obj -I/home/camilaguibaudo/SED/CDPP_ExtendedStates-codename-Santi/src/cd++/atomics/queue -I/home/camilaguibaudo/SED/CDPP_ExtendedStates-codename-Santi/src/cd++/atomics/queue/obj -I/home/camilaguibaudo/SED/CDPP_ExtendedStates-codename-Santi/src/cd++/evt -I/home/camilaguibaudo/SED/CDPP_ExtendedStates-codename-Santi/src/cd++/evt/obj -I/home/camilaguibaudo/SED/CDPP_ExtendedStates-codename-Santi/src/cd++/cell -I/home/camilaguibaudo/SED/CDPP_ExtendedStates-codename-Santi/src/cd++/cell/obj -I/home/camilaguibaudo/SED/CDPP_ExtendedStates-codename-Santi/src/cd++/val -I/home/camilaguibaudo/SED/CDPP_ExtendedStates-codename-Santi/src/cd++/val/obj -I/home/camilaguibaudo/SED/CDPP_ExtendedStates-codename-Santi/src/cd++/misc -I/home/camilaguibaudo/SED/CDPP_ExtendedStates-codename-Santi/src/cd++/misc/obj -I/home/camilaguibaudo/SED/CDPP_ExtendedStates-codename-Santi/src/cd++/misc/math -I/home/camilaguibaudo/SED/CDPP_ExtendedStates-codename-Santi/src/cd++/misc/math/obj -I/home/camilaguibaudo/SED/CDPP_ExtendedStates-codename-Santi/src/cd++/parser -I/home/camilaguibaudo/SED/CDPP_ExtendedStates-codename-Santi/src/cd++/parser/obj -I/home/camilaguibaudo/SED/CDPP_ExtendedStates-codename-Santi/src/cd++/parser/cdlang -I/home/camilaguibaudo/SED/CDPP_ExtendedStates-codename-Santi/src/cd++/parser/cdlang/obj  -DREGISTER_ATOMICS -DKERNEL_NOTIME -DUSE_USER_VTIME -DHAS_BOOLEAN -g -O0 -Wall -Wno-deprecated -std=c++11  parsimu.cpp -o obj/parsimu.o\n",
      "make[3]: Entering directory '/home/camilaguibaudo/SED/CDPP_ExtendedStates-codename-Santi/src/cd++/sim'\n",
      "make -C loader clean OBJ_DIR=obj SRC_DIR=/home/camilaguibaudo/SED/CDPP_ExtendedStates-codename-Santi/src/cd++\n",
      "make[4]: Entering directory '/home/camilaguibaudo/SED/CDPP_ExtendedStates-codename-Santi/src/cd++/sim/loader'\n",
      "make[4]: Leaving directory '/home/camilaguibaudo/SED/CDPP_ExtendedStates-codename-Santi/src/cd++/sim/loader'\n",
      "make[3]: Leaving directory '/home/camilaguibaudo/SED/CDPP_ExtendedStates-codename-Santi/src/cd++/sim'\n",
      "make -C loader OBJ_DIR=obj SRC_DIR=/home/camilaguibaudo/SED/CDPP_ExtendedStates-codename-Santi/src/cd++\n",
      "make[3]: Entering directory '/home/camilaguibaudo/SED/CDPP_ExtendedStates-codename-Santi/src/cd++/sim/loader'\n",
      "g++ -c -I/home/camilaguibaudo/SED/CDPP_ExtendedStates-codename-Santi/src/cd++/utils -I/home/camilaguibaudo/SED/CDPP_ExtendedStates-codename-Santi/src/cd++/utils/obj -I/home/camilaguibaudo/SED/CDPP_ExtendedStates-codename-Santi/src/cd++/utils/log -I/home/camilaguibaudo/SED/CDPP_ExtendedStates-codename-Santi/src/cd++/utils/log/obj -I/home/camilaguibaudo/SED/CDPP_ExtendedStates-codename-Santi/src/cd++/warped -I/home/camilaguibaudo/SED/CDPP_ExtendedStates-codename-Santi/src/cd++/warped/common -I/home/camilaguibaudo/SED/CDPP_ExtendedStates-codename-Santi/src/cd++/warped/common/obj -I/home/camilaguibaudo/SED/CDPP_ExtendedStates-codename-Santi/src/cd++/warped/notime -I/home/camilaguibaudo/SED/CDPP_ExtendedStates-codename-Santi/src/cd++/warped/notime/obj -I/home/camilaguibaudo/SED/CDPP_ExtendedStates-codename-Santi/src/cd++/main -I/home/camilaguibaudo/SED/CDPP_ExtendedStates-codename-Santi/src/cd++/main/obj -I/home/camilaguibaudo/SED/CDPP_ExtendedStates-codename-Santi/src/cd++/msg -I/home/camilaguibaudo/SED/CDPP_ExtendedStates-codename-Santi/src/cd++/msg/obj -I/home/camilaguibaudo/SED/CDPP_ExtendedStates-codename-Santi/src/cd++/proc -I/home/camilaguibaudo/SED/CDPP_ExtendedStates-codename-Santi/src/cd++/proc/obj -I/home/camilaguibaudo/SED/CDPP_ExtendedStates-codename-Santi/src/cd++/proc/state -I/home/camilaguibaudo/SED/CDPP_ExtendedStates-codename-Santi/src/cd++/proc/state/obj -I/home/camilaguibaudo/SED/CDPP_ExtendedStates-codename-Santi/src/cd++/sim -I/home/camilaguibaudo/SED/CDPP_ExtendedStates-codename-Santi/src/cd++/sim/loader -I/home/camilaguibaudo/SED/CDPP_ExtendedStates-codename-Santi/src/cd++/sim/loader/obj -I/home/camilaguibaudo/SED/CDPP_ExtendedStates-codename-Santi/src/cd++/model -I/home/camilaguibaudo/SED/CDPP_ExtendedStates-codename-Santi/src/cd++/model/obj -I/home/camilaguibaudo/SED/CDPP_ExtendedStates-codename-Santi/src/cd++/model/state -I/home/camilaguibaudo/SED/CDPP_ExtendedStates-codename-Santi/src/cd++/model/state/obj -I/home/camilaguibaudo/SED/CDPP_ExtendedStates-codename-Santi/src/cd++/atomics -I/home/camilaguibaudo/SED/CDPP_ExtendedStates-codename-Santi/src/cd++/atomics/generator -I/home/camilaguibaudo/SED/CDPP_ExtendedStates-codename-Santi/src/cd++/atomics/generator/obj -I/home/camilaguibaudo/SED/CDPP_ExtendedStates-codename-Santi/src/cd++/atomics/cpu -I/home/camilaguibaudo/SED/CDPP_ExtendedStates-codename-Santi/src/cd++/atomics/cpu/obj -I/home/camilaguibaudo/SED/CDPP_ExtendedStates-codename-Santi/src/cd++/atomics/transducer -I/home/camilaguibaudo/SED/CDPP_ExtendedStates-codename-Santi/src/cd++/atomics/transducer/obj -I/home/camilaguibaudo/SED/CDPP_ExtendedStates-codename-Santi/src/cd++/atomics/qss -I/home/camilaguibaudo/SED/CDPP_ExtendedStates-codename-Santi/src/cd++/atomics/qss/obj -I/home/camilaguibaudo/SED/CDPP_ExtendedStates-codename-Santi/src/cd++/atomics/queue -I/home/camilaguibaudo/SED/CDPP_ExtendedStates-codename-Santi/src/cd++/atomics/queue/obj -I/home/camilaguibaudo/SED/CDPP_ExtendedStates-codename-Santi/src/cd++/evt -I/home/camilaguibaudo/SED/CDPP_ExtendedStates-codename-Santi/src/cd++/evt/obj -I/home/camilaguibaudo/SED/CDPP_ExtendedStates-codename-Santi/src/cd++/cell -I/home/camilaguibaudo/SED/CDPP_ExtendedStates-codename-Santi/src/cd++/cell/obj -I/home/camilaguibaudo/SED/CDPP_ExtendedStates-codename-Santi/src/cd++/val -I/home/camilaguibaudo/SED/CDPP_ExtendedStates-codename-Santi/src/cd++/val/obj -I/home/camilaguibaudo/SED/CDPP_ExtendedStates-codename-Santi/src/cd++/misc -I/home/camilaguibaudo/SED/CDPP_ExtendedStates-codename-Santi/src/cd++/misc/obj -I/home/camilaguibaudo/SED/CDPP_ExtendedStates-codename-Santi/src/cd++/misc/math -I/home/camilaguibaudo/SED/CDPP_ExtendedStates-codename-Santi/src/cd++/misc/math/obj -I/home/camilaguibaudo/SED/CDPP_ExtendedStates-codename-Santi/src/cd++/parser -I/home/camilaguibaudo/SED/CDPP_ExtendedStates-codename-Santi/src/cd++/parser/obj -I/home/camilaguibaudo/SED/CDPP_ExtendedStates-codename-Santi/src/cd++/parser/cdlang -I/home/camilaguibaudo/SED/CDPP_ExtendedStates-codename-Santi/src/cd++/parser/cdlang/obj  -DREGISTER_ATOMICS -DKERNEL_NOTIME -DUSE_USER_VTIME -DHAS_BOOLEAN -g -O0 -Wall -Wno-deprecated -std=c++11  stdaload.cpp -o obj/stdaload.o\n",
      "g++ -c -I/home/camilaguibaudo/SED/CDPP_ExtendedStates-codename-Santi/src/cd++/utils -I/home/camilaguibaudo/SED/CDPP_ExtendedStates-codename-Santi/src/cd++/utils/obj -I/home/camilaguibaudo/SED/CDPP_ExtendedStates-codename-Santi/src/cd++/utils/log -I/home/camilaguibaudo/SED/CDPP_ExtendedStates-codename-Santi/src/cd++/utils/log/obj -I/home/camilaguibaudo/SED/CDPP_ExtendedStates-codename-Santi/src/cd++/warped -I/home/camilaguibaudo/SED/CDPP_ExtendedStates-codename-Santi/src/cd++/warped/common -I/home/camilaguibaudo/SED/CDPP_ExtendedStates-codename-Santi/src/cd++/warped/common/obj -I/home/camilaguibaudo/SED/CDPP_ExtendedStates-codename-Santi/src/cd++/warped/notime -I/home/camilaguibaudo/SED/CDPP_ExtendedStates-codename-Santi/src/cd++/warped/notime/obj -I/home/camilaguibaudo/SED/CDPP_ExtendedStates-codename-Santi/src/cd++/main -I/home/camilaguibaudo/SED/CDPP_ExtendedStates-codename-Santi/src/cd++/main/obj -I/home/camilaguibaudo/SED/CDPP_ExtendedStates-codename-Santi/src/cd++/msg -I/home/camilaguibaudo/SED/CDPP_ExtendedStates-codename-Santi/src/cd++/msg/obj -I/home/camilaguibaudo/SED/CDPP_ExtendedStates-codename-Santi/src/cd++/proc -I/home/camilaguibaudo/SED/CDPP_ExtendedStates-codename-Santi/src/cd++/proc/obj -I/home/camilaguibaudo/SED/CDPP_ExtendedStates-codename-Santi/src/cd++/proc/state -I/home/camilaguibaudo/SED/CDPP_ExtendedStates-codename-Santi/src/cd++/proc/state/obj -I/home/camilaguibaudo/SED/CDPP_ExtendedStates-codename-Santi/src/cd++/sim -I/home/camilaguibaudo/SED/CDPP_ExtendedStates-codename-Santi/src/cd++/sim/loader -I/home/camilaguibaudo/SED/CDPP_ExtendedStates-codename-Santi/src/cd++/sim/loader/obj -I/home/camilaguibaudo/SED/CDPP_ExtendedStates-codename-Santi/src/cd++/model -I/home/camilaguibaudo/SED/CDPP_ExtendedStates-codename-Santi/src/cd++/model/obj -I/home/camilaguibaudo/SED/CDPP_ExtendedStates-codename-Santi/src/cd++/model/state -I/home/camilaguibaudo/SED/CDPP_ExtendedStates-codename-Santi/src/cd++/model/state/obj -I/home/camilaguibaudo/SED/CDPP_ExtendedStates-codename-Santi/src/cd++/atomics -I/home/camilaguibaudo/SED/CDPP_ExtendedStates-codename-Santi/src/cd++/atomics/generator -I/home/camilaguibaudo/SED/CDPP_ExtendedStates-codename-Santi/src/cd++/atomics/generator/obj -I/home/camilaguibaudo/SED/CDPP_ExtendedStates-codename-Santi/src/cd++/atomics/cpu -I/home/camilaguibaudo/SED/CDPP_ExtendedStates-codename-Santi/src/cd++/atomics/cpu/obj -I/home/camilaguibaudo/SED/CDPP_ExtendedStates-codename-Santi/src/cd++/atomics/transducer -I/home/camilaguibaudo/SED/CDPP_ExtendedStates-codename-Santi/src/cd++/atomics/transducer/obj -I/home/camilaguibaudo/SED/CDPP_ExtendedStates-codename-Santi/src/cd++/atomics/qss -I/home/camilaguibaudo/SED/CDPP_ExtendedStates-codename-Santi/src/cd++/atomics/qss/obj -I/home/camilaguibaudo/SED/CDPP_ExtendedStates-codename-Santi/src/cd++/atomics/queue -I/home/camilaguibaudo/SED/CDPP_ExtendedStates-codename-Santi/src/cd++/atomics/queue/obj -I/home/camilaguibaudo/SED/CDPP_ExtendedStates-codename-Santi/src/cd++/evt -I/home/camilaguibaudo/SED/CDPP_ExtendedStates-codename-Santi/src/cd++/evt/obj -I/home/camilaguibaudo/SED/CDPP_ExtendedStates-codename-Santi/src/cd++/cell -I/home/camilaguibaudo/SED/CDPP_ExtendedStates-codename-Santi/src/cd++/cell/obj -I/home/camilaguibaudo/SED/CDPP_ExtendedStates-codename-Santi/src/cd++/val -I/home/camilaguibaudo/SED/CDPP_ExtendedStates-codename-Santi/src/cd++/val/obj -I/home/camilaguibaudo/SED/CDPP_ExtendedStates-codename-Santi/src/cd++/misc -I/home/camilaguibaudo/SED/CDPP_ExtendedStates-codename-Santi/src/cd++/misc/obj -I/home/camilaguibaudo/SED/CDPP_ExtendedStates-codename-Santi/src/cd++/misc/math -I/home/camilaguibaudo/SED/CDPP_ExtendedStates-codename-Santi/src/cd++/misc/math/obj -I/home/camilaguibaudo/SED/CDPP_ExtendedStates-codename-Santi/src/cd++/parser -I/home/camilaguibaudo/SED/CDPP_ExtendedStates-codename-Santi/src/cd++/parser/obj -I/home/camilaguibaudo/SED/CDPP_ExtendedStates-codename-Santi/src/cd++/parser/cdlang -I/home/camilaguibaudo/SED/CDPP_ExtendedStates-codename-Santi/src/cd++/parser/cdlang/obj  -DREGISTER_ATOMICS -DKERNEL_NOTIME -DUSE_USER_VTIME -DHAS_BOOLEAN -g -O0 -Wall -Wno-deprecated -std=c++11  gram.c -o obj/gram.o\n",
      "make[3]: Leaving directory '/home/camilaguibaudo/SED/CDPP_ExtendedStates-codename-Santi/src/cd++/sim/loader'\n",
      "g++ -c -I/home/camilaguibaudo/SED/CDPP_ExtendedStates-codename-Santi/src/cd++/utils -I/home/camilaguibaudo/SED/CDPP_ExtendedStates-codename-Santi/src/cd++/utils/obj -I/home/camilaguibaudo/SED/CDPP_ExtendedStates-codename-Santi/src/cd++/utils/log -I/home/camilaguibaudo/SED/CDPP_ExtendedStates-codename-Santi/src/cd++/utils/log/obj -I/home/camilaguibaudo/SED/CDPP_ExtendedStates-codename-Santi/src/cd++/warped -I/home/camilaguibaudo/SED/CDPP_ExtendedStates-codename-Santi/src/cd++/warped/common -I/home/camilaguibaudo/SED/CDPP_ExtendedStates-codename-Santi/src/cd++/warped/common/obj -I/home/camilaguibaudo/SED/CDPP_ExtendedStates-codename-Santi/src/cd++/warped/notime -I/home/camilaguibaudo/SED/CDPP_ExtendedStates-codename-Santi/src/cd++/warped/notime/obj -I/home/camilaguibaudo/SED/CDPP_ExtendedStates-codename-Santi/src/cd++/main -I/home/camilaguibaudo/SED/CDPP_ExtendedStates-codename-Santi/src/cd++/main/obj -I/home/camilaguibaudo/SED/CDPP_ExtendedStates-codename-Santi/src/cd++/msg -I/home/camilaguibaudo/SED/CDPP_ExtendedStates-codename-Santi/src/cd++/msg/obj -I/home/camilaguibaudo/SED/CDPP_ExtendedStates-codename-Santi/src/cd++/proc -I/home/camilaguibaudo/SED/CDPP_ExtendedStates-codename-Santi/src/cd++/proc/obj -I/home/camilaguibaudo/SED/CDPP_ExtendedStates-codename-Santi/src/cd++/proc/state -I/home/camilaguibaudo/SED/CDPP_ExtendedStates-codename-Santi/src/cd++/proc/state/obj -I/home/camilaguibaudo/SED/CDPP_ExtendedStates-codename-Santi/src/cd++/sim -I/home/camilaguibaudo/SED/CDPP_ExtendedStates-codename-Santi/src/cd++/sim/loader -I/home/camilaguibaudo/SED/CDPP_ExtendedStates-codename-Santi/src/cd++/sim/loader/obj -I/home/camilaguibaudo/SED/CDPP_ExtendedStates-codename-Santi/src/cd++/model -I/home/camilaguibaudo/SED/CDPP_ExtendedStates-codename-Santi/src/cd++/model/obj -I/home/camilaguibaudo/SED/CDPP_ExtendedStates-codename-Santi/src/cd++/model/state -I/home/camilaguibaudo/SED/CDPP_ExtendedStates-codename-Santi/src/cd++/model/state/obj -I/home/camilaguibaudo/SED/CDPP_ExtendedStates-codename-Santi/src/cd++/atomics -I/home/camilaguibaudo/SED/CDPP_ExtendedStates-codename-Santi/src/cd++/atomics/generator -I/home/camilaguibaudo/SED/CDPP_ExtendedStates-codename-Santi/src/cd++/atomics/generator/obj -I/home/camilaguibaudo/SED/CDPP_ExtendedStates-codename-Santi/src/cd++/atomics/cpu -I/home/camilaguibaudo/SED/CDPP_ExtendedStates-codename-Santi/src/cd++/atomics/cpu/obj -I/home/camilaguibaudo/SED/CDPP_ExtendedStates-codename-Santi/src/cd++/atomics/transducer -I/home/camilaguibaudo/SED/CDPP_ExtendedStates-codename-Santi/src/cd++/atomics/transducer/obj -I/home/camilaguibaudo/SED/CDPP_ExtendedStates-codename-Santi/src/cd++/atomics/qss -I/home/camilaguibaudo/SED/CDPP_ExtendedStates-codename-Santi/src/cd++/atomics/qss/obj -I/home/camilaguibaudo/SED/CDPP_ExtendedStates-codename-Santi/src/cd++/atomics/queue -I/home/camilaguibaudo/SED/CDPP_ExtendedStates-codename-Santi/src/cd++/atomics/queue/obj -I/home/camilaguibaudo/SED/CDPP_ExtendedStates-codename-Santi/src/cd++/evt -I/home/camilaguibaudo/SED/CDPP_ExtendedStates-codename-Santi/src/cd++/evt/obj -I/home/camilaguibaudo/SED/CDPP_ExtendedStates-codename-Santi/src/cd++/cell -I/home/camilaguibaudo/SED/CDPP_ExtendedStates-codename-Santi/src/cd++/cell/obj -I/home/camilaguibaudo/SED/CDPP_ExtendedStates-codename-Santi/src/cd++/val -I/home/camilaguibaudo/SED/CDPP_ExtendedStates-codename-Santi/src/cd++/val/obj -I/home/camilaguibaudo/SED/CDPP_ExtendedStates-codename-Santi/src/cd++/misc -I/home/camilaguibaudo/SED/CDPP_ExtendedStates-codename-Santi/src/cd++/misc/obj -I/home/camilaguibaudo/SED/CDPP_ExtendedStates-codename-Santi/src/cd++/misc/math -I/home/camilaguibaudo/SED/CDPP_ExtendedStates-codename-Santi/src/cd++/misc/math/obj -I/home/camilaguibaudo/SED/CDPP_ExtendedStates-codename-Santi/src/cd++/parser -I/home/camilaguibaudo/SED/CDPP_ExtendedStates-codename-Santi/src/cd++/parser/obj -I/home/camilaguibaudo/SED/CDPP_ExtendedStates-codename-Santi/src/cd++/parser/cdlang -I/home/camilaguibaudo/SED/CDPP_ExtendedStates-codename-Santi/src/cd++/parser/cdlang/obj  -DREGISTER_ATOMICS -DKERNEL_NOTIME -DUSE_USER_VTIME -DHAS_BOOLEAN -g -O0 -Wall -Wno-deprecated -std=c++11  register.cpp -o obj/register.o\n",
      "make[2]: Leaving directory '/home/camilaguibaudo/SED/CDPP_ExtendedStates-codename-Santi/src/cd++/sim'\n",
      "make[3]: Leaving directory '/home/camilaguibaudo/SED/CDPP_ExtendedStates-codename-Santi/src/cd++/parser/cdlang'\n",
      "make[2]: Leaving directory '/home/camilaguibaudo/SED/CDPP_ExtendedStates-codename-Santi/src/cd++/parser'\n",
      "g++ -L/home/camilaguibaudo/SED/CDPP_ExtendedStates-codename-Santi/examples/sed_tp1-main/src/bin -o /home/camilaguibaudo/SED/CDPP_ExtendedStates-codename-Santi/examples/sed_tp1-main/src/bin/cd++ main/obj/main.o warped/common/obj/VTime.o warped/notime/obj/InputQueue.o warped/notime/obj/NoTime.o warped/notime/obj/NoTimeObject.o warped/notime/obj/DebugStream.o warped/notime/obj/BasicState.o warped/notime/obj/Interactive.o warped/notime/obj/KernelMsgs.o warped/notime/obj/FileQueue.o warped/notime/obj/BasicNoTime.o warped/notime/obj/BasicEvent.o warped/notime/obj/CommManager.o warped/notime/obj/LogicalProcess.o /home/camilaguibaudo/SED/CDPP_ExtendedStates-codename-Santi/examples/sed_tp1-main/src/bin/Medio.o /home/camilaguibaudo/SED/CDPP_ExtendedStates-codename-Santi/examples/sed_tp1-main/src/bin/register.o /home/camilaguibaudo/SED/CDPP_ExtendedStates-codename-Santi/examples/sed_tp1-main/src/bin/Persona.o -lsimu\n",
      "make[1]: Leaving directory '/home/camilaguibaudo/SED/CDPP_ExtendedStates-codename-Santi/src/cd++'\n"
     ]
    },
    {
     "name": "stderr",
     "output_type": "stream",
     "text": [
      "/usr/bin/ld: /home/camilaguibaudo/SED/CDPP_ExtendedStates-codename-Santi/examples/sed_tp1-main/src/bin/libsimu.a(macroexp.o): in function `macroExpansion::expand[abi:cxx11]()':\n",
      "/home/camilaguibaudo/SED/CDPP_ExtendedStates-codename-Santi/src/cd++/utils/macroexp.cpp:147: warning: the use of `tmpnam' is dangerous, better use `mkstemp'\n",
      "/usr/bin/ld: warped/notime/obj/DebugStream.o: in function `DebugStream::interact()':\n",
      "/home/camilaguibaudo/SED/CDPP_ExtendedStates-codename-Santi/src/cd++/warped/notime/DebugStream.cpp:682: warning: the `gets' function is dangerous and should not be used.\n"
     ]
    }
   ],
   "source": [
    "%%bash -s \"$CDPP_TP1\"\n",
    "\n",
    "# prueba de que anduvo bien la compilación:\n",
    "\n",
    "cd $1/src\n",
    "#pwd\n",
    "#Comentar make clean ante un error\n",
    "#make clean\n",
    "\n",
    "make -j4"
   ]
  },
  {
   "cell_type": "markdown",
   "metadata": {},
   "source": [
    "## Simulación del modelo con CD++"
   ]
  },
  {
   "cell_type": "markdown",
   "metadata": {},
   "source": [
    "Armamos un código para poder generar archivos model.ma según los distintos parámetros que elijamos poner en los distintos experimentos"
   ]
  },
  {
   "cell_type": "code",
   "execution_count": 21,
   "metadata": {},
   "outputs": [],
   "source": [
    "import networkx as nx\n",
    "import numpy as np\n",
    "def generarMA(n, maxG, ps, infs, pcs, tss, grados, pms, nroMedios, psMedios,\n",
    "              periodos_emision, pcMedios, periodo_info=3600, file=\"model.ma\"):\n",
    "    \n",
    "    grados[grados>maxG] = maxG\n",
    "    if(grados.sum() % 2 != 0):\n",
    "        if(grados[0] < maxG):\n",
    "            grados[0] = grados[0]+1\n",
    "        else:\n",
    "            grados[0] = grados[0]-1\n",
    "            \n",
    "    ps[ps>1] = 1\n",
    "    ps[ps<-1] = -1\n",
    "\n",
    "    infs[infs>1] = 1\n",
    "    infs[infs<0] = 0\n",
    "    \n",
    "    pcs[pcs>1] = 1\n",
    "    pcs[pcs<0] = 0\n",
    "\n",
    "    tss[infs>1] = 1\n",
    "    tss[infs<0] = 0\n",
    "    \n",
    "    pms[pms<0] = 0    \n",
    "    \n",
    "    \n",
    "    f = open(CDPP_TP1.joinpath(\"model/\"+file),'w')\n",
    "    f.write(\"[Top]\\n\")\n",
    "    f.write(\"components : Sociedad\\n\")\n",
    "    f.write(\"components : generador@Generator\\n\")\n",
    "    for i in range(0,nroMedios):\n",
    "        f.write(\"components : Medio\"+str(i)+\"@Medio\\n\")\n",
    "    \n",
    "    #f.write(\"in: infoRequest\\n\")\n",
    "\n",
    "    for i in range(0,n):\n",
    "        f.write(\"out : info_out\"+str(i)+\"\\n\")\n",
    "    \n",
    "    #f.write(\"Link : infoRequest infoRequest@Sociedad\\n\")\n",
    "    f.write(\"Link : out@generador infoRequest@Sociedad\\n\")\n",
    "    for i in range(0,n):\n",
    "        f.write(\"Link : info_out\"+str(i)+\"@Sociedad info_out\"+str(i)+\"\\n\")\n",
    "        \n",
    "    for i in range(0,nroMedios): \n",
    "        f.write(\"Link : out@Medio\"+str(i)+\" inMedios@Sociedad\\n\")\n",
    "\n",
    "    f.write(\"\\n[Sociedad]\\n\")\n",
    "    for i in range(0,n):\n",
    "        f.write(\"components: Persona\"+str(i)+\"@Persona\\n\")\n",
    "    for i in range(0,n):\n",
    "        f.write(\"out : info_out\"+str(i)+\"\\n\")\n",
    "\n",
    "    f.write(\"in : infoRequest\\n\")\n",
    "    f.write(\"in : inMedios\\n\")\n",
    "        \n",
    "    for i in range(0,n):\n",
    "        f.write(\"Link : outInfo@Persona\"+str(i)+\" info_out\"+str(i)+\"\\n\")\n",
    "        f.write(\"Link : infoRequest infoRequest@Persona\"+str(i)+\"\\n\")\n",
    "        f.write(\"Link : inMedios inMedios@Persona\"+str(i)+\"\\n\")\n",
    "\n",
    "    conf_model = nx.configuration_model(grados)\n",
    "    conf_model = nx.Graph(conf_model)\n",
    "    conf_model.remove_edges_from(nx.selfloop_edges(conf_model))\n",
    "\n",
    "    puerto_mas_alto = dict.fromkeys(range(0,n),1)\n",
    "\n",
    "    for node in range(0,n):\n",
    "\n",
    "        neighborhood = nx.all_neighbors(conf_model, node)\n",
    "        degree = nx.degree(conf_model, node)\n",
    "        nombre = \"@Persona\"+str(node)\n",
    "\n",
    "        for neighbor in neighborhood:\n",
    "            if neighbor > node:\n",
    "                port = puerto_mas_alto[node]\n",
    "                puerto_mas_alto[node] += 1\n",
    "\n",
    "                out_port = \"outPort\"+str(port)\n",
    "                in_port = \"inPort\"+str(port)\n",
    "\n",
    "                port_neighbor = puerto_mas_alto[neighbor]\n",
    "                puerto_mas_alto[neighbor] += 1\n",
    "\n",
    "                nombre_vecino = \"@Persona\"+str(neighbor)\n",
    "                out_port_neighbor = \"outPort\"+str(port_neighbor)\n",
    "                in_port_neighbor = \"inPort\"+str(port_neighbor)\n",
    "\n",
    "                f.write(\"Link : \"+out_port+nombre+\" \"+in_port_neighbor+nombre_vecino+\"\\n\")\n",
    "                f.write(\"Link : \"+out_port_neighbor+nombre_vecino+\" \"+in_port+nombre+\"\\n\")\n",
    "\n",
    "    for i in range(0,n):\n",
    "        f.write(\"\\n[Persona\"+str(i)+\"]\\n\")\n",
    "        f.write(\"p : \"+str(ps[i])+\"\\n\")\n",
    "        f.write(\"influenciabilidad : \"+str(infs[i])+\"\\n\")\n",
    "        f.write(\"poder_convencimiento : \"+str(pcs[i])+\"\\n\")\n",
    "        f.write(\"tiempo_sillon : \"+str(tss[i])+\"\\n\")\n",
    "        f.write(\"periodo_medio : \"+str(pms[i])+\"\\n\")\n",
    "        f.write(\"grado : \"+str(nx.degree(conf_model, i))+\"\\n\")\n",
    "        \n",
    "    for i in range(0,nroMedios):\n",
    "        f.write(\"\\n[Medio\"+str(i)+\"]\\n\")\n",
    "        f.write(\"P : \"+str(psMedios[i])+\"\\n\")\n",
    "        f.write(\"Periodo_de_emision : \"+str(periodos_emision[i])+\"\\n\")\n",
    "        f.write(\"Poder_de_convencimiento : \"+str(pcMedios[i])+\"\\n\")\n",
    "    \n",
    "    f.write(\"\\n[generador]\\n\")\n",
    "    f.write(\"distribution : constant\\n\")\n",
    "    f.write(\"value : \"+str(periodo_info)+\"\\n\")\n",
    "    f.write(\"init : 1\\n\")\n",
    "    f.write(\"increment : 0\\n\")\n",
    "\n",
    "    f.close()\n",
    "    return conf_model"
   ]
  },
  {
   "cell_type": "code",
   "execution_count": 22,
   "metadata": {},
   "outputs": [],
   "source": [
    "n = 10\n",
    "\n",
    "nroMedios = 3\n",
    "\n",
    "ps = np.random.normal(0,0.7,n)\n",
    "ps[ps>1] = 1\n",
    "ps[ps<-1] = -1\n",
    "\n",
    "infs =  np.random.normal(0.5,0.2,n)\n",
    "infs[infs>1] = 1\n",
    "infs[infs<0] = 0\n",
    "\n",
    "pcs =  np.random.normal(0.5,0.2,n)\n",
    "pcs[pcs>1] = 1\n",
    "pcs[pcs<0] = 0\n",
    "\n",
    "tss =  np.random.normal(0.5,0.2,n)\n",
    "tss[infs>1] = 1\n",
    "tss[infs<0] = 0\n",
    "\n",
    "maxG =5\n",
    "mean = 3\n",
    "\n",
    "grados = np.random.poisson(mean, n)\n",
    "grados[grados > maxG] = maxG\n",
    "if(grados.sum() % 2 != 0):\n",
    "    if(grados[0] < maxG):\n",
    "        grados[0] = grados[0]+1\n",
    "    else:\n",
    "        grados[0] = grados[0]-1\n",
    "\n",
    "pms =  np.random.normal(1000,10,n)\n",
    "pms[pms<0] = 0\n",
    "\n",
    "graph = generarMA(n, maxG, ps, infs, pcs, tss, grados, pms, nroMedios, psMedios = [1,0,-1], periodos_emision = [2,1,3], pcMedios = [0.9,1,1], file=\"model.ma\")"
   ]
  },
  {
   "cell_type": "code",
   "execution_count": 23,
   "metadata": {},
   "outputs": [
    {
     "name": "stdout",
     "output_type": "stream",
     "text": [
      "[Top]\n",
      "components : Sociedad\n",
      "components : generador@Generator\n",
      "components : Medio0@Medio\n",
      "components : Medio1@Medio\n",
      "components : Medio2@Medio\n",
      "out : info_out0\n",
      "out : info_out1\n",
      "out : info_out2\n",
      "out : info_out3\n",
      "out : info_out4\n",
      "out : info_out5\n",
      "out : info_out6\n",
      "out : info_out7\n",
      "out : info_out8\n",
      "out : info_out9\n",
      "Link : out@generador infoRequest@Sociedad\n",
      "Link : info_out0@Sociedad info_out0\n",
      "Link : info_out1@Sociedad info_out1\n",
      "Link : info_out2@Sociedad info_out2\n",
      "Link : info_out3@Sociedad info_out3\n",
      "Link : info_out4@Sociedad info_out4\n",
      "Link : info_out5@Sociedad info_out5\n",
      "Link : info_out6@Sociedad info_out6\n",
      "Link : info_out7@Sociedad info_out7\n",
      "Link : info_out8@Sociedad info_out8\n",
      "Link : info_out9@Sociedad info_out9\n",
      "Link : out@Medio0 inMedios@Sociedad\n",
      "Link : out@Medio1 inMedios@Sociedad\n",
      "Link : out@Medio2 inMedios@Sociedad\n",
      "\n",
      "[Sociedad]\n",
      "components: Persona0@Persona\n",
      "components: Persona1@Persona\n",
      "components: Persona2@Persona\n",
      "components: Persona3@Persona\n",
      "components: Persona4@Persona\n",
      "components: Persona5@Persona\n",
      "components: Persona6@Persona\n",
      "components: Persona7@Persona\n",
      "components: Persona8@Persona\n",
      "components: Persona9@Persona\n",
      "out : info_out0\n",
      "out : info_out1\n",
      "out : info_out2\n",
      "out : info_out3\n",
      "out : info_out4\n",
      "out : info_out5\n",
      "out : info_out6\n",
      "out : info_out7\n",
      "out : info_out8\n",
      "out : info_out9\n",
      "in : infoRequest\n",
      "in : inMedios\n",
      "Link : outInfo@Persona0 info_out0\n",
      "Link : infoRequest infoRequest@Persona0\n",
      "Link : inMedios inMedios@Persona0\n",
      "Link : outInfo@Persona1 info_out1\n",
      "Link : infoRequest infoRequest@Persona1\n",
      "Link : inMedios inMedios@Persona1\n",
      "Link : outInfo@Persona2 info_out2\n",
      "Link : infoRequest infoRequest@Persona2\n",
      "Link : inMedios inMedios@Persona2\n",
      "Link : outInfo@Persona3 info_out3\n",
      "Link : infoRequest infoRequest@Persona3\n",
      "Link : inMedios inMedios@Persona3\n",
      "Link : outInfo@Persona4 info_out4\n",
      "Link : infoRequest infoRequest@Persona4\n",
      "Link : inMedios inMedios@Persona4\n",
      "Link : outInfo@Persona5 info_out5\n",
      "Link : infoRequest infoRequest@Persona5\n",
      "Link : inMedios inMedios@Persona5\n",
      "Link : outInfo@Persona6 info_out6\n",
      "Link : infoRequest infoRequest@Persona6\n",
      "Link : inMedios inMedios@Persona6\n",
      "Link : outInfo@Persona7 info_out7\n",
      "Link : infoRequest infoRequest@Persona7\n",
      "Link : inMedios inMedios@Persona7\n",
      "Link : outInfo@Persona8 info_out8\n",
      "Link : infoRequest infoRequest@Persona8\n",
      "Link : inMedios inMedios@Persona8\n",
      "Link : outInfo@Persona9 info_out9\n",
      "Link : infoRequest infoRequest@Persona9\n",
      "Link : inMedios inMedios@Persona9\n",
      "Link : outPort1@Persona0 inPort1@Persona3\n",
      "Link : outPort1@Persona3 inPort1@Persona0\n",
      "Link : outPort2@Persona0 inPort1@Persona1\n",
      "Link : outPort1@Persona1 inPort2@Persona0\n",
      "Link : outPort2@Persona1 inPort1@Persona4\n",
      "Link : outPort1@Persona4 inPort2@Persona1\n",
      "Link : outPort3@Persona1 inPort1@Persona5\n",
      "Link : outPort1@Persona5 inPort3@Persona1\n",
      "Link : outPort1@Persona2 inPort1@Persona8\n",
      "Link : outPort1@Persona8 inPort1@Persona2\n",
      "Link : outPort2@Persona3 inPort2@Persona5\n",
      "Link : outPort2@Persona5 inPort2@Persona3\n",
      "Link : outPort3@Persona3 inPort1@Persona7\n",
      "Link : outPort1@Persona7 inPort3@Persona3\n",
      "Link : outPort2@Persona4 inPort2@Persona8\n",
      "Link : outPort2@Persona8 inPort2@Persona4\n",
      "Link : outPort3@Persona4 inPort2@Persona7\n",
      "Link : outPort2@Persona7 inPort3@Persona4\n",
      "Link : outPort3@Persona5 inPort1@Persona9\n",
      "Link : outPort1@Persona9 inPort3@Persona5\n",
      "Link : outPort4@Persona5 inPort1@Persona6\n",
      "Link : outPort1@Persona6 inPort4@Persona5\n",
      "Link : outPort2@Persona6 inPort3@Persona8\n",
      "Link : outPort3@Persona8 inPort2@Persona6\n",
      "Link : outPort3@Persona7 inPort4@Persona8\n",
      "Link : outPort4@Persona8 inPort3@Persona7\n",
      "\n",
      "[Persona0]\n",
      "p : 0.7267973282587012\n",
      "influenciabilidad : 0.6733234222246247\n",
      "poder_convencimiento : 0.9465962151803362\n",
      "tiempo_sillon : 0.5493608495468616\n",
      "periodo_medio : 999.2916729355509\n",
      "grado : 2\n",
      "\n",
      "[Persona1]\n",
      "p : -0.15453146567973608\n",
      "influenciabilidad : 0.3399513937828157\n",
      "poder_convencimiento : 0.4707274440223709\n",
      "tiempo_sillon : 0.6596370953655675\n",
      "periodo_medio : 999.7225616864972\n",
      "grado : 3\n",
      "\n",
      "[Persona2]\n",
      "p : -1.0\n",
      "influenciabilidad : 0.39275125147405715\n",
      "poder_convencimiento : 0.7312147312264894\n",
      "tiempo_sillon : 0.597376935897265\n",
      "periodo_medio : 995.8407656783905\n",
      "grado : 1\n",
      "\n",
      "[Persona3]\n",
      "p : 0.7848142398891387\n",
      "influenciabilidad : 0.10628837035769623\n",
      "poder_convencimiento : 0.6938914999201413\n",
      "tiempo_sillon : 0.41303520224673174\n",
      "periodo_medio : 989.1093483534243\n",
      "grado : 3\n",
      "\n",
      "[Persona4]\n",
      "p : 0.5385181311447308\n",
      "influenciabilidad : 0.5274767338303846\n",
      "poder_convencimiento : 0.5105669279007439\n",
      "tiempo_sillon : 0.44500314112384143\n",
      "periodo_medio : 1012.1083507586446\n",
      "grado : 3\n",
      "\n",
      "[Persona5]\n",
      "p : -0.5645268233582136\n",
      "influenciabilidad : 0.4968388761504814\n",
      "poder_convencimiento : 0.44359407195965805\n",
      "tiempo_sillon : 0.43572996323006385\n",
      "periodo_medio : 1009.6304690561357\n",
      "grado : 4\n",
      "\n",
      "[Persona6]\n",
      "p : 0.8075458932648646\n",
      "influenciabilidad : 0.027840578549054973\n",
      "poder_convencimiento : 0.7296172730737017\n",
      "tiempo_sillon : 0.35135048575746136\n",
      "periodo_medio : 1012.9323381025222\n",
      "grado : 2\n",
      "\n",
      "[Persona7]\n",
      "p : 1.0\n",
      "influenciabilidad : 0.8372331829852995\n",
      "poder_convencimiento : 0.32499205925782954\n",
      "tiempo_sillon : 0.5679240341074396\n",
      "periodo_medio : 1016.2222320084476\n",
      "grado : 3\n",
      "\n",
      "[Persona8]\n",
      "p : 0.15058900922794402\n",
      "influenciabilidad : 0.5079110599332977\n",
      "poder_convencimiento : 0.43994731652241703\n",
      "tiempo_sillon : 0.032865753619450266\n",
      "periodo_medio : 998.9457706602046\n",
      "grado : 4\n",
      "\n",
      "[Persona9]\n",
      "p : -0.27534634510368705\n",
      "influenciabilidad : 0.451409573487689\n",
      "poder_convencimiento : 0.9528594793545535\n",
      "tiempo_sillon : 0.4284410309778799\n",
      "periodo_medio : 993.3595800084229\n",
      "grado : 1\n",
      "\n",
      "[Medio0]\n",
      "P : 1\n",
      "Periodo_de_emision : 2\n",
      "Poder_de_convencimiento : 0.9\n",
      "\n",
      "[Medio1]\n",
      "P : 0\n",
      "Periodo_de_emision : 1\n",
      "Poder_de_convencimiento : 1\n",
      "\n",
      "[Medio2]\n",
      "P : -1\n",
      "Periodo_de_emision : 3\n",
      "Poder_de_convencimiento : 1\n",
      "\n",
      "[generador]\n",
      "distribution : constant\n",
      "value : 3600\n",
      "init : 1\n",
      "increment : 0\n"
     ]
    }
   ],
   "source": [
    "%%bash -s \"$CDPP_TP1\"\n",
    "\n",
    "cd $1/model\n",
    "\n",
    "cat model.ma"
   ]
  },
  {
   "cell_type": "code",
   "execution_count": 26,
   "metadata": {},
   "outputs": [
    {
     "name": "stdout",
     "output_type": "stream",
     "text": [
      "PCD++: A Tool to Implement n-Dimensional Cell-DEVS models\n",
      "Version 3.0 - March 2003\n",
      "Troccoli A., Rodriguez D., Wainer G., Barylko A., Beyoglonian J., Lopez A.\n",
      "-----------------------------------------------------------------------------\n",
      "PCD++ Extended States: An extended and improved version of CD++ for Cell-DEVS\n",
      "Version 4.1.2 - December 2018\n",
      "Santi L., Castro, R., Pimás, J.\n",
      "-----------------------------------------------------------------------------\n",
      "Discrete Event Simulation Lab\n",
      "Departamento de Computación\n",
      "Facultad de Ciencias Exactas y Naturales\n",
      "Universidad de Buenos Aires, Argentina\n",
      "-----------------------------------------------------------------------------\n",
      "Compiled for standalone simulation\n",
      "\n",
      "\n",
      "Loading models from ./model/model.ma\n",
      "Loading events from ./model/eventos.ev\n",
      "Running parallel simulation. Reading models partition from \n",
      "Model partition details output to: /dev/null*\n",
      "Message log: ./out/logPrueba.log\n",
      "Output to: ./out/salidas.out\n",
      "Tolerance set to: 1e-08\n",
      "Configuration to show real numbers: Width = 12 - Precision = 5\n",
      "Quantum: Not used\n",
      "Evaluate Debug Mode = OFF\n",
      "Flat Cell Debug Mode = OFF\n",
      "Debug Cell Rules Mode = OFF\n",
      "Temporary File created by Preprocessor = /tmp/filejFigDU\n",
      "Printing parser information = OFF\n",
      "\n",
      "Stop at time: 00:10:00:000:0\n",
      "LP 0: initializing simulation objects\n",
      "LP 0: starting simulation (NoTime).\n",
      "Simulation complete!\n",
      "Simulation ended!\n",
      "LP 0 has finished simulation \n"
     ]
    },
    {
     "name": "stderr",
     "output_type": "stream",
     "text": []
    }
   ],
   "source": [
    "%%bash -s \"$CDPP_TP1\"\n",
    "\n",
    "# prueba de que anduvo bien la compilación:\n",
    "\n",
    "cd $1\n",
    "\n",
    "src/bin/cd++ -m ./model/model.ma \\\n",
    "         -e ./model/eventos.ev  \\\n",
    "         -o ./out/salidas.out \\\n",
    "         -l ./out/logPrueba.log \\\n",
    "         -t 00:10:00:00"
   ]
  },
  {
   "cell_type": "code",
   "execution_count": null,
   "metadata": {},
   "outputs": [],
   "source": []
  },
  {
   "cell_type": "markdown",
   "metadata": {},
   "source": [
    "# Experimentos"
   ]
  },
  {
   "cell_type": "markdown",
   "metadata": {},
   "source": [
    "En esta sección usaremos el modelo creado para experimentar vía simulación, cómo evolucionan las opiniones de los distintos integrantes de sociedades a lo largo del tiempo. Setearemos distintas condiciones iniciales en cada experimento, para analizar diferentes posibles escenarios. "
   ]
  },
  {
   "cell_type": "markdown",
   "metadata": {},
   "source": [
    "## Experimento 1: Sociedad heterogénea (uniforme) / sin medios de comunicación"
   ]
  },
  {
   "cell_type": "code",
   "execution_count": null,
   "metadata": {},
   "outputs": [],
   "source": []
  },
  {
   "cell_type": "code",
   "execution_count": null,
   "metadata": {},
   "outputs": [],
   "source": []
  },
  {
   "cell_type": "code",
   "execution_count": null,
   "metadata": {},
   "outputs": [],
   "source": []
  },
  {
   "cell_type": "code",
   "execution_count": null,
   "metadata": {},
   "outputs": [],
   "source": []
  },
  {
   "cell_type": "code",
   "execution_count": null,
   "metadata": {},
   "outputs": [],
   "source": []
  }
 ],
 "metadata": {
  "kernelspec": {
   "display_name": "Python 3 (ipykernel)",
   "language": "python",
   "name": "python3"
  },
  "language_info": {
   "codemirror_mode": {
    "name": "ipython",
    "version": 3
   },
   "file_extension": ".py",
   "mimetype": "text/x-python",
   "name": "python",
   "nbconvert_exporter": "python",
   "pygments_lexer": "ipython3",
   "version": "3.7.0"
  }
 },
 "nbformat": 4,
 "nbformat_minor": 5
}
